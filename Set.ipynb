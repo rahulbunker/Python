{
 "cells": [
  {
   "cell_type": "markdown",
   "id": "96c2edaa-86e9-4911-b867-142957284109",
   "metadata": {},
   "source": [
    "# Set"
   ]
  },
  {
   "cell_type": "markdown",
   "id": "59605ea7-2d5f-4a1c-a3fc-bfc16a486d47",
   "metadata": {},
   "source": [
    "==> Collection of Element\n",
    "\n",
    "==> Unique\n",
    "\n",
    "==> No Index Positions\n",
    "\n",
    "==> Elemets unordered"
   ]
  },
  {
   "cell_type": "code",
   "execution_count": 4,
   "id": "cd65bb00-e4fc-42a8-b746-f3e9770c6e92",
   "metadata": {},
   "outputs": [
    {
     "name": "stdout",
     "output_type": "stream",
     "text": [
      "{1, 2, 33, 5, 6}\n",
      "<class 'set'>\n"
     ]
    }
   ],
   "source": [
    "myset={1,2,1,33,5,6,33,33}\n",
    "print(myset)\n",
    "print(type(myset))"
   ]
  },
  {
   "cell_type": "code",
   "execution_count": 6,
   "id": "095b930c-d6f9-407a-9a0e-2f2ed6ead6dc",
   "metadata": {},
   "outputs": [
    {
     "name": "stdout",
     "output_type": "stream",
     "text": [
      "{1, 2, 33, 5, 6, 5999}\n"
     ]
    }
   ],
   "source": [
    "myset.add(5999)\n",
    "print(myset)"
   ]
  },
  {
   "cell_type": "code",
   "execution_count": 8,
   "id": "7635273a-e146-455f-888f-75a91ff35a5f",
   "metadata": {},
   "outputs": [],
   "source": [
    "myset.add(\"hey\")"
   ]
  },
  {
   "cell_type": "code",
   "execution_count": 10,
   "id": "37faed0e-5d78-4922-b695-fcd5554f2824",
   "metadata": {},
   "outputs": [
    {
     "data": {
      "text/plain": [
       "{1, 2, 33, 5, 5999, 6, 'hey'}"
      ]
     },
     "execution_count": 10,
     "metadata": {},
     "output_type": "execute_result"
    }
   ],
   "source": [
    "myset"
   ]
  },
  {
   "cell_type": "code",
   "execution_count": 16,
   "id": "60b30615-cc16-4998-947e-e4076089283f",
   "metadata": {},
   "outputs": [
    {
     "data": {
      "text/plain": [
       "{1, 2, 33, 5, 5999, 6, 'e', 'h', 'hey', 'l', 'o'}"
      ]
     },
     "execution_count": 16,
     "metadata": {},
     "output_type": "execute_result"
    }
   ],
   "source": [
    "myset.update(\"hello\")\n",
    "myset"
   ]
  },
  {
   "cell_type": "code",
   "execution_count": 19,
   "id": "f44f0334-2794-463d-b18b-25c173946c72",
   "metadata": {},
   "outputs": [
    {
     "data": {
      "text/plain": [
       "{1, 2, 33, 5, 5999, 6, 'e', 'h', 'hey', 'l', 'o', 'rahul'}"
      ]
     },
     "execution_count": 19,
     "metadata": {},
     "output_type": "execute_result"
    }
   ],
   "source": [
    "myset.update([\"rahul\"])\n",
    "myset"
   ]
  },
  {
   "cell_type": "code",
   "execution_count": 21,
   "id": "8f6998ef-8827-410e-b720-fe7d01a66dc1",
   "metadata": {},
   "outputs": [
    {
     "data": {
      "text/plain": [
       "{1, 2, 33, 5, 6, 'e', 'h', 'hey', 'l', 'o', 'rahul'}"
      ]
     },
     "execution_count": 21,
     "metadata": {},
     "output_type": "execute_result"
    }
   ],
   "source": [
    "myset.remove(5999)\n",
    "myset\n",
    "# but ese dubara chalane par error aata hai"
   ]
  },
  {
   "cell_type": "code",
   "execution_count": 29,
   "id": "68ccff0c-1bfa-400e-b744-fc10adedb04d",
   "metadata": {},
   "outputs": [],
   "source": [
    "myset.discard(\"rahul\")"
   ]
  },
  {
   "cell_type": "code",
   "execution_count": 31,
   "id": "647e645d-e93d-4070-9d6c-0bd7913e1a1d",
   "metadata": {},
   "outputs": [
    {
     "data": {
      "text/plain": [
       "{1, 2, 33, 5, 6, 'e', 'h', 'hey', 'l', 'o'}"
      ]
     },
     "execution_count": 31,
     "metadata": {},
     "output_type": "execute_result"
    }
   ],
   "source": [
    "myset"
   ]
  },
  {
   "cell_type": "markdown",
   "id": "f35e6db1-b9c2-4897-bec6-32eb7c784526",
   "metadata": {},
   "source": [
    "# Set in Python"
   ]
  },
  {
   "cell_type": "markdown",
   "id": "ea70e891-e990-4b11-9af3-6750739f804a",
   "metadata": {},
   "source": [
    "Set is the collection of the unordered items.\n",
    "\n",
    "Each element in the set must be unique & immutable.\n",
    "\n",
    "null_set = set( ) #empty set syntax\n",
    "nums = { 1, 2, 3, 4 }\n",
    "\n",
    "set2 = { 1, 2, 2, 2 }\n",
    "#repeated elements stored only once , so it resolved to {1,2}\n",
    "\n",
    "\n",
    "\n"
   ]
  },
  {
   "cell_type": "markdown",
   "id": "598cf4a5-5b25-457c-b326-e0003ee5955f",
   "metadata": {},
   "source": [
    "# Set Methods"
   ]
  },
  {
   "cell_type": "markdown",
   "id": "779cd1ea-396c-44c5-954c-985613d67eac",
   "metadata": {},
   "source": [
    "set.add( el ) #adds an element\n",
    "\n",
    "set.remove( el ) #removes the elem an\n",
    "\n",
    "set.clear( ) #empties the set\n",
    "\n",
    "set.pop( ) #removes a random value\n",
    "\n"
   ]
  },
  {
   "cell_type": "markdown",
   "id": "2513ac08-8b3d-4e37-a522-3603d0fa8b34",
   "metadata": {},
   "source": [
    "set.union( set2 ) #combines both set values & returns new\n",
    "\n",
    "set.intersection( set2 ) #combines common values & returns new"
   ]
  },
  {
   "cell_type": "markdown",
   "id": "7a806a98-bf84-4053-bd64-b0027b88f9fe",
   "metadata": {},
   "source": [
    "# set is mutable but set's elemets are imutable"
   ]
  },
  {
   "cell_type": "code",
   "execution_count": 39,
   "id": "b41ac817-b2f5-4b5f-a1bc-324d4472c004",
   "metadata": {},
   "outputs": [
    {
     "data": {
      "text/plain": [
       "{1, 2, 33, 5, 6, 'e', 'h', 'hey', 'l', 'o'}"
      ]
     },
     "execution_count": 39,
     "metadata": {},
     "output_type": "execute_result"
    }
   ],
   "source": [
    "myset"
   ]
  },
  {
   "cell_type": "code",
   "execution_count": 41,
   "id": "2c3ccdf0-9242-48e4-affc-e9151448ba33",
   "metadata": {},
   "outputs": [
    {
     "data": {
      "text/plain": [
       "10"
      ]
     },
     "execution_count": 41,
     "metadata": {},
     "output_type": "execute_result"
    }
   ],
   "source": [
    "len(myset)"
   ]
  },
  {
   "cell_type": "code",
   "execution_count": 52,
   "id": "30647b1b-e37e-4efa-988e-49845296f793",
   "metadata": {},
   "outputs": [
    {
     "data": {
      "text/plain": [
       "'h'"
      ]
     },
     "execution_count": 52,
     "metadata": {},
     "output_type": "execute_result"
    }
   ],
   "source": [
    "myset.pop()       "
   ]
  },
  {
   "cell_type": "code",
   "execution_count": 58,
   "id": "6d222905-3950-45a8-bbf6-33004d801f09",
   "metadata": {},
   "outputs": [
    {
     "name": "stdout",
     "output_type": "stream",
     "text": [
      "{5, 6, 33, 'l', 'hey', 'o', 'e'}\n",
      "{'h', 2, 3, 5, 'o'}\n"
     ]
    }
   ],
   "source": [
    "myset2={5,2,3,\"h\",\"o\",5}\n",
    "print(myset)\n",
    "print(myset2)"
   ]
  },
  {
   "cell_type": "code",
   "execution_count": 60,
   "id": "47e836d4-476f-44dc-a945-7b644c04e8f3",
   "metadata": {},
   "outputs": [
    {
     "name": "stdout",
     "output_type": "stream",
     "text": [
      "{33, 'h', 2, 3, 5, 6, 'l', 'hey', 'o', 'e'}\n"
     ]
    }
   ],
   "source": [
    "print(myset.union(myset2))"
   ]
  },
  {
   "cell_type": "code",
   "execution_count": 62,
   "id": "3787e145-82cf-46b8-9d6c-03632b118efd",
   "metadata": {},
   "outputs": [
    {
     "name": "stdout",
     "output_type": "stream",
     "text": [
      "{5, 'o'}\n"
     ]
    }
   ],
   "source": [
    "print(myset.intersection(myset2))"
   ]
  },
  {
   "cell_type": "code",
   "execution_count": 64,
   "id": "22bc8759-b41e-40a7-91cf-6edcde3d4182",
   "metadata": {},
   "outputs": [
    {
     "data": {
      "text/plain": [
       "set()"
      ]
     },
     "execution_count": 64,
     "metadata": {},
     "output_type": "execute_result"
    }
   ],
   "source": [
    "myset.clear()\n",
    "myset"
   ]
  },
  {
   "cell_type": "code",
   "execution_count": 66,
   "id": "7448e4ee-1d38-4e5d-8937-48155888e9d6",
   "metadata": {},
   "outputs": [
    {
     "data": {
      "text/plain": [
       "0"
      ]
     },
     "execution_count": 66,
     "metadata": {},
     "output_type": "execute_result"
    }
   ],
   "source": [
    "len(myset)"
   ]
  },
  {
   "cell_type": "markdown",
   "id": "e255a546-b76c-4999-bc4c-68cb8b6f1d69",
   "metadata": {},
   "source": [
    "# Let's Practise"
   ]
  },
  {
   "cell_type": "markdown",
   "id": "8dc6664e-d58d-405d-aa91-dc8dc2c4e9d7",
   "metadata": {},
   "source": [
    "Q.Store following word meanings in a python dictionary :\n",
    "\n",
    "    table : “a piece of furniture”,“list of facts & figures”\n",
    "                cat : “a small animal”\n",
    "\n"
   ]
  },
  {
   "cell_type": "code",
   "execution_count": 72,
   "id": "d12d7d3e-09da-4adb-9891-3f7e49ed6aff",
   "metadata": {},
   "outputs": [
    {
     "name": "stdout",
     "output_type": "stream",
     "text": [
      "{'cat': 'a small animal', 'table': ['a piece of furniture', 'list of facts & figures']}\n"
     ]
    }
   ],
   "source": [
    "mydict={\"cat\":\"a small animal\",\"table\":[\"a piece of furniture\",\"list of facts & figures\"]}\n",
    "print(mydict)"
   ]
  },
  {
   "cell_type": "markdown",
   "id": "a8c7abdc-7786-4a3c-88f4-c3350473dfe0",
   "metadata": {},
   "source": [
    "Q. You are given a list of subjects for students. Assume one classroom is required for 1\n",
    "    subject. How many classrooms are needed by all students.\n",
    "\n",
    "          \"python\",\"java\",\"c++\",\"python\",\"javascript\",\"java\",\n",
    "              \"python\",\"java\",\"c++\",\"c\""
   ]
  },
  {
   "cell_type": "code",
   "execution_count": 76,
   "id": "f26f2488-a9c2-4f2c-bddf-5b541b78c4ba",
   "metadata": {},
   "outputs": [],
   "source": [
    "subjects={\"python\",\"java\",\"c++\",\"python\",\"javascript\",\"java\",\n",
    "          \"python\",\"java\",\"c++\",\"c\"}"
   ]
  },
  {
   "cell_type": "code",
   "execution_count": 80,
   "id": "19328b91-e56d-4ae6-ad15-cedfb90c9405",
   "metadata": {},
   "outputs": [
    {
     "data": {
      "text/plain": [
       "{'c', 'c++', 'java', 'javascript', 'python'}"
      ]
     },
     "execution_count": 80,
     "metadata": {},
     "output_type": "execute_result"
    }
   ],
   "source": [
    "subjects"
   ]
  },
  {
   "cell_type": "code",
   "execution_count": 82,
   "id": "4e69bacd-f4e8-44b9-9707-4d9fcaf9cc1e",
   "metadata": {},
   "outputs": [
    {
     "data": {
      "text/plain": [
       "5"
      ]
     },
     "execution_count": 82,
     "metadata": {},
     "output_type": "execute_result"
    }
   ],
   "source": [
    "len(subjects)"
   ]
  },
  {
   "cell_type": "markdown",
   "id": "2977dfc1-469d-42b1-a2a4-fc301bc726a8",
   "metadata": {},
   "source": [
    "Q.  WAP to enter marks of 3 subjects from the user and store\n",
    "        them in a dictionary. Start with an empty dictionary & \n",
    "        add one by one. Use subject name as key & marks as value."
   ]
  },
  {
   "cell_type": "code",
   "execution_count": 91,
   "id": "14215a79-f101-41b5-abfa-44c2a2bfe7de",
   "metadata": {},
   "outputs": [
    {
     "name": "stdin",
     "output_type": "stream",
     "text": [
      "marks of hindi: 56\n",
      "marks of maths: 36\n",
      "marks of sst: 95\n"
     ]
    },
    {
     "name": "stdout",
     "output_type": "stream",
     "text": [
      "{'hindi': 56, 'maths': 36, 'sst': 95}\n"
     ]
    }
   ],
   "source": [
    "marks={}\n",
    "hindi=int(input(\"marks of hindi:\"))\n",
    "maths=int(input(\"marks of maths:\"))\n",
    "sst=int(input(\"marks of sst:\"))\n",
    "marks[\"hindi\"]=hindi\n",
    "marks[\"maths\"]=maths\n",
    "marks[\"sst\"]=sst\n",
    "print(marks)"
   ]
  },
  {
   "cell_type": "code",
   "execution_count": 93,
   "id": "d4c29ca7-ef10-473f-ac26-2e7e89b64f8e",
   "metadata": {},
   "outputs": [
    {
     "name": "stdin",
     "output_type": "stream",
     "text": [
      "marks of hindi: 25\n",
      "marks of maths: 56\n",
      "marks of sst: 89\n"
     ]
    },
    {
     "name": "stdout",
     "output_type": "stream",
     "text": [
      "{'hindi': 25, 'maths': 56, 'sst': 89}\n"
     ]
    }
   ],
   "source": [
    "marks={}\n",
    "hindi=int(input(\"marks of hindi:\"))\n",
    "maths=int(input(\"marks of maths:\"))\n",
    "sst=int(input(\"marks of sst:\"))\n",
    "marks.update({\"hindi\":hindi})\n",
    "marks.update({\"maths\":maths,\"sst\":sst})\n",
    "print(marks)"
   ]
  },
  {
   "cell_type": "markdown",
   "id": "6eda6022-d3f5-4323-ad0b-cb699ae49ccc",
   "metadata": {},
   "source": [
    "Q.  Figure out a way to store 9 & 9.0 as separate values in the set.\n",
    "        (You can take help of built-in data types)"
   ]
  },
  {
   "cell_type": "code",
   "execution_count": 96,
   "id": "8596059f-3d98-441a-98de-659c1f103000",
   "metadata": {},
   "outputs": [
    {
     "data": {
      "text/plain": [
       "{9}"
      ]
     },
     "execution_count": 96,
     "metadata": {},
     "output_type": "execute_result"
    }
   ],
   "source": [
    "values={9,9.0}\n",
    "values"
   ]
  },
  {
   "cell_type": "code",
   "execution_count": 98,
   "id": "77dba38e-d1b3-4e5c-a0cb-93ac6a947fca",
   "metadata": {},
   "outputs": [
    {
     "data": {
      "text/plain": [
       "{9, 9.25}"
      ]
     },
     "execution_count": 98,
     "metadata": {},
     "output_type": "execute_result"
    }
   ],
   "source": [
    "values={9,9.25}\n",
    "values"
   ]
  },
  {
   "cell_type": "code",
   "execution_count": 100,
   "id": "85687a35-2e16-427c-a395-e6cdede19f6e",
   "metadata": {},
   "outputs": [
    {
     "data": {
      "text/plain": [
       "{9, '9.0'}"
      ]
     },
     "execution_count": 100,
     "metadata": {},
     "output_type": "execute_result"
    }
   ],
   "source": [
    "values={9,\"9.0\"}\n",
    "values"
   ]
  },
  {
   "cell_type": "code",
   "execution_count": 102,
   "id": "4a969004-9c1f-48a2-b068-0e1d4a5fa903",
   "metadata": {},
   "outputs": [
    {
     "data": {
      "text/plain": [
       "{('float', 9.0), ('int', 9)}"
      ]
     },
     "execution_count": 102,
     "metadata": {},
     "output_type": "execute_result"
    }
   ],
   "source": [
    "values={(\"float\",9.0),(\"int\",9)}\n",
    "values"
   ]
  },
  {
   "cell_type": "code",
   "execution_count": null,
   "id": "0c8e6bf8-5453-476b-945e-9e722b86ef59",
   "metadata": {},
   "outputs": [],
   "source": []
  }
 ],
 "metadata": {
  "kernelspec": {
   "display_name": "Python 3 (ipykernel)",
   "language": "python",
   "name": "python3"
  },
  "language_info": {
   "codemirror_mode": {
    "name": "ipython",
    "version": 3
   },
   "file_extension": ".py",
   "mimetype": "text/x-python",
   "name": "python",
   "nbconvert_exporter": "python",
   "pygments_lexer": "ipython3",
   "version": "3.12.4"
  }
 },
 "nbformat": 4,
 "nbformat_minor": 5
}
