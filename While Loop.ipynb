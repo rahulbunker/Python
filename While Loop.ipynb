{
 "cells": [
  {
   "cell_type": "markdown",
   "id": "13aabde0-f377-44a6-9977-b24fac9b74ca",
   "metadata": {},
   "source": [
    "# While Loop"
   ]
  },
  {
   "cell_type": "markdown",
   "id": "c7a5d91e-1003-406c-9996-9f239b066416",
   "metadata": {},
   "source": [
    "Loops==>Loops are used to repeat instructions ."
   ]
  },
  {
   "cell_type": "code",
   "execution_count": 5,
   "id": "0d68e361-6603-459b-b7ef-e96f362a68d6",
   "metadata": {},
   "outputs": [
    {
     "name": "stdout",
     "output_type": "stream",
     "text": [
      "100\n",
      "99\n",
      "98\n",
      "97\n",
      "96\n",
      "95\n",
      "94\n",
      "93\n",
      "92\n",
      "91\n",
      "90\n",
      "89\n",
      "88\n",
      "87\n",
      "86\n",
      "85\n",
      "84\n",
      "83\n",
      "82\n",
      "81\n",
      "80\n",
      "79\n",
      "78\n",
      "77\n",
      "76\n",
      "75\n",
      "74\n",
      "73\n",
      "72\n",
      "71\n",
      "70\n",
      "69\n",
      "68\n",
      "67\n",
      "66\n",
      "65\n",
      "64\n",
      "63\n",
      "62\n",
      "61\n",
      "60\n",
      "59\n",
      "58\n",
      "57\n",
      "56\n",
      "55\n",
      "54\n",
      "53\n",
      "52\n",
      "51\n",
      "50\n",
      "49\n",
      "48\n",
      "47\n",
      "46\n",
      "45\n",
      "44\n",
      "43\n",
      "42\n",
      "41\n",
      "40\n",
      "39\n",
      "38\n",
      "37\n",
      "36\n",
      "35\n",
      "34\n",
      "33\n",
      "32\n",
      "31\n",
      "30\n",
      "29\n",
      "28\n",
      "27\n",
      "26\n",
      "25\n",
      "24\n",
      "23\n",
      "22\n",
      "21\n",
      "20\n",
      "19\n",
      "18\n",
      "17\n",
      "16\n",
      "15\n",
      "14\n",
      "13\n",
      "12\n",
      "11\n",
      "10\n",
      "9\n",
      "8\n",
      "7\n",
      "6\n",
      "5\n",
      "4\n",
      "3\n",
      "2\n",
      "1\n"
     ]
    }
   ],
   "source": [
    "n=100\n",
    "while(n>=1):\n",
    "    print(n)\n",
    "    n=n-1\n",
    "    "
   ]
  },
  {
   "cell_type": "code",
   "execution_count": 9,
   "id": "9f2ec612-5ea3-4797-82a0-c128ca03d355",
   "metadata": {},
   "outputs": [
    {
     "name": "stdin",
     "output_type": "stream",
     "text": [
      "enter the table: 5\n"
     ]
    },
    {
     "name": "stdout",
     "output_type": "stream",
     "text": [
      "5\n",
      "10\n",
      "15\n",
      "20\n",
      "25\n",
      "30\n",
      "35\n",
      "40\n",
      "45\n",
      "50\n"
     ]
    }
   ],
   "source": [
    "n=int(input(\"enter the table:\"))\n",
    "x=1\n",
    "while(x<=10):\n",
    "    print(x*n)\n",
    "    x+=1"
   ]
  },
  {
   "cell_type": "code",
   "execution_count": 21,
   "id": "03fb2fd8-ed9f-4fae-a1ea-e29a8608845d",
   "metadata": {},
   "outputs": [
    {
     "name": "stdout",
     "output_type": "stream",
     "text": [
      "1\n",
      "4\n",
      "9\n",
      "16\n",
      "25\n",
      "36\n",
      "49\n",
      "64\n",
      "81\n",
      "100\n"
     ]
    }
   ],
   "source": [
    "# print the elemets of the following list using a loop.\n",
    "\n",
    "list=[1,4,9,16,25,36,49,64,81,100]\n",
    "x=len(list)\n",
    "n=0\n",
    "while(n<x):\n",
    "    print(list[n])\n",
    "    n=n+1"
   ]
  },
  {
   "cell_type": "code",
   "execution_count": 43,
   "id": "6ab34c0d-9327-41c2-a2f5-6d74799ace69",
   "metadata": {},
   "outputs": [
    {
     "name": "stdout",
     "output_type": "stream",
     "text": [
      "not found\n",
      "not found\n",
      "not found\n",
      "not found\n",
      "not found\n",
      "found at index: 36\n",
      "not found\n",
      "not found\n",
      "found at index: 36\n",
      "not found\n",
      "not found\n"
     ]
    }
   ],
   "source": [
    "# serch for a number x in this tuple using loop.\n",
    "x=36\n",
    "nums=(1,4,9,16,25,36,49,64,36,81,100)\n",
    "i=0\n",
    "while(i<len(nums)):\n",
    "    if(nums[i]==x):\n",
    "        print(\"found at index:\",nums[i])\n",
    "\n",
    "    else:\n",
    "         print(\"not found\")\n",
    "\n",
    "    i=i+1\n"
   ]
  },
  {
   "cell_type": "markdown",
   "id": "ba14fd9d-8cb3-44c3-9c32-1451bad6c7d5",
   "metadata": {},
   "source": [
    "# break and continue keyword"
   ]
  },
  {
   "cell_type": "code",
   "execution_count": 1,
   "id": "c813f5df-47cc-4c47-95bd-63994c2f8cdb",
   "metadata": {},
   "outputs": [
    {
     "name": "stdout",
     "output_type": "stream",
     "text": [
      "not found\n",
      "not found\n",
      "not found\n",
      "not found\n",
      "not found\n",
      "found at index: 36\n",
      "end of loop\n"
     ]
    }
   ],
   "source": [
    "# serch for a number x in this tuple using loop.\n",
    "x=36\n",
    "nums=(1,4,9,16,25,36,49,64,36,81,100)\n",
    "i=0\n",
    "while(i<len(nums)):\n",
    "    if(nums[i]==x):\n",
    "        print(\"found at index:\",nums[i])\n",
    "        break\n",
    "\n",
    "    else:\n",
    "         print(\"not found\")\n",
    "\n",
    "\n",
    "\n",
    "\n",
    "    i=i+1\n",
    "\n",
    "print(\"end of loop\")\n"
   ]
  },
  {
   "cell_type": "code",
   "execution_count": 3,
   "id": "8b50850a-1d08-4edf-8a3b-5d0e98fbf38f",
   "metadata": {},
   "outputs": [
    {
     "name": "stdout",
     "output_type": "stream",
     "text": [
      "0\n",
      "1\n",
      "2\n",
      "4\n",
      "5\n",
      "6\n",
      "7\n",
      "8\n",
      "9\n",
      "10\n"
     ]
    }
   ],
   "source": [
    "i=0\n",
    "while(i<=10):\n",
    "    if(i==3):\n",
    "        i=i+1\n",
    "        continue  #skip\n",
    "\n",
    "    print(i)\n",
    "    i+=1"
   ]
  },
  {
   "cell_type": "markdown",
   "id": "0391bd31-c9a3-436e-8d58-195861e1ecad",
   "metadata": {},
   "source": [
    "# pass Statement"
   ]
  },
  {
   "cell_type": "markdown",
   "id": "34c64662-d73a-4368-9705-c9f88b7c427e",
   "metadata": {},
   "source": [
    "pass is a null statement that does nothing. It is used as a placeholder for future code."
   ]
  },
  {
   "cell_type": "code",
   "execution_count": 7,
   "id": "d8727b9f-1596-412b-b3f7-e9799d13afa2",
   "metadata": {},
   "outputs": [
    {
     "name": "stdout",
     "output_type": "stream",
     "text": [
      "hello\n"
     ]
    }
   ],
   "source": [
    "for i in range(1,25):\n",
    "    pass\n",
    "\n",
    "print(\"hello\")"
   ]
  },
  {
   "cell_type": "code",
   "execution_count": null,
   "id": "f2c9ae00-caeb-4d70-b65e-2ca3104f8fc3",
   "metadata": {},
   "outputs": [],
   "source": []
  }
 ],
 "metadata": {
  "kernelspec": {
   "display_name": "Python 3 (ipykernel)",
   "language": "python",
   "name": "python3"
  },
  "language_info": {
   "codemirror_mode": {
    "name": "ipython",
    "version": 3
   },
   "file_extension": ".py",
   "mimetype": "text/x-python",
   "name": "python",
   "nbconvert_exporter": "python",
   "pygments_lexer": "ipython3",
   "version": "3.12.4"
  }
 },
 "nbformat": 4,
 "nbformat_minor": 5
}
