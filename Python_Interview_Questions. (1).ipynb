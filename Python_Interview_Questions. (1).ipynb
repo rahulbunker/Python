{
 "cells": [
  {
   "cell_type": "raw",
   "id": "d0616ad6-8f7d-4475-98f8-bafb60315018",
   "metadata": {},
   "source": [
    "Q:1 What is Compiler ?   "
   ]
  },
  {
   "cell_type": "raw",
   "id": "6e4e78ed-980d-401d-8c9c-7551ec43f591",
   "metadata": {},
   "source": [
    "ANS:A compiler converts human-readable code into computer-understandable code at once, before execution."
   ]
  },
  {
   "cell_type": "raw",
   "id": "02738b3a-d94d-4443-b94c-ac47b680906e",
   "metadata": {},
   "source": [
    "or:\n",
    "A compiler is a computer program that translates source code written in a high-level programming language into machine code, bytecode, or another programming language so that it can be executed by a computer.\n",
    "\n"
   ]
  },
  {
   "cell_type": "code",
   "execution_count": null,
   "id": "27e418fa-3bb8-4300-820a-82966f5569e4",
   "metadata": {},
   "outputs": [],
   "source": []
  },
  {
   "cell_type": "raw",
   "id": "9e0a1007-1cc8-41d7-a8b6-71383deb6aa7",
   "metadata": {},
   "source": [
    "Q:2 What is Python? What are its key features?"
   ]
  },
  {
   "cell_type": "raw",
   "id": "5b142dda-2431-4b6e-9f05-28f8c3dff9f6",
   "metadata": {},
   "source": [
    "Python is a high-level, interpreted, general-purpose programming language. It was created by Guido van Rossum and released in 1991. Python is known for its simplicity, readability, and versatility, making it popular among beginners and professionals alike."
   ]
  },
  {
   "cell_type": "raw",
   "id": "01921ce3-0c8e-44dc-80b4-1452ddbb63d7",
   "metadata": {},
   "source": [
    "✅ 1. Easy to Learn and Use\n",
    "Python has a simple and clean syntax, similar to English.\n",
    "\n",
    "\n",
    "✅ 2. Interpreted Language\n",
    "Python executes code line by line using an interpreter.\n",
    "\n",
    "No need to compile before running.\n",
    "\n",
    "✅ 3. High-Level Language\n",
    "You don't need to manage memory or hardware directly.\n",
    "It abstracts complex details like memory management, so you can focus on logic.\n",
    "\n",
    "Easy for beginners and professionals.\n",
    "\n",
    "✅ 4. Dynamically Typed\n",
    "No need to declare data types.\n",
    "\n",
    "\n",
    "✅ 5. Object-Oriented\n",
    "Supports classes and objects.\n",
    "\n",
    "\n",
    "✅ 6. Large Standard Library\n",
    "Comes with built-in modules for math, file handling, web, etc.\n",
    "\n",
    "✅ 7. Platform Independent\n",
    "Write code once, run it anywhere (Windows, Mac, Linux).\n",
    "\n",
    "✅ 8. Open Source\n",
    "Free to use and distribute. Huge community support.\n",
    "\n",
    "✅ 9. Extensive Libraries and Frameworks\n",
    "For web: Django, Flask\n",
    "\n",
    "For data: NumPy, Pandas\n",
    "\n",
    "For ML: TensorFlow, Scikit-learn\n",
    "\n",
    "✅ 10. Portable and Embeddable\n",
    "Python code can be integrated with other languages like C or C++."
   ]
  },
  {
   "cell_type": "code",
   "execution_count": null,
   "id": "c4c8452b-2aae-4d2a-9bcf-cb734a5b4942",
   "metadata": {},
   "outputs": [],
   "source": []
  },
  {
   "cell_type": "raw",
   "id": "29e1d14a-a61b-4b57-8bb9-273504f44cdd",
   "metadata": {},
   "source": [
    "Q:3 What are Python’s data types?\n",
    "\n",
    "int, float, str, bool, list, tuple, set, dict, etc.\n",
    "\n"
   ]
  },
  {
   "cell_type": "code",
   "execution_count": null,
   "id": "dcbb15b4-44ae-454f-8d6c-9b23c5727648",
   "metadata": {},
   "outputs": [],
   "source": []
  },
  {
   "cell_type": "raw",
   "id": "08fcc493-5dd9-49f3-91b0-48fdb5f5e566",
   "metadata": {},
   "source": [
    "Q:4 What is the difference between list and tuple?\n",
    "\n",
    "\n",
    "🔹 List:\n",
    "List is mutable – you can add, remove, or change elements.\n",
    "\n",
    "Defined using square brackets [].\n",
    "\n",
    "Example: fruits = [\"apple\", \"banana\", \"mango\"]\n",
    "\n",
    "Lists have more built-in methods like append(), pop(), etc.\n",
    "\n",
    "Slower in performance compared to tuples.\n",
    "\n",
    "Preferred when the data needs to change.\n",
    "\n",
    "🔸 Tuple:\n",
    "Tuple is immutable – you cannot modify elements after creation.\n",
    "\n",
    "Defined using round brackets ().\n",
    "\n",
    "Example: colors = (\"red\", \"green\", \"blue\")\n",
    "\n",
    "Tuples have fewer methods.\n",
    "\n",
    "Faster and more memory-efficient.\n",
    "\n",
    "Preferred when the data should stay constant.\n",
    "\n",
    "\n",
    "\n",
    "\n",
    "\n",
    "\n",
    "\n",
    "\n",
    "\n",
    "\n",
    "\"\n",
    "\n"
   ]
  },
  {
   "cell_type": "raw",
   "id": "96470563-1eeb-4b55-a1df-ddc682e6e842",
   "metadata": {},
   "source": [
    "\n",
    "Answer:\n",
    "\n",
    "\"In Python, both lists and tuples are used to store collections of items. However, the main difference lies in their mutability. A list is mutable, meaning we can modify it after creation—such as adding, removing, or updating elements. Lists are defined using square brackets, for example: my_list = [1, 2, 3].\n",
    "\n",
    "On the other hand, a tuple is immutable, which means once it's created, its elements cannot be changed. Tuples are defined using parentheses, like my_tuple = (1, 2, 3).\n",
    "\n",
    "Due to immutability, tuples are generally faster and more memory-efficient, and they are preferred when we want to ensure that the data remains constant throughout the program."
   ]
  },
  {
   "cell_type": "code",
   "execution_count": null,
   "id": "028d3544-6472-4eec-b292-7b8c16a964f8",
   "metadata": {},
   "outputs": [],
   "source": []
  },
  {
   "cell_type": "raw",
   "id": "616aa09d-830f-4f77-8b9f-40a8ed4720e8",
   "metadata": {},
   "source": [
    "Q:5 How is Python an interpreted language?"
   ]
  },
  {
   "cell_type": "code",
   "execution_count": 49,
   "id": "54799b3e-ace1-40b5-8c4e-948f64c32873",
   "metadata": {},
   "outputs": [
    {
     "ename": "SyntaxError",
     "evalue": "invalid character '✅' (U+2705) (143989127.py, line 4)",
     "output_type": "error",
     "traceback": [
      "\u001b[1;36m  Cell \u001b[1;32mIn[49], line 4\u001b[1;36m\u001b[0m\n\u001b[1;33m    ✅ Explanation:\u001b[0m\n\u001b[1;37m    ^\u001b[0m\n\u001b[1;31mSyntaxError\u001b[0m\u001b[1;31m:\u001b[0m invalid character '✅' (U+2705)\n"
     ]
    }
   ],
   "source": [
    "Python is called an interpreted language because its code is executed line by line by an interpreter rather than being \n",
    "compiled into machine code all at once (like in C or C++).\n",
    "\n",
    "✅ Explanation:\n",
    "When you run a Python program:\n",
    "\n",
    "Source Code (.py) → is fed to the Python interpreter\n",
    "\n",
    "Interpreter converts it into bytecode\n",
    "\n",
    "Bytecode is then executed by the Python Virtual Machine (PVM) line-by-line\n",
    "\n",
    "\n",
    "\n"
   ]
  },
  {
   "cell_type": "code",
   "execution_count": 51,
   "id": "f951c2e0-5bc4-4095-ac50-c7b0076d4c2a",
   "metadata": {},
   "outputs": [],
   "source": [
    "# Your Python Code (.py)\n",
    "#         ↓\n",
    "#   Python Interpreter\n",
    "#         # ↓\n",
    "#      Bytecode (.pyc)\n",
    "#         ↓\n",
    "# Python Virtual Machine (PVM)\n",
    "#         ↓\n",
    "#   Output (line-by-line execution)\n"
   ]
  },
  {
   "cell_type": "code",
   "execution_count": null,
   "id": "6683d4aa-5046-4730-aff7-ebbf7d8b78af",
   "metadata": {},
   "outputs": [],
   "source": []
  },
  {
   "cell_type": "raw",
   "id": "a6ed2f98-76f8-4eef-92e8-e5ebc0a159c4",
   "metadata": {},
   "source": [
    "Q:6 What are Python functions? How do you define them?\n",
    "\n"
   ]
  },
  {
   "cell_type": "raw",
   "id": "716e62e5-a299-431c-a55e-b48fb9bad906",
   "metadata": {},
   "source": [
    "In Python, a function is a block of reusable code that performs a specific task. Functions help organize code, reduce repetition, and make programs easier to understand and maintain.\n",
    "\n",
    "🔧 Types of Functions in Python:\n",
    "\n",
    "Built-in Functions → Provided by Python (e.g., print(), len(), type())\n",
    "\n",
    "User-defined Functions → Created by the programmer using def keyword\n",
    "\n"
   ]
  },
  {
   "cell_type": "code",
   "execution_count": 54,
   "id": "cf546673-c088-4761-9fdb-8efcefd3947b",
   "metadata": {},
   "outputs": [],
   "source": [
    "# Built-in functions are pre-defined functions provided by Python — you can use them directly without writing any extra code or importing modules."
   ]
  },
  {
   "cell_type": "code",
   "execution_count": null,
   "id": "4d4ae693-3d58-4e8b-abff-9748da12ce0e",
   "metadata": {},
   "outputs": [],
   "source": []
  },
  {
   "cell_type": "raw",
   "id": "575d932b-32dc-4908-a835-b8e6b5c1ffd4",
   "metadata": {},
   "source": [
    "Q:7 What is the difference between is and ==?\n",
    "\n"
   ]
  },
  {
   "cell_type": "raw",
   "id": "cda0f00d-d389-4680-9f43-1445b04743ed",
   "metadata": {},
   "source": [
    " == (Double Equals) – Equality Operator\n",
    "\n",
    "\n",
    "== checks if the values of two variables are equal, regardless of whether they are stored at the same memory location"
   ]
  },
  {
   "cell_type": "code",
   "execution_count": 57,
   "id": "09d27080-a73d-4b92-9d99-84e0117805ea",
   "metadata": {},
   "outputs": [
    {
     "name": "stdout",
     "output_type": "stream",
     "text": [
      "True\n"
     ]
    }
   ],
   "source": [
    "a = [1, 2, 3]\n",
    "b = [1, 2, 3]\n",
    "print(a == b)   # Output: True (values are same)\n",
    " # Even though a and b are different objects, their values are the same, so == returns True."
   ]
  },
  {
   "cell_type": "raw",
   "id": "51abdd3c-29da-477a-8e2b-603ba44ddd3f",
   "metadata": {},
   "source": [
    " is – Identity Operator\n",
    "is checks whether two variables point to the same object in memory.\n",
    "\n",
    "It checks the identity, not just the content."
   ]
  },
  {
   "cell_type": "code",
   "execution_count": 59,
   "id": "3fbb4210-8795-48ae-97c3-c3618309e73f",
   "metadata": {},
   "outputs": [
    {
     "name": "stdout",
     "output_type": "stream",
     "text": [
      "False\n"
     ]
    }
   ],
   "source": [
    "a = [1, 2, 3]\n",
    "b = [1, 2, 3]\n",
    "print(a is b)   # Output: False (different memory locations)\n",
    "# Although a and b have the same value, they are two different objects in memory, so a is b returns False."
   ]
  },
  {
   "cell_type": "code",
   "execution_count": 61,
   "id": "98e1471c-dfb2-4a5a-857e-7112f5b26b74",
   "metadata": {},
   "outputs": [
    {
     "name": "stdout",
     "output_type": "stream",
     "text": [
      "True\n"
     ]
    }
   ],
   "source": [
    "\n",
    "x = 10\n",
    "y = 10\n",
    "print(x is y)   # Output: True (Python reuses small integers)\n",
    "# In this case, Python may point x and y to the same object in memory due to object caching for small integers and strings."
   ]
  },
  {
   "cell_type": "code",
   "execution_count": null,
   "id": "21bc4eed-2ed2-407c-a6bf-08831011c484",
   "metadata": {},
   "outputs": [],
   "source": []
  },
  {
   "cell_type": "raw",
   "id": "497748d2-6b02-40e3-bd4e-7394f9a1175f",
   "metadata": {},
   "source": [
    "Q:8 Explain the use of *args and **kwargs."
   ]
  },
  {
   "cell_type": "raw",
   "id": "6bf87f16-7f76-4d7d-b140-861845134eea",
   "metadata": {},
   "source": [
    "🔹 *args → Non-keyword variable-length arguments\n",
    "\n",
    "Accepts any number of positional arguments (like a tuple).\n",
    "\n",
    "Use when you want to pass multiple values without naming them."
   ]
  },
  {
   "cell_type": "code",
   "execution_count": 64,
   "id": "05a8bf46-d9cd-4c0f-9f50-0f5eb8e7cba9",
   "metadata": {},
   "outputs": [
    {
     "name": "stdout",
     "output_type": "stream",
     "text": [
      "10\n"
     ]
    }
   ],
   "source": [
    "def add(*args):\n",
    "    total = 0\n",
    "    for num in args:\n",
    "        total += num\n",
    "    return total\n",
    "\n",
    "print(add(1, 2, 3, 4))   # Output: 10\n"
   ]
  },
  {
   "cell_type": "raw",
   "id": "a36d8dc7-e330-474e-9910-5e636faf52b5",
   "metadata": {},
   "source": [
    "🔸 **kwargs → Keyword variable-length arguments\n",
    "\n",
    "Accepts any number of named arguments (like a dictionary).\n",
    "\n",
    "Use when you want to pass multiple key-value pairs."
   ]
  },
  {
   "cell_type": "code",
   "execution_count": 66,
   "id": "100ef836-0d87-4fb2-80d2-638d51364273",
   "metadata": {},
   "outputs": [
    {
     "name": "stdout",
     "output_type": "stream",
     "text": [
      "name = Rahul\n",
      "age = 25\n",
      "country = India\n"
     ]
    }
   ],
   "source": [
    "def greet(**kwargs):\n",
    "    for key, value in kwargs.items():\n",
    "        print(f\"{key} = {value}\")\n",
    "\n",
    "greet(name=\"Rahul\", age=25, country=\"India\")\n"
   ]
  },
  {
   "cell_type": "code",
   "execution_count": 68,
   "id": "08c53ca0-b3b3-4497-ad83-41e8bafeaa5e",
   "metadata": {},
   "outputs": [
    {
     "name": "stdout",
     "output_type": "stream",
     "text": [
      "Args: (1, 2, 3)\n",
      "Kwargs: {'name': 'Rahul', 'age': 20}\n"
     ]
    }
   ],
   "source": [
    "#  use both together\n",
    "\n",
    "def demo(*args, **kwargs):\n",
    "    print(\"Args:\", args)\n",
    "    print(\"Kwargs:\", kwargs)\n",
    "\n",
    "demo(1, 2, 3, name=\"Rahul\", age=20)\n"
   ]
  },
  {
   "cell_type": "raw",
   "id": "8b90ca68-43a5-4dd4-9c4a-cb51566b121c",
   "metadata": {},
   "source": [
    "| Syntax     | Type            | Accepts                   | Stored As  |\n",
    "| ---------- | --------------- | ------------------------- | ---------- |\n",
    "| `*args`    | Positional args | Variable-length arguments | Tuple      |\n",
    "| `**kwargs` | Keyword args    | Variable-length key-value | Dictionary |\n"
   ]
  },
  {
   "cell_type": "code",
   "execution_count": null,
   "id": "1b23b9d0-69ae-406c-8816-fc602a9ff41c",
   "metadata": {},
   "outputs": [],
   "source": []
  },
  {
   "cell_type": "raw",
   "id": "80802d4b-42d9-4e09-9e93-b2d0851bb39f",
   "metadata": {},
   "source": [
    "Q:9 What are Python modules and packages?\n",
    "\n"
   ]
  },
  {
   "cell_type": "raw",
   "id": "53e12df3-7b27-4980-831d-700f2cef1add",
   "metadata": {},
   "source": [
    "A module in Python is simply a file containing Python code — functions, classes, variables — that you can reuse in other programs using the import keyword.\n",
    "\n",
    "➤ In simple words:\n",
    "\n",
    "A module helps you organize your code and reuse functionality without rewriting it again and again."
   ]
  },
  {
   "cell_type": "raw",
   "id": "ddd5c15d-8094-4700-8d6f-8526079d758e",
   "metadata": {},
   "source": [
    "✅ Types of Modules in Python\n",
    "1. Built-in Modules\n",
    "\n",
    "Provided by Python by default.\n",
    "\n",
    "Examples: math, os, random, datetime\n",
    "\n",
    "2. User-Defined Modules\n",
    "\n",
    "You can create your own module by saving functions or classes in a .py file.\n",
    "Example: my_module.py\n",
    "\n",
    "3. External Modules\n",
    "\n",
    "Not part of Python by default.\n",
    "\n",
    "Must be installed using pip (Python package manager).\n",
    "\n",
    "Examples: numpy, pandas, flask\n",
    "    \n",
    "    !pip instal numpy\n",
    "\n",
    "\n",
    "\n",
    "\n",
    "\n"
   ]
  },
  {
   "cell_type": "code",
   "execution_count": null,
   "id": "2c9bf272-f96c-4367-a41f-e38861ab6118",
   "metadata": {},
   "outputs": [],
   "source": []
  },
  {
   "cell_type": "raw",
   "id": "7c150fa5-56a1-4bff-aa9b-7a9e5daa6e63",
   "metadata": {},
   "source": [
    "🎯 Why Use Modules?\n",
    "\n",
    "✅ Code Reusability\n",
    "\n",
    "✅ Organized Code Structure\n",
    "\n",
    "✅ Avoid Code Duplication\n",
    "\n",
    "✅ Access to Powerful Libraries\n",
    "\n"
   ]
  },
  {
   "cell_type": "code",
   "execution_count": null,
   "id": "b4439956-1af8-4512-8054-92fc92ad0d50",
   "metadata": {},
   "outputs": [],
   "source": []
  },
  {
   "cell_type": "code",
   "execution_count": 73,
   "id": "92410310-3bad-4820-a6c6-df06b605db5f",
   "metadata": {},
   "outputs": [
    {
     "name": "stdout",
     "output_type": "stream",
     "text": [
      "3.141592653589793\n"
     ]
    }
   ],
   "source": [
    "# import the whole module\n",
    "import math\n",
    "print(math.pi)\n"
   ]
  },
  {
   "cell_type": "code",
   "execution_count": 75,
   "id": "34c7e1b0-a9b2-40ff-aa46-4bd72e7cffa0",
   "metadata": {},
   "outputs": [
    {
     "name": "stdout",
     "output_type": "stream",
     "text": [
      "4.0\n"
     ]
    }
   ],
   "source": [
    "# import spesic function / class\n",
    "from math import sqrt\n",
    "print(sqrt(16))\n"
   ]
  },
  {
   "cell_type": "code",
   "execution_count": 77,
   "id": "e48cd541-9929-46ad-a1ec-7e91d7b41efa",
   "metadata": {},
   "outputs": [],
   "source": [
    "# import with alias\n",
    "\n",
    "import pandas as pd\n"
   ]
  },
  {
   "cell_type": "code",
   "execution_count": 79,
   "id": "98a81021-41ab-466e-9635-b67e3f66925e",
   "metadata": {},
   "outputs": [],
   "source": [
    "# import everything ( not recommended)\n",
    "\n",
    "from math import *"
   ]
  },
  {
   "cell_type": "code",
   "execution_count": null,
   "id": "6c7205af-9950-488d-8514-fa45e27fdcbb",
   "metadata": {},
   "outputs": [],
   "source": []
  },
  {
   "cell_type": "raw",
   "id": "cdd42bf5-801f-4e97-94ff-b326a5d45b74",
   "metadata": {},
   "source": [
    "A package in Python is a collection of related modules organized in a folder (directory) that contains a special file named __init__.py.\n",
    "It helps you organize your code into multiple files for better structure and reusability.\n",
    "\n",
    "🧾 In Simple Words:\n",
    "    \n",
    "A package = folder that contains multiple Python files (modules) + __init__.py."
   ]
  },
  {
   "cell_type": "code",
   "execution_count": 82,
   "id": "e796a5cc-3ff1-4b60-b666-98a6ba0d9332",
   "metadata": {},
   "outputs": [
    {
     "ename": "SyntaxError",
     "evalue": "invalid character '←' (U+2190) (2879328097.py, line 1)",
     "output_type": "error",
     "traceback": [
      "\u001b[1;36m  Cell \u001b[1;32mIn[82], line 1\u001b[1;36m\u001b[0m\n\u001b[1;33m    my_package/              ← This is the package\u001b[0m\n\u001b[1;37m                             ^\u001b[0m\n\u001b[1;31mSyntaxError\u001b[0m\u001b[1;31m:\u001b[0m invalid character '←' (U+2190)\n"
     ]
    }
   ],
   "source": [
    "my_package/              ← This is the package\n",
    "│\n",
    "├── __init__.py          ← Marks this folder as a Python package\n",
    "├── file1.py             ← Module 1\n",
    "├── file2.py             ← Module 2\n"
   ]
  },
  {
   "cell_type": "raw",
   "id": "ea0a693c-f71b-4a1b-94a3-4e4b80b2ad87",
   "metadata": {},
   "source": [
    "\n",
    "🧠 Why Use Packages?\n",
    "\n",
    "\n",
    "✅ To organize code in large projects\n",
    "\n",
    "✅ To reuse code across multiple files\n",
    "\n",
    "✅ To avoid name conflicts using namespaces\n",
    "\n",
    "✅ Makes code clean, readable, and maintainable"
   ]
  },
  {
   "cell_type": "code",
   "execution_count": null,
   "id": "3d9de6a6-1922-4c5e-9496-b9f01a8accfe",
   "metadata": {},
   "outputs": [],
   "source": [
    "\n"
   ]
  },
  {
   "cell_type": "raw",
   "id": "6407f025-7d5f-479c-9718-ba79e9bb731f",
   "metadata": {},
   "source": [
    "Q:10 What is the difference between local and global variables?\n",
    "\n"
   ]
  },
  {
   "cell_type": "raw",
   "id": "88848f1c-57fa-4018-a683-ca6aada34a0b",
   "metadata": {},
   "source": [
    "🔹 Local Variable:\n",
    "\n",
    "Declared inside a function.\n",
    "\n",
    "Can be accessed only within that function.\n",
    "\n",
    "Created when the function is called, and destroyed when it ends.\n",
    "\n",
    "\n",
    "🔸 Global Variable:\n",
    "\n",
    "Declared outside all functions.\n",
    "\n",
    "Can be accessed anywhere in the program (inside and outside functions).\n",
    "\n",
    "Exists as long as the program runs.\n",
    "\n"
   ]
  },
  {
   "cell_type": "code",
   "execution_count": null,
   "id": "ef4074f0-b689-4920-9f1d-75c6c1f29485",
   "metadata": {},
   "outputs": [],
   "source": []
  },
  {
   "cell_type": "raw",
   "id": "26108e33-f7fa-4299-b76d-889728b8fda7",
   "metadata": {},
   "source": [
    "Q:11 What is a lambda function?"
   ]
  },
  {
   "cell_type": "raw",
   "id": "477bfe82-15f8-4ddc-a2be-937d3808a9e5",
   "metadata": {},
   "source": [
    "A lambda function is a small, anonymous (nameless) function defined using the lambda keyword.\n",
    "\n",
    "It is used for short, simple functions that are created on the fly, usually for quick operations.\n",
    "\n"
   ]
  },
  {
   "cell_type": "code",
   "execution_count": null,
   "id": "5611c21d-552f-44f8-8260-08ddbdb43c50",
   "metadata": {},
   "outputs": [],
   "source": []
  },
  {
   "cell_type": "code",
   "execution_count": null,
   "id": "430468f4-8fac-40b3-b076-d00bdc175db5",
   "metadata": {},
   "outputs": [],
   "source": []
  },
  {
   "cell_type": "code",
   "execution_count": null,
   "id": "1307afe3-26fa-49d4-b34a-81590d47118d",
   "metadata": {},
   "outputs": [],
   "source": []
  },
  {
   "cell_type": "code",
   "execution_count": null,
   "id": "4af63fcb-932e-4966-aaa2-09b6ad2f4048",
   "metadata": {},
   "outputs": [],
   "source": []
  },
  {
   "cell_type": "code",
   "execution_count": null,
   "id": "f6cc8258-ae90-4d7d-9b9a-ebd3cd3bd444",
   "metadata": {},
   "outputs": [],
   "source": []
  }
 ],
 "metadata": {
  "kernelspec": {
   "display_name": "Python 3 (ipykernel)",
   "language": "python",
   "name": "python3"
  },
  "language_info": {
   "codemirror_mode": {
    "name": "ipython",
    "version": 3
   },
   "file_extension": ".py",
   "mimetype": "text/x-python",
   "name": "python",
   "nbconvert_exporter": "python",
   "pygments_lexer": "ipython3",
   "version": "3.12.4"
  }
 },
 "nbformat": 4,
 "nbformat_minor": 5
}
