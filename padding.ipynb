{
  "nbformat": 4,
  "nbformat_minor": 0,
  "metadata": {
    "colab": {
      "provenance": []
    },
    "kernelspec": {
      "name": "python3",
      "display_name": "Python 3"
    },
    "language_info": {
      "name": "python"
    }
  },
  "cells": [
    {
      "cell_type": "code",
      "execution_count": 1,
      "metadata": {
        "id": "ymyc-wyqPSg1"
      },
      "outputs": [],
      "source": [
        "from tensorflow.keras.preprocessing.sequence import pad_sequences\n"
      ]
    },
    {
      "cell_type": "code",
      "source": [
        "data=[[1,2,3,4],[5,6]]\n",
        "padded=pad_sequences(data,padding='post')"
      ],
      "metadata": {
        "id": "ro26pB7jPg2Y"
      },
      "execution_count": 2,
      "outputs": []
    },
    {
      "cell_type": "code",
      "source": [
        "padded"
      ],
      "metadata": {
        "colab": {
          "base_uri": "https://localhost:8080/"
        },
        "id": "2n3VtRHNPumQ",
        "outputId": "8610e051-5bbb-4aa5-f4b3-bf66502c3944"
      },
      "execution_count": 3,
      "outputs": [
        {
          "output_type": "execute_result",
          "data": {
            "text/plain": [
              "array([[1, 2, 3, 4],\n",
              "       [5, 6, 0, 0]], dtype=int32)"
            ]
          },
          "metadata": {},
          "execution_count": 3
        }
      ]
    },
    {
      "cell_type": "code",
      "source": [
        "data=[[1,2,3,4],[5,6]]\n",
        "padded=pad_sequences(data,padding='post',maxlen=3)\n",
        "padded"
      ],
      "metadata": {
        "colab": {
          "base_uri": "https://localhost:8080/"
        },
        "id": "er_dnt2zPwmP",
        "outputId": "82555cfc-97f2-42b2-f3f5-3171cf2158cd"
      },
      "execution_count": 6,
      "outputs": [
        {
          "output_type": "execute_result",
          "data": {
            "text/plain": [
              "array([[2, 3, 4],\n",
              "       [5, 6, 0]], dtype=int32)"
            ]
          },
          "metadata": {},
          "execution_count": 6
        }
      ]
    },
    {
      "cell_type": "code",
      "source": [
        "# Masking rule:when we use padding when we tell to the model that zero / paddings values ignor it."
      ],
      "metadata": {
        "id": "c5cbOJcXP8Xc"
      },
      "execution_count": 7,
      "outputs": []
    },
    {
      "cell_type": "code",
      "source": [
        "# Bucketing(Grouping): same length sequences throw the group(bucket),because this model use less padding  and training will be fast."
      ],
      "metadata": {
        "id": "3lP6L1BEQlk2"
      },
      "execution_count": 8,
      "outputs": []
    },
    {
      "cell_type": "code",
      "source": [
        "# truncating : if koi seq. bahut jyda bda hai to usko cut kar do / sirf recentpart rkho ( ex. last 100 steps)"
      ],
      "metadata": {
        "id": "hMHFOxvpROyL"
      },
      "execution_count": 9,
      "outputs": []
    },
    {
      "cell_type": "code",
      "source": [
        "# varying size data= input ki alag alg lenth size"
      ],
      "metadata": {
        "id": "n4KhjuF-RhNQ"
      },
      "execution_count": 10,
      "outputs": []
    },
    {
      "cell_type": "code",
      "source": [
        "# string padding\n",
        "text = \"hello\"\n",
        "print(text.ljust(10, '-'))  # Output: 'hello-----'\n"
      ],
      "metadata": {
        "colab": {
          "base_uri": "https://localhost:8080/"
        },
        "id": "h0f6AmUCSAOJ",
        "outputId": "4967fb9b-e539-4c7d-ed19-1141fec7fa35"
      },
      "execution_count": 15,
      "outputs": [
        {
          "output_type": "stream",
          "name": "stdout",
          "text": [
            "hello-----\n"
          ]
        }
      ]
    },
    {
      "cell_type": "code",
      "source": [
        "text=\"rahul\"\n",
        "print(text.rjust(15,\"0\"))"
      ],
      "metadata": {
        "colab": {
          "base_uri": "https://localhost:8080/"
        },
        "id": "42qnPY-aVA6B",
        "outputId": "37e6aeff-253c-4da6-9aa4-184fdc22da6f"
      },
      "execution_count": 17,
      "outputs": [
        {
          "output_type": "stream",
          "name": "stdout",
          "text": [
            "0000000000rahul\n"
          ]
        }
      ]
    },
    {
      "cell_type": "code",
      "source": [
        "text = \"hello\"\n",
        "print(text.center(11, '='))  # Output: '===hello==='\n"
      ],
      "metadata": {
        "colab": {
          "base_uri": "https://localhost:8080/"
        },
        "id": "OxMxi4S4VPFD",
        "outputId": "23751139-c649-4ba7-c7d0-fc522e34647d"
      },
      "execution_count": 20,
      "outputs": [
        {
          "output_type": "stream",
          "name": "stdout",
          "text": [
            "===hello===\n"
          ]
        }
      ]
    },
    {
      "cell_type": "code",
      "source": [
        "# number padding"
      ],
      "metadata": {
        "id": "JxQJNIVsVrmS"
      },
      "execution_count": 21,
      "outputs": []
    },
    {
      "cell_type": "code",
      "source": [
        "num = \"42\"\n",
        "print(num.zfill(5))  # Output: '00042'\n"
      ],
      "metadata": {
        "colab": {
          "base_uri": "https://localhost:8080/"
        },
        "id": "lIXbk_ZKV7BC",
        "outputId": "d2e47e78-8270-413b-c67a-45129d02e212"
      },
      "execution_count": 22,
      "outputs": [
        {
          "output_type": "stream",
          "name": "stdout",
          "text": [
            "00042\n"
          ]
        }
      ]
    },
    {
      "cell_type": "code",
      "source": [
        "num = 7\n",
        "print(\"{:04}\".format(num))  # Output: '0007'\n",
        "print(f\"{num:04}\")          # Output: '0007'\n"
      ],
      "metadata": {
        "colab": {
          "base_uri": "https://localhost:8080/"
        },
        "id": "-y4X1xFTV7jF",
        "outputId": "cb0ab329-78e9-48a7-a087-4573faaae8ce"
      },
      "execution_count": 23,
      "outputs": [
        {
          "output_type": "stream",
          "name": "stdout",
          "text": [
            "0007\n",
            "0007\n"
          ]
        }
      ]
    },
    {
      "cell_type": "code",
      "source": [
        "x=\"20\"\n",
        "print(x.zfill(5))"
      ],
      "metadata": {
        "colab": {
          "base_uri": "https://localhost:8080/"
        },
        "id": "A0gsAofLWFM4",
        "outputId": "1952e975-1f2e-4d07-ff06-0612b436e949"
      },
      "execution_count": 25,
      "outputs": [
        {
          "output_type": "stream",
          "name": "stdout",
          "text": [
            "00020\n"
          ]
        }
      ]
    },
    {
      "cell_type": "code",
      "source": [
        "num=52\n",
        "print(\"{:04}\".format(num))"
      ],
      "metadata": {
        "colab": {
          "base_uri": "https://localhost:8080/"
        },
        "id": "zXnjeDgMWMU3",
        "outputId": "1840ead0-3da2-4ea7-aae1-4e4a3ece05fd"
      },
      "execution_count": 26,
      "outputs": [
        {
          "output_type": "stream",
          "name": "stdout",
          "text": [
            "0052\n"
          ]
        }
      ]
    },
    {
      "cell_type": "code",
      "source": [
        "print(f\"{num:05}\")"
      ],
      "metadata": {
        "colab": {
          "base_uri": "https://localhost:8080/"
        },
        "id": "rUCEo4GkWdoM",
        "outputId": "d3d65b97-c907-44a2-a23c-bbba52e6ce96"
      },
      "execution_count": 31,
      "outputs": [
        {
          "output_type": "stream",
          "name": "stdout",
          "text": [
            "00052\n"
          ]
        }
      ]
    },
    {
      "cell_type": "code",
      "source": [
        "# list padding"
      ],
      "metadata": {
        "id": "kF8AE-tAWk4q"
      },
      "execution_count": 32,
      "outputs": []
    },
    {
      "cell_type": "code",
      "source": [
        "lst = [1, 2]\n",
        "target_length = 5\n",
        "padded = lst + [0] * (target_length - len(lst))\n",
        "print(padded)  # Output: [1, 2, 0, 0, 0]\n"
      ],
      "metadata": {
        "colab": {
          "base_uri": "https://localhost:8080/"
        },
        "id": "s2lcAVxmW9lf",
        "outputId": "033da432-6448-45d1-ae3b-ca67f6860e0e"
      },
      "execution_count": 33,
      "outputs": [
        {
          "output_type": "stream",
          "name": "stdout",
          "text": [
            "[1, 2, 0, 0, 0]\n"
          ]
        }
      ]
    },
    {
      "cell_type": "code",
      "source": [
        "list=[2,4]\n",
        "target_length=5\n",
        "padded=list+[0]*(target_length - len(list))\n",
        "print(padded)"
      ],
      "metadata": {
        "colab": {
          "base_uri": "https://localhost:8080/"
        },
        "id": "sH_O9wg5W-Bc",
        "outputId": "da50d8a0-fb5e-4580-a83b-26888dfb6cca"
      },
      "execution_count": 34,
      "outputs": [
        {
          "output_type": "stream",
          "name": "stdout",
          "text": [
            "[2, 4, 0, 0, 0]\n"
          ]
        }
      ]
    },
    {
      "cell_type": "code",
      "source": [
        "x=[5,6,9]\n",
        "t=10\n",
        "p=x+[0]*(t-len(x))\n",
        "print(p)"
      ],
      "metadata": {
        "colab": {
          "base_uri": "https://localhost:8080/"
        },
        "id": "DbM91fQ9XUl-",
        "outputId": "38ad1097-a3a5-4b86-d53a-9b86199ce152"
      },
      "execution_count": 35,
      "outputs": [
        {
          "output_type": "stream",
          "name": "stdout",
          "text": [
            "[5, 6, 9, 0, 0, 0, 0, 0, 0, 0]\n"
          ]
        }
      ]
    },
    {
      "cell_type": "code",
      "source": [
        "# padding in Numpy"
      ],
      "metadata": {
        "id": "AZfef3D0XfZX"
      },
      "execution_count": 36,
      "outputs": []
    },
    {
      "cell_type": "code",
      "source": [
        "import numpy as np\n",
        "arr = np.array([1, 2, 3])\n",
        "padded = np.pad(arr, ( 2,3), constant_values=0)\n",
        "print(padded)  # Output: [0 0 1 2 3 0 0 0]\n"
      ],
      "metadata": {
        "colab": {
          "base_uri": "https://localhost:8080/"
        },
        "id": "2-qtpjO2XqUJ",
        "outputId": "d05f6a7f-505b-4398-9da7-4c641477f779"
      },
      "execution_count": 41,
      "outputs": [
        {
          "output_type": "stream",
          "name": "stdout",
          "text": [
            "[0 0 1 2 3 0 0 0]\n"
          ]
        }
      ]
    },
    {
      "cell_type": "code",
      "source": [
        "arr=np.array([2,6,5,56,23])\n",
        "padded=np.pad(arr,(2,3),constant_values=0)\n",
        "print(padded)"
      ],
      "metadata": {
        "colab": {
          "base_uri": "https://localhost:8080/"
        },
        "id": "xexjmMKaXrBU",
        "outputId": "296d4b4b-ca01-4f94-bb8d-0db874069195"
      },
      "execution_count": 48,
      "outputs": [
        {
          "output_type": "stream",
          "name": "stdout",
          "text": [
            "[ 0  0  2  6  5 56 23  0  0  0]\n"
          ]
        }
      ]
    },
    {
      "cell_type": "code",
      "source": [
        "# padding in deep learning\n",
        "from tensorflow.keras.preprocessing.sequence import pad_sequences\n",
        "\n",
        "sequences = [[1, 2], [3, 4, 5]]\n",
        "padded_seq = pad_sequences(sequences, padding='post')\n",
        "print(padded_seq)\n",
        "\n"
      ],
      "metadata": {
        "colab": {
          "base_uri": "https://localhost:8080/"
        },
        "id": "rx9c6S88Yaf-",
        "outputId": "4b1e2709-65b0-45c5-a9d3-3f8c909fd0f7"
      },
      "execution_count": 50,
      "outputs": [
        {
          "output_type": "stream",
          "name": "stdout",
          "text": [
            "[[1 2 0]\n",
            " [3 4 5]]\n"
          ]
        }
      ]
    },
    {
      "cell_type": "code",
      "source": [],
      "metadata": {
        "id": "17Su3P9RZDwL"
      },
      "execution_count": null,
      "outputs": []
    }
  ]
}