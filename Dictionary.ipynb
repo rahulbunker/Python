{
 "cells": [
  {
   "cell_type": "markdown",
   "id": "77f84883-f76f-4e12-bf1f-4eba002d59ef",
   "metadata": {},
   "source": [
    "# Dictionary"
   ]
  },
  {
   "cell_type": "raw",
   "id": "cd28f855-b786-463f-97f6-890f9095accf",
   "metadata": {},
   "source": [
    "* Data Structure ==>  {key:value}\n",
    "\n",
    "* Key Identifier : Unique\n",
    "\n",
    "* May be unique or duplicate\n",
    "\n",
    "* Mutuable / ordered\n",
    "\n",
    "* No index position"
   ]
  },
  {
   "cell_type": "code",
   "execution_count": 2,
   "id": "b42057d2-6688-4496-881e-04b13d677a82",
   "metadata": {},
   "outputs": [
    {
     "data": {
      "text/plain": [
       "dict"
      ]
     },
     "execution_count": 2,
     "metadata": {},
     "output_type": "execute_result"
    }
   ],
   "source": [
    "mydictionary={10:\"rahul\"}\n",
    "type(mydictionary)"
   ]
  },
  {
   "cell_type": "code",
   "execution_count": 6,
   "id": "ac0b5cbc-78b9-467d-a00c-aa5ed77e9790",
   "metadata": {},
   "outputs": [
    {
     "data": {
      "text/plain": [
       "'rahul'"
      ]
     },
     "execution_count": 6,
     "metadata": {},
     "output_type": "execute_result"
    }
   ],
   "source": [
    "mydictionary[10]   #10 key value"
   ]
  },
  {
   "cell_type": "markdown",
   "id": "627a48bb-a5af-4062-a338-16adf052fce4",
   "metadata": {},
   "source": [
    "### update"
   ]
  },
  {
   "cell_type": "code",
   "execution_count": 9,
   "id": "9b4a6da8-b434-4681-ab4f-6c4f1ad38243",
   "metadata": {},
   "outputs": [],
   "source": [
    "mydictionary[10]=\"Jatin\""
   ]
  },
  {
   "cell_type": "code",
   "execution_count": 11,
   "id": "4f342f9e-f1c5-4aaa-a9dc-2be7af89f14e",
   "metadata": {},
   "outputs": [
    {
     "data": {
      "text/plain": [
       "{10: 'Jatin'}"
      ]
     },
     "execution_count": 11,
     "metadata": {},
     "output_type": "execute_result"
    }
   ],
   "source": [
    "mydictionary"
   ]
  },
  {
   "cell_type": "markdown",
   "id": "55f4225f-84b8-48de-b880-7dbf1be6d5c8",
   "metadata": {},
   "source": [
    "### Insert"
   ]
  },
  {
   "cell_type": "code",
   "execution_count": 16,
   "id": "d92c810a-a3ed-4073-9d1a-87d892391c75",
   "metadata": {},
   "outputs": [
    {
     "data": {
      "text/plain": [
       "{10: 'ram', 20: 'sita'}"
      ]
     },
     "execution_count": 16,
     "metadata": {},
     "output_type": "execute_result"
    }
   ],
   "source": [
    "mydictionary={10:\"ram\",20:\"sita\"}\n",
    "mydictionary"
   ]
  },
  {
   "cell_type": "code",
   "execution_count": 18,
   "id": "8ce95652-0a85-4ec9-9eb1-ffd879f504ba",
   "metadata": {},
   "outputs": [],
   "source": [
    "mydictionary[50]=\"sumit\"   # insert"
   ]
  },
  {
   "cell_type": "code",
   "execution_count": 20,
   "id": "44432412-03ab-43fe-b2a8-c6c840b3005b",
   "metadata": {},
   "outputs": [
    {
     "data": {
      "text/plain": [
       "{10: 'ram', 20: 'sita', 50: 'sumit'}"
      ]
     },
     "execution_count": 20,
     "metadata": {},
     "output_type": "execute_result"
    }
   ],
   "source": [
    "mydictionary"
   ]
  },
  {
   "cell_type": "markdown",
   "id": "5a00e875-e403-49d7-9005-f34df13b85c6",
   "metadata": {},
   "source": [
    "### delete"
   ]
  },
  {
   "cell_type": "code",
   "execution_count": 23,
   "id": "455bdd99-692c-450e-b447-c578a42c0238",
   "metadata": {},
   "outputs": [
    {
     "data": {
      "text/plain": [
       "'sita'"
      ]
     },
     "execution_count": 23,
     "metadata": {},
     "output_type": "execute_result"
    }
   ],
   "source": [
    "x=mydictionary.pop(20)\n",
    "x"
   ]
  },
  {
   "cell_type": "code",
   "execution_count": 25,
   "id": "d745d53a-ace7-4b0f-a60f-06fa4532f460",
   "metadata": {},
   "outputs": [
    {
     "data": {
      "text/plain": [
       "{10: 'ram', 50: 'sumit'}"
      ]
     },
     "execution_count": 25,
     "metadata": {},
     "output_type": "execute_result"
    }
   ],
   "source": [
    "mydictionary"
   ]
  },
  {
   "cell_type": "code",
   "execution_count": 27,
   "id": "97614b5f-9faf-4aa9-b4ec-bcb619e0bda5",
   "metadata": {},
   "outputs": [
    {
     "data": {
      "text/plain": [
       "{10: 'ram'}"
      ]
     },
     "execution_count": 27,
     "metadata": {},
     "output_type": "execute_result"
    }
   ],
   "source": [
    "mydictionary={10:\"rahul\",10:\"ram\"}\n",
    "mydictionary   # last updated value leta hai"
   ]
  },
  {
   "cell_type": "code",
   "execution_count": 29,
   "id": "0464b43e-563d-4508-8357-9aa012ab96fe",
   "metadata": {},
   "outputs": [],
   "source": [
    " # mydictionary[key]=value"
   ]
  },
  {
   "cell_type": "code",
   "execution_count": 33,
   "id": "31ca0f54-a7ac-4a4f-95f3-607964b739c0",
   "metadata": {},
   "outputs": [
    {
     "name": "stdout",
     "output_type": "stream",
     "text": [
      "{'h': 25, 'e': 25, 'y': 25, 'l': 25, 'o': 25, 'r': 25, 'a': 25, 'u': 25}\n"
     ]
    }
   ],
   "source": [
    "mydictionary={}\n",
    "for i in \"heyhellorahul\":\n",
    "    mydictionary[i]=25\n",
    "\n",
    "print(mydictionary)"
   ]
  },
  {
   "cell_type": "code",
   "execution_count": 35,
   "id": "ce8d9c61-c16b-48c6-b6a6-c53a01779cfa",
   "metadata": {},
   "outputs": [
    {
     "name": "stdout",
     "output_type": "stream",
     "text": [
      "h\n",
      "e\n",
      "l\n",
      "l\n",
      "o\n",
      "h\n",
      "e\n",
      "y\n",
      "r\n",
      "a\n",
      "h\n",
      "u\n",
      "l\n",
      "total words :  13\n"
     ]
    }
   ],
   "source": [
    "count=0\n",
    "mydict={}\n",
    "for i in \"helloheyrahul\":\n",
    "    print(i)\n",
    "    count=count+1\n",
    "\n",
    "print(\"total words : \" , count)"
   ]
  },
  {
   "cell_type": "code",
   "execution_count": 37,
   "id": "a8f0fb93-5513-4cf0-830f-49edefa1e77c",
   "metadata": {},
   "outputs": [
    {
     "name": "stdout",
     "output_type": "stream",
     "text": [
      "{'total': 13}\n"
     ]
    }
   ],
   "source": [
    "### count of digit\n",
    "\n",
    "mydict={\"total\":0}\n",
    "for i in \"heyhellorahul\":\n",
    "    mydict[\"total\"]+=1\n",
    "\n",
    "print(mydict)"
   ]
  },
  {
   "cell_type": "markdown",
   "id": "3307d51b-41ae-4bd7-bc78-15c3987e296d",
   "metadata": {},
   "source": [
    "### Q. How many vowels and consonates are there ?"
   ]
  },
  {
   "cell_type": "code",
   "execution_count": 50,
   "id": "42de4f20-9e92-48b3-ae3d-f6435b992d62",
   "metadata": {},
   "outputs": [
    {
     "name": "stdout",
     "output_type": "stream",
     "text": [
      "{'e': 3, 'o': 1, 'a': 2, 'u': 1, 'i': 1}\n",
      "{'h': 3, 'l': 3, ' ': 5, 'm': 2, 'r': 3, '.': 1}\n"
     ]
    }
   ],
   "source": [
    "vowels={}\n",
    "con={}\n",
    "x=\"hello mr. rahul i am here\"\n",
    "for i in x:\n",
    "    if i in \"aeiou\":\n",
    "        if i in vowels:\n",
    "            vowels[i]+=1\n",
    "\n",
    "        else:\n",
    "            vowels[i]=1\n",
    "\n",
    "    elif(i not in \"aeiou\"):\n",
    "        if i in con:\n",
    "            con[i]+=1\n",
    "\n",
    "        else:\n",
    "            con[i]=1\n",
    "\n",
    "print(vowels)\n",
    "print(con)        \n",
    "        "
   ]
  },
  {
   "cell_type": "code",
   "execution_count": 48,
   "id": "00547e51-6550-4bff-967a-4c25f75eb248",
   "metadata": {},
   "outputs": [
    {
     "name": "stdout",
     "output_type": "stream",
     "text": [
      "{'e': 3, 'o': 1, 'a': 2, 'u': 1, 'i': 1}\n",
      "{'h': 3, 'l': 3, 'm': 2, 'r': 3}\n"
     ]
    }
   ],
   "source": [
    "vowels = {}\n",
    "con = {}\n",
    "x = \"hello mr. rahul i am here\"\n",
    "\n",
    "for i in x:\n",
    "    if i in \"aeiou\":  # Check for vowels\n",
    "        if i in vowels:\n",
    "            vowels[i] += 1\n",
    "        else:\n",
    "            vowels[i] = 1\n",
    "\n",
    "    elif i.isalpha():  # Check for consonants (ignoring spaces and punctuation)\n",
    "        if i in con:\n",
    "            con[i] += 1\n",
    "        else:\n",
    "            con[i] = 1\n",
    "\n",
    "print(vowels)\n",
    "print(con)\n"
   ]
  },
  {
   "cell_type": "markdown",
   "id": "f7737c23-92c0-4563-9bce-d23adbadd015",
   "metadata": {},
   "source": [
    "Dictionary in Python\n",
    "\n",
    "Dictionaries are used to store data values in key:value pairs\n",
    "\n",
    "“key” : value\n",
    "\n",
    "They are unordered, mutable(changeable) & don’t allow duplicate keys\n",
    "\n",
    "dict[”name”], dict[”cgpa”], dict[”marks”]\n",
    "\n",
    "dict[”key”] =\n",
    "\n",
    "“value” #to assign or add new"
   ]
  },
  {
   "cell_type": "markdown",
   "id": "c51e3339-1caf-4b39-888f-af721293e219",
   "metadata": {},
   "source": [
    "## Dictionary Methods"
   ]
  },
  {
   "cell_type": "raw",
   "id": "57a77fd4-4783-4bae-afc7-52a31d29164c",
   "metadata": {},
   "source": [
    "* myDict.keys( ) #returns all keys\n",
    "\n",
    "* myDict.values( ) #returns all values\n",
    "\n",
    "* myDict.items( ) #returns all (key, val) pairs as tuples\n",
    "\n",
    "* myDict.get( “key““ ) #returns the key according to value\n",
    "\n",
    "* myDict.update( newDict ) #inserts the specified items to the dictionary\n"
   ]
  },
  {
   "cell_type": "raw",
   "id": "a578b025-7ff6-4a6f-a44f-3eba7b41a120",
   "metadata": {},
   "source": []
  },
  {
   "cell_type": "code",
   "execution_count": 58,
   "id": "332a2eb3-4fd9-4d31-9b48-63413febb0fb",
   "metadata": {},
   "outputs": [
    {
     "name": "stdout",
     "output_type": "stream",
     "text": [
      "{'h': 25, 'e': 25, 'y': 25, 'l': 25, 'o': 25, 'r': 25, 'a': 25, 'u': 25}\n"
     ]
    }
   ],
   "source": [
    "print(mydictionary)"
   ]
  },
  {
   "cell_type": "code",
   "execution_count": 60,
   "id": "b71754e2-f455-4106-a157-8763fe04b3e9",
   "metadata": {},
   "outputs": [
    {
     "data": {
      "text/plain": [
       "dict_keys(['h', 'e', 'y', 'l', 'o', 'r', 'a', 'u'])"
      ]
     },
     "execution_count": 60,
     "metadata": {},
     "output_type": "execute_result"
    }
   ],
   "source": [
    "mydictionary.keys()  # retuens all keys from dictonary"
   ]
  },
  {
   "cell_type": "code",
   "execution_count": 62,
   "id": "a8b838cd-befd-4cf3-b208-367548581a62",
   "metadata": {},
   "outputs": [
    {
     "data": {
      "text/plain": [
       "['h', 'e', 'y', 'l', 'o', 'r', 'a', 'u']"
      ]
     },
     "execution_count": 62,
     "metadata": {},
     "output_type": "execute_result"
    }
   ],
   "source": [
    "list(mydictionary.keys())  # typecast"
   ]
  },
  {
   "cell_type": "code",
   "execution_count": 64,
   "id": "0fc1c171-ab52-4bf3-89f7-e32254ec0ba2",
   "metadata": {},
   "outputs": [
    {
     "data": {
      "text/plain": [
       "8"
      ]
     },
     "execution_count": 64,
     "metadata": {},
     "output_type": "execute_result"
    }
   ],
   "source": [
    "len(mydictionary)"
   ]
  },
  {
   "cell_type": "code",
   "execution_count": 66,
   "id": "0228f14c-6abc-4480-a82c-5f598a656fc3",
   "metadata": {},
   "outputs": [
    {
     "data": {
      "text/plain": [
       "8"
      ]
     },
     "execution_count": 66,
     "metadata": {},
     "output_type": "execute_result"
    }
   ],
   "source": [
    "len(list(mydictionary.keys()))"
   ]
  },
  {
   "cell_type": "code",
   "execution_count": 68,
   "id": "cc0a5e07-ade2-45fd-886a-2e3534a9e64a",
   "metadata": {},
   "outputs": [
    {
     "data": {
      "text/plain": [
       "dict_values([25, 25, 25, 25, 25, 25, 25, 25])"
      ]
     },
     "execution_count": 68,
     "metadata": {},
     "output_type": "execute_result"
    }
   ],
   "source": [
    "mydictionary.values()"
   ]
  },
  {
   "cell_type": "code",
   "execution_count": 70,
   "id": "9bd35dfa-d292-4719-9c71-fa7e6c444cb8",
   "metadata": {},
   "outputs": [
    {
     "data": {
      "text/plain": [
       "dict_values(['ram', 'sita'])"
      ]
     },
     "execution_count": 70,
     "metadata": {},
     "output_type": "execute_result"
    }
   ],
   "source": [
    "mydictionary={10:\"ram\",20:\"sita\"}\n",
    "mydictionary.values()"
   ]
  },
  {
   "cell_type": "code",
   "execution_count": 72,
   "id": "c25581f1-9a72-44d9-b5ad-03b5b5d2c99b",
   "metadata": {},
   "outputs": [
    {
     "data": {
      "text/plain": [
       "['ram', 'sita']"
      ]
     },
     "execution_count": 72,
     "metadata": {},
     "output_type": "execute_result"
    }
   ],
   "source": [
    "mydictionary={10:\"ram\",20:\"sita\"}\n",
    "list(mydictionary.values())"
   ]
  },
  {
   "cell_type": "code",
   "execution_count": 74,
   "id": "5e7c19ce-1ac7-4759-80a7-410913fc3337",
   "metadata": {},
   "outputs": [
    {
     "data": {
      "text/plain": [
       "dict_items([(10, 'ram'), (20, 'sita')])"
      ]
     },
     "execution_count": 74,
     "metadata": {},
     "output_type": "execute_result"
    }
   ],
   "source": [
    "mydictionary.items()"
   ]
  },
  {
   "cell_type": "code",
   "execution_count": 80,
   "id": "dc7570e3-f4dc-4770-8b41-f2f319ac0510",
   "metadata": {},
   "outputs": [
    {
     "data": {
      "text/plain": [
       "'ram'"
      ]
     },
     "execution_count": 80,
     "metadata": {},
     "output_type": "execute_result"
    }
   ],
   "source": [
    "mydictionary={10:\"ram\",20:\"sita\"}\n",
    "mydictionary.get(10)"
   ]
  },
  {
   "cell_type": "code",
   "execution_count": null,
   "id": "ff61d19f-fafb-43ed-9d1c-a1824e17862d",
   "metadata": {},
   "outputs": [],
   "source": [
    " mydictionary.get(1000)  #this provide me none\n",
    "\n",
    " mydictionary[1000]     # but this provide me error"
   ]
  },
  {
   "cell_type": "code",
   "execution_count": 87,
   "id": "266e1895-dbb5-4a0d-b17d-a5828c9fecbe",
   "metadata": {},
   "outputs": [
    {
     "data": {
      "text/plain": [
       "{10: 'ram', 20: 'sita', 'city': 'jaipur', 'state': 'goa'}"
      ]
     },
     "execution_count": 87,
     "metadata": {},
     "output_type": "execute_result"
    }
   ],
   "source": [
    "mydictionary.update({\"city\":\"jaipur\",\"state\":\"goa\"})\n",
    "mydictionary"
   ]
  },
  {
   "cell_type": "code",
   "execution_count": null,
   "id": "efc4022a-c608-4256-870e-8a5fd2dcf6d3",
   "metadata": {},
   "outputs": [],
   "source": []
  }
 ],
 "metadata": {
  "kernelspec": {
   "display_name": "Python 3 (ipykernel)",
   "language": "python",
   "name": "python3"
  },
  "language_info": {
   "codemirror_mode": {
    "name": "ipython",
    "version": 3
   },
   "file_extension": ".py",
   "mimetype": "text/x-python",
   "name": "python",
   "nbconvert_exporter": "python",
   "pygments_lexer": "ipython3",
   "version": "3.12.4"
  }
 },
 "nbformat": 4,
 "nbformat_minor": 5
}
