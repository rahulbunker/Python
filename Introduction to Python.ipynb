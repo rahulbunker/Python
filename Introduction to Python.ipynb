{
 "cells": [
  {
   "cell_type": "markdown",
   "id": "dccba19d-f30c-4c4d-bd99-42e84cf2757d",
   "metadata": {},
   "source": [
    "# Introduction to Python"
   ]
  },
  {
   "cell_type": "raw",
   "id": "62fec0cf-86db-46b9-9f69-23ed59f8bb66",
   "metadata": {},
   "source": [
    "* Python is a popular programming language .\n",
    "\n",
    "* It was created by Guido Van Rossum , and released in 1991 at CWI ( Centrum Wiskunde & Informatica ) Netherland .\n",
    "\n",
    "* Python is General Purpose , High Level Programming Language . \n",
    "\n",
    "* Python is Dynamic type . "
   ]
  },
  {
   "cell_type": "markdown",
   "id": "265a442e-8643-47d0-9764-600f8cf9aba0",
   "metadata": {},
   "source": [
    "## Why Python"
   ]
  },
  {
   "cell_type": "raw",
   "id": "559ba740-7e4f-49d8-b0ca-bf3d723bb1b8",
   "metadata": {},
   "source": [
    "* Simple & Easy to Learn . \n",
    "\n",
    "* Plateform Independent (windows , linux , mac-book) .\n",
    "\n",
    "* Free and open source .\n",
    "\n",
    "* Rich Library Support .\n",
    "\n",
    "* Interpreted (bytecode-compiled & every code run different row ).\n",
    "\n",
    "* Embeddable( c,java code use in python) &  Extensible (python code change in c , java,....)  .\n",
    "\n",
    "* Portable (another machine code use esayly)\n",
    "\n",
    "* Robust "
   ]
  },
  {
   "cell_type": "markdown",
   "id": "897fc386-a443-4928-8553-9182f34ac80d",
   "metadata": {},
   "source": [
    "# Where Python is Used ?"
   ]
  },
  {
   "cell_type": "raw",
   "id": "9014d7cc-d5f5-46ea-b192-18811a767624",
   "metadata": {},
   "source": [
    "* Web frameworks and applications .\n",
    "\n",
    "* GUI-based desktop applications .\n",
    "\n",
    "* Graphic design ,image processing application,\n",
    "    Games and Scientific/computational Applications .\n",
    "\n",
    "* ML,AI,Neural networks .\n",
    "\n",
    "* Data Science , Data Visualization . \n",
    "\n",
    "* IOT\n",
    "\n",
    "* Database Development ."
   ]
  },
  {
   "cell_type": "markdown",
   "id": "2413c798-9187-47b5-9ae9-4b732793efed",
   "metadata": {},
   "source": [
    "# Why name Python ? "
   ]
  },
  {
   "cell_type": "markdown",
   "id": "faffcf8e-c07d-4759-b3de-70963f09f77f",
   "metadata": {},
   "source": [
    "## History"
   ]
  },
  {
   "cell_type": "raw",
   "id": "ab806f72-b71a-47ad-b7cc-046cab33d12d",
   "metadata": {},
   "source": [
    "\n",
    "Guido Van Rossum was a fan of the popular comedy show \" Monty Python's Flying Circus \" broadcasted by BBC(1969-74).\n",
    "So he decided to pick named his language as python ."
   ]
  },
  {
   "cell_type": "markdown",
   "id": "d1c5e5c8-2416-43a1-96c4-b95757aa991a",
   "metadata": {},
   "source": [
    "## Disadvantages of Python"
   ]
  },
  {
   "cell_type": "raw",
   "id": "0b49ec03-e050-40c1-a166-a284028bf8fc",
   "metadata": {},
   "source": [
    "\n",
    "Slower Speed\n",
    "Python is an interpreted language, making it slower compared to compiled languages like C or C++. It is not ideal for performance-critical applications.\n",
    "\n",
    "Memory Usage\n",
    "Python can be memory-intensive due to its high-level data structures and dynamic typing, which can be a limitation for memory-constrained environments.\n",
    "\n",
    "Global Interpreter Lock (GIL)\n",
    "Python's GIL prevents multiple native threads from executing simultaneously, which can hinder performance in multi-threaded programs.\n",
    "\n",
    "Not Ideal for Mobile Development\n",
    "Python is not commonly used for mobile app development due to limited frameworks and tools tailored for mobile platforms.\n",
    "\n",
    "Dynamic Typing Issues\n",
    "While dynamic typing makes Python flexible, it can lead to runtime errors that are difficult to debug, especially in large codebases.\n",
    "\n",
    "Database Access Limitations\n",
    "Python’s database access layers are less mature and robust compared to those in languages like Java, which might be a limitation for enterprise-level database applications.\n",
    "\n",
    "Runtime Errors\n",
    "Since Python is dynamically typed, errors related to variable types often appear at runtime, increasing the chances of unexpected crashes.\n",
    "\n",
    "Weak in Low-Level Programming\n",
    "Python is not well-suited for low-level programming tasks, such as operating system or embedded system development, where languages like C or Assembly are preferred.\n",
    "\n",
    "Dependency Management Challenges\n",
    "Managing dependencies and resolving version conflicts can be tricky, especially in large projects with numerous libraries.\n",
    "\n",
    "Limited Use in Enterprise Development\n",
    "Some large enterprises prefer statically typed languages like Java or C# for their strict type-checking and performance advantages."
   ]
  }
 ],
 "metadata": {
  "kernelspec": {
   "display_name": "Python 3 (ipykernel)",
   "language": "python",
   "name": "python3"
  },
  "language_info": {
   "codemirror_mode": {
    "name": "ipython",
    "version": 3
   },
   "file_extension": ".py",
   "mimetype": "text/x-python",
   "name": "python",
   "nbconvert_exporter": "python",
   "pygments_lexer": "ipython3",
   "version": "3.10.11"
  }
 },
 "nbformat": 4,
 "nbformat_minor": 5
}
