{
 "cells": [
  {
   "cell_type": "code",
   "execution_count": 1,
   "id": "76a347ee-bdb3-46cc-8fe5-b8381579980b",
   "metadata": {},
   "outputs": [
    {
     "name": "stdout",
     "output_type": "stream",
     "text": [
      "h\n",
      "e\n",
      "l\n",
      "l\n",
      "o\n",
      "h\n",
      "e\n",
      "y\n"
     ]
    }
   ],
   "source": [
    "x=\"hellohey\"\n",
    "for i in x:\n",
    "    print(i)"
   ]
  },
  {
   "cell_type": "code",
   "execution_count": 3,
   "id": "f5bb460d-aec7-4ee0-897c-93c65ad74cdb",
   "metadata": {},
   "outputs": [
    {
     "name": "stdout",
     "output_type": "stream",
     "text": [
      "H\n",
      "E\n",
      "L\n",
      "L\n",
      "O\n",
      "H\n",
      "E\n",
      "Y\n"
     ]
    }
   ],
   "source": [
    "for i in x:\n",
    "    print(i.upper())"
   ]
  },
  {
   "cell_type": "code",
   "execution_count": 4,
   "id": "4bdeffc4-3766-4fd4-a1e1-c33666636df0",
   "metadata": {},
   "outputs": [
    {
     "name": "stdout",
     "output_type": "stream",
     "text": [
      "2\n",
      "5\n",
      "9\n",
      "2\n",
      "8\n",
      "6\n"
     ]
    }
   ],
   "source": [
    "l=[2,5,9,2,8,6]\n",
    "for i in l:\n",
    "    print(i)"
   ]
  },
  {
   "cell_type": "code",
   "execution_count": 5,
   "id": "3fad0d71-81db-431a-9f88-9a74d3109b52",
   "metadata": {},
   "outputs": [
    {
     "name": "stdout",
     "output_type": "stream",
     "text": [
      "20\n",
      "50\n",
      "90\n",
      "20\n",
      "80\n",
      "60\n"
     ]
    }
   ],
   "source": [
    "for i in l:\n",
    "    print(i*10)"
   ]
  },
  {
   "cell_type": "code",
   "execution_count": 6,
   "id": "81a85cad-516d-446d-8c98-02de681d68e5",
   "metadata": {},
   "outputs": [
    {
     "data": {
      "text/plain": [
       "[2, 5, 9, 2, 8, 6]"
      ]
     },
     "execution_count": 6,
     "metadata": {},
     "output_type": "execute_result"
    }
   ],
   "source": [
    "l"
   ]
  },
  {
   "cell_type": "code",
   "execution_count": 7,
   "id": "9732624a-44c9-4e94-b4ad-739f99f09676",
   "metadata": {},
   "outputs": [
    {
     "name": "stdout",
     "output_type": "stream",
     "text": [
      "2\n",
      "2\n",
      "8\n",
      "6\n"
     ]
    }
   ],
   "source": [
    "# even \n",
    "for i in l:\n",
    "    if(i%2==0):\n",
    "        print(i)\n",
    "    "
   ]
  },
  {
   "cell_type": "code",
   "execution_count": 9,
   "id": "aea5c704-ba5a-4f9e-bbd2-11b94635aab3",
   "metadata": {},
   "outputs": [
    {
     "name": "stdout",
     "output_type": "stream",
     "text": [
      "[2, 2, 8, 6]\n"
     ]
    }
   ],
   "source": [
    "list=[]\n",
    "for i in l:\n",
    "    if i%2==0:\n",
    "        list.append(i)\n",
    "\n",
    "print(list)\n",
    "# even number new list"
   ]
  },
  {
   "cell_type": "code",
   "execution_count": 10,
   "id": "501162ff-5636-411a-ae3a-fcf7f7d5c478",
   "metadata": {},
   "outputs": [
    {
     "name": "stdout",
     "output_type": "stream",
     "text": [
      "[5, 9]\n"
     ]
    }
   ],
   "source": [
    "list=[]\n",
    "for i in l:\n",
    "    if i%2!=0:\n",
    "        list.append(i)\n",
    "\n",
    "print(list)\n",
    "# odd number new list"
   ]
  },
  {
   "cell_type": "code",
   "execution_count": 11,
   "id": "9845d08b-fc89-4f9e-8f1f-76804514bc9e",
   "metadata": {},
   "outputs": [
    {
     "name": "stdout",
     "output_type": "stream",
     "text": [
      "2\n",
      "5\n",
      "9\n",
      "2\n",
      "8\n",
      "6\n",
      "this will be executed once for loop will complete itself succesfully\n"
     ]
    }
   ],
   "source": [
    "for i in l:\n",
    "    print(i)\n",
    "\n",
    "else:\n",
    "    print(\"this will be executed once for loop will complete itself succesfully\")"
   ]
  },
  {
   "cell_type": "code",
   "execution_count": 13,
   "id": "f912baec-2d8f-44c0-aa03-e037496de122",
   "metadata": {},
   "outputs": [
    {
     "name": "stdout",
     "output_type": "stream",
     "text": [
      "2\n",
      "5\n",
      "9\n",
      "2\n",
      "8\n"
     ]
    }
   ],
   "source": [
    "for i in l:\n",
    "    print(i)\n",
    "    if i==8:\n",
    "        break\n",
    "\n",
    "else:\n",
    "    print(\"this will be executed once for loop will complete itself succesfully\")\n",
    "\n",
    "# else part tabhi chalata hai jab for loop pura complete hua ho\n",
    "\n",
    "\n"
   ]
  },
  {
   "cell_type": "code",
   "execution_count": 14,
   "id": "07b1423f-7a95-438e-88c5-20b18edf8a32",
   "metadata": {},
   "outputs": [
    {
     "data": {
      "text/plain": [
       "[2, 5, 9, 2, 8, 6]"
      ]
     },
     "execution_count": 14,
     "metadata": {},
     "output_type": "execute_result"
    }
   ],
   "source": [
    "l"
   ]
  },
  {
   "cell_type": "code",
   "execution_count": 16,
   "id": "a574249c-165d-4d3d-823a-aa511db38a28",
   "metadata": {},
   "outputs": [
    {
     "name": "stdout",
     "output_type": "stream",
     "text": [
      "32\n"
     ]
    }
   ],
   "source": [
    "sum=0\n",
    "for i in l:\n",
    "    sum=sum+i\n",
    "\n",
    "print(sum)\n",
    "\n",
    "# sum of list elemets"
   ]
  },
  {
   "cell_type": "code",
   "execution_count": 17,
   "id": "7fa64352-4918-48ce-97ff-c5c804509698",
   "metadata": {},
   "outputs": [],
   "source": [
    "list2=[5,6,2,8,00,15,\"hello\",\"hey\",65,6555,True,False,True]"
   ]
  },
  {
   "cell_type": "code",
   "execution_count": 23,
   "id": "5e93c0b8-224b-4f42-a4ed-ce2553b62d44",
   "metadata": {},
   "outputs": [],
   "source": [
    "list_int=[]\n",
    "list_string=[]\n",
    "list_boolean=[]\n",
    "for i in list2:\n",
    "    if type(i)==int:\n",
    "        list_int.append(i)\n",
    "    elif type(i)==str:\n",
    "        list_string.append(i)\n",
    "\n",
    "    elif type(i)==bool:\n",
    "        list_boolean.append(i)\n",
    "\n",
    "# seprate list type elmets"
   ]
  },
  {
   "cell_type": "code",
   "execution_count": 24,
   "id": "13399c32-f977-4685-bb79-49f4f95cfa85",
   "metadata": {},
   "outputs": [
    {
     "data": {
      "text/plain": [
       "[5, 6, 2, 8, 0, 15, 65, 6555]"
      ]
     },
     "execution_count": 24,
     "metadata": {},
     "output_type": "execute_result"
    }
   ],
   "source": [
    "list_int"
   ]
  },
  {
   "cell_type": "code",
   "execution_count": 25,
   "id": "fa3845aa-d938-4b9f-855e-7a3ceaa2ee76",
   "metadata": {},
   "outputs": [
    {
     "data": {
      "text/plain": [
       "['hello', 'hey']"
      ]
     },
     "execution_count": 25,
     "metadata": {},
     "output_type": "execute_result"
    }
   ],
   "source": [
    "list_string"
   ]
  },
  {
   "cell_type": "code",
   "execution_count": 26,
   "id": "082790db-8110-4587-9c58-28f7fdbb4481",
   "metadata": {},
   "outputs": [
    {
     "data": {
      "text/plain": [
       "[True, False, True]"
      ]
     },
     "execution_count": 26,
     "metadata": {},
     "output_type": "execute_result"
    }
   ],
   "source": [
    "list_boolean"
   ]
  },
  {
   "cell_type": "code",
   "execution_count": 27,
   "id": "97807a61-6e4b-40c0-a5c7-93fd030d8445",
   "metadata": {},
   "outputs": [
    {
     "name": "stdout",
     "output_type": "stream",
     "text": [
      "5\n",
      "2\n",
      "965\n",
      "hello\n"
     ]
    }
   ],
   "source": [
    "tuple1=(5,2,965,\"hello\")\n",
    "for i in tuple1:\n",
    "    print(i)"
   ]
  },
  {
   "cell_type": "code",
   "execution_count": 1,
   "id": "d3938d76-68a2-45cf-8269-1527524fa063",
   "metadata": {},
   "outputs": [],
   "source": [
    "dict={\"name\":\"rahul\",\"age\":22,\"subject\":[\"maths\",\"python\",\"java\",\"c\"]}"
   ]
  },
  {
   "cell_type": "code",
   "execution_count": 2,
   "id": "c876539d-6991-41ba-8113-43d16c56f04f",
   "metadata": {},
   "outputs": [
    {
     "data": {
      "text/plain": [
       "{'name': 'rahul', 'age': 22, 'subject': ['maths', 'python', 'java', 'c']}"
      ]
     },
     "execution_count": 2,
     "metadata": {},
     "output_type": "execute_result"
    }
   ],
   "source": [
    "dict"
   ]
  },
  {
   "cell_type": "code",
   "execution_count": 30,
   "id": "907a8dd1-600c-4da7-81b5-dd1d99c87087",
   "metadata": {},
   "outputs": [
    {
     "data": {
      "text/plain": [
       "dict_items([('name', 'rahul'), ('age', 22), ('subject', ['maths', 'python', 'java', 'c'])])"
      ]
     },
     "execution_count": 30,
     "metadata": {},
     "output_type": "execute_result"
    }
   ],
   "source": [
    "dict.items()"
   ]
  },
  {
   "cell_type": "code",
   "execution_count": 33,
   "id": "70b30069-b7ed-4bce-8999-3fcd004deea5",
   "metadata": {},
   "outputs": [
    {
     "name": "stdout",
     "output_type": "stream",
     "text": [
      "('name', 'rahul')\n",
      "('age', 22)\n",
      "('subject', ['maths', 'python', 'java', 'c'])\n"
     ]
    }
   ],
   "source": [
    "for i in dict.items():    # key value pare nikalna\n",
    "    print(i)"
   ]
  },
  {
   "cell_type": "code",
   "execution_count": 34,
   "id": "06dad1b5-52d4-4355-91ce-ab8085327290",
   "metadata": {},
   "outputs": [
    {
     "name": "stdout",
     "output_type": "stream",
     "text": [
      "name\n",
      "age\n",
      "subject\n"
     ]
    }
   ],
   "source": [
    "for i in dict.keys():\n",
    "    print(i)"
   ]
  },
  {
   "cell_type": "code",
   "execution_count": 36,
   "id": "660db94a-9750-4d59-898e-f65d90746a99",
   "metadata": {},
   "outputs": [
    {
     "name": "stdout",
     "output_type": "stream",
     "text": [
      "rahul\n",
      "22\n",
      "['maths', 'python', 'java', 'c']\n"
     ]
    }
   ],
   "source": [
    "for i in dict.values():\n",
    "    print(i)"
   ]
  },
  {
   "cell_type": "code",
   "execution_count": 3,
   "id": "e5917d2d-3afc-44f6-be12-f83e23574262",
   "metadata": {},
   "outputs": [
    {
     "name": "stdout",
     "output_type": "stream",
     "text": [
      "['maths', 'python', 'java', 'c']\n"
     ]
    }
   ],
   "source": [
    "for i in dict.values():\n",
    "    if type(i)==list:\n",
    "        print(i)"
   ]
  },
  {
   "cell_type": "code",
   "execution_count": 4,
   "id": "e81f0369-b1ad-4193-bf36-464689c1081c",
   "metadata": {},
   "outputs": [
    {
     "name": "stdout",
     "output_type": "stream",
     "text": [
      "True\n"
     ]
    }
   ],
   "source": [
    "for i in dict.values():\n",
    "    if type(i)==list:\n",
    "        print(\"java\" in i)"
   ]
  },
  {
   "cell_type": "code",
   "execution_count": null,
   "id": "61080d32-79e7-493a-b2c4-1d982fee68c2",
   "metadata": {},
   "outputs": [],
   "source": []
  }
 ],
 "metadata": {
  "kernelspec": {
   "display_name": "Python 3 (ipykernel)",
   "language": "python",
   "name": "python3"
  },
  "language_info": {
   "codemirror_mode": {
    "name": "ipython",
    "version": 3
   },
   "file_extension": ".py",
   "mimetype": "text/x-python",
   "name": "python",
   "nbconvert_exporter": "python",
   "pygments_lexer": "ipython3",
   "version": "3.10.11"
  }
 },
 "nbformat": 4,
 "nbformat_minor": 5
}
