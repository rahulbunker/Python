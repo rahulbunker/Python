{
 "cells": [
  {
   "cell_type": "markdown",
   "id": "76a5eda3-9250-4418-b9b1-6af8ac12acb5",
   "metadata": {},
   "source": [
    "# String Indexing Questions:"
   ]
  },
  {
   "cell_type": "raw",
   "id": "af20d53c-273b-4e2c-bf01-bd4e03804f77",
   "metadata": {},
   "source": [
    "\n",
    "Accessing characters:\n",
    "1. Given the string word = \"Programming\", what is the character at index 3?\n",
    "\n",
    "Negative indexing:\n",
    "2. Given the string word = \"Python\", what is the character at index -2?\n",
    "\n",
    "First and last characters:\n",
    "3. Given the string word = \"DataScience\", what are the first and last characters of the string using indexing?\n",
    "\n",
    "Character at a specific index:\n",
    "4. Given the string word = \"Algorithm\", what character is at index 5?\n",
    "\n",
    "Out of range indexing:\n",
    "5. What happens if you try to access word[15] in the string word = \"Artificial\"?\n",
    "\n"
   ]
  },
  {
   "cell_type": "code",
   "execution_count": 2,
   "id": "dd918126-f562-465f-9c80-34778fcfeae2",
   "metadata": {},
   "outputs": [
    {
     "name": "stdout",
     "output_type": "stream",
     "text": [
      "g\n"
     ]
    }
   ],
   "source": [
    "# ans 1\n",
    "\n",
    "word=\"Programming\"\n",
    "print(word[3])"
   ]
  },
  {
   "cell_type": "code",
   "execution_count": 4,
   "id": "1451edab-32c5-4b05-9d8c-d379e97f0990",
   "metadata": {},
   "outputs": [
    {
     "data": {
      "text/plain": [
       "'o'"
      ]
     },
     "execution_count": 4,
     "metadata": {},
     "output_type": "execute_result"
    }
   ],
   "source": [
    "# ans 2\n",
    "\n",
    "word=\"Python\"\n",
    "word[-2]"
   ]
  },
  {
   "cell_type": "code",
   "execution_count": 10,
   "id": "e8efaa47-a88a-4142-8a52-900cd4082835",
   "metadata": {},
   "outputs": [
    {
     "name": "stdout",
     "output_type": "stream",
     "text": [
      "D e\n"
     ]
    }
   ],
   "source": [
    "#ans 3\n",
    "word = \"DataScience\"\n",
    "print(word[0], word[-1])"
   ]
  },
  {
   "cell_type": "code",
   "execution_count": 11,
   "id": "5e69b78b-e694-44e7-b8b2-4eeaa1b9367a",
   "metadata": {},
   "outputs": [
    {
     "data": {
      "text/plain": [
       "'i'"
      ]
     },
     "execution_count": 11,
     "metadata": {},
     "output_type": "execute_result"
    }
   ],
   "source": [
    "# ans 4\n",
    "word = \"Algorithm\"\n",
    "word[5]"
   ]
  },
  {
   "cell_type": "code",
   "execution_count": 13,
   "id": "51c390ad-3423-4c8c-8397-d6659842e519",
   "metadata": {},
   "outputs": [
    {
     "ename": "IndexError",
     "evalue": "string index out of range",
     "output_type": "error",
     "traceback": [
      "\u001b[1;31m---------------------------------------------------------------------------\u001b[0m",
      "\u001b[1;31mIndexError\u001b[0m                                Traceback (most recent call last)",
      "Cell \u001b[1;32mIn[13], line 3\u001b[0m\n\u001b[0;32m      1\u001b[0m \u001b[38;5;66;03m# ans 5\u001b[39;00m\n\u001b[0;32m      2\u001b[0m word \u001b[38;5;241m=\u001b[39m \u001b[38;5;124m\"\u001b[39m\u001b[38;5;124mArtificial\u001b[39m\u001b[38;5;124m\"\u001b[39m\n\u001b[1;32m----> 3\u001b[0m \u001b[38;5;28mprint\u001b[39m(\u001b[43mword\u001b[49m\u001b[43m[\u001b[49m\u001b[38;5;241;43m15\u001b[39;49m\u001b[43m]\u001b[49m)  \u001b[38;5;66;03m# This will raise an IndexError\u001b[39;00m\n\u001b[0;32m      6\u001b[0m \u001b[38;5;66;03m# string index out of range\u001b[39;00m\n",
      "\u001b[1;31mIndexError\u001b[0m: string index out of range"
     ]
    }
   ],
   "source": [
    "# ans 5\n",
    "word = \"Artificial\"\n",
    "print(word[15])  # This will raise an IndexError\n",
    "\n",
    "\n",
    "# string index out of range\n"
   ]
  },
  {
   "cell_type": "markdown",
   "id": "66905696-4fad-46b9-9259-ca9e68f360b7",
   "metadata": {},
   "source": [
    "# String Slicing Questions:"
   ]
  },
  {
   "cell_type": "raw",
   "id": "048c5b65-843a-4da0-ba9d-553a0ae9f45b",
   "metadata": {},
   "source": [
    "\n",
    "Slicing a substring:\n",
    "1. Given the string word = \"DataScience\", slice the string from index 4 to index 9.\n",
    "\n",
    "Extracting even index characters:\n",
    "2. Given the string word = \"MachineLearning\", slice out the characters at even indices (0, 2, 4, 6, etc.).\n",
    "\n",
    "Slicing with negative indices:\n",
    "3. Given the string word = \"DeepLearning\", slice the last 5 characters of the string.\n",
    "\n",
    "Slicing from a given index:\n",
    "4. Given the string word = \"Superstar\", slice the string from index 3 to the end.\n",
    "\n",
    "Extracting a part of the string with step size:\n",
    "5. Given the string word = \"Quantum\", slice the string with a step size of 2 starting from index 1 to index 5.\n",
    "\n"
   ]
  },
  {
   "cell_type": "markdown",
   "id": "09b2c909-21f9-4945-9d22-5320580fb5ae",
   "metadata": {},
   "source": [
    "## String[start:stop:step]"
   ]
  },
  {
   "cell_type": "code",
   "execution_count": 14,
   "id": "5b7eee3c-e1d3-41f4-a73a-8295657268de",
   "metadata": {},
   "outputs": [
    {
     "name": "stdout",
     "output_type": "stream",
     "text": [
      "Scienc\n"
     ]
    }
   ],
   "source": [
    "# ans 1\n",
    "word = \"DataScience\"\n",
    "print(word[4:10])"
   ]
  },
  {
   "cell_type": "code",
   "execution_count": 16,
   "id": "51089e5c-fd4b-4a1a-ad8c-78ded42c725e",
   "metadata": {},
   "outputs": [
    {
     "name": "stdout",
     "output_type": "stream",
     "text": [
      "Mcieerig\n"
     ]
    }
   ],
   "source": [
    "# ans 2\n",
    "word = \"MachineLearning\"\n",
    "print(word[::2])"
   ]
  },
  {
   "cell_type": "code",
   "execution_count": 23,
   "id": "bbd3424a-ff5e-463d-be85-90d88260e125",
   "metadata": {},
   "outputs": [
    {
     "data": {
      "text/plain": [
       "'rning'"
      ]
     },
     "execution_count": 23,
     "metadata": {},
     "output_type": "execute_result"
    }
   ],
   "source": [
    "# ans 3\n",
    "word = \"DeepLearning\"\n",
    "word[-5:]"
   ]
  },
  {
   "cell_type": "code",
   "execution_count": 24,
   "id": "7e5ad17f-ee2b-4220-bc6b-dc3a6ac68c27",
   "metadata": {},
   "outputs": [
    {
     "data": {
      "text/plain": [
       "'erstar'"
      ]
     },
     "execution_count": 24,
     "metadata": {},
     "output_type": "execute_result"
    }
   ],
   "source": [
    "# ans 4\n",
    "word = \"Superstar\"\n",
    "word[3:]"
   ]
  },
  {
   "cell_type": "code",
   "execution_count": 25,
   "id": "b59e0e8a-ed0e-4709-ba07-99216d68ae81",
   "metadata": {},
   "outputs": [
    {
     "data": {
      "text/plain": [
       "'unu'"
      ]
     },
     "execution_count": 25,
     "metadata": {},
     "output_type": "execute_result"
    }
   ],
   "source": [
    "# ans 5\n",
    "word = \"Quantum\"\n",
    "word[1:6:2]"
   ]
  },
  {
   "cell_type": "markdown",
   "id": "ddfa797b-f9bf-4bc5-beb4-5e1728c1797e",
   "metadata": {},
   "source": [
    "# Mixed Questions (Indexing & Slicing):"
   ]
  },
  {
   "cell_type": "raw",
   "id": "74438b15-72d6-48d9-b88c-6969bb87c3ed",
   "metadata": {},
   "source": [
    "\n",
    "Extract a middle part:\n",
    "1. Given the string word = \"ArtificialIntelligence\", extract the middle part of the string, i.e., the characters from index 4 to index 18.\n",
    "\n",
    "Reverse a string using slicing:\n",
    "2. Given the string word = \"ReverseMe\", how would you reverse the string using slicing?\n",
    "\n",
    "Alternate characters from start to end:\n",
    "3. Given the string word = \"ScienceExperiment\", slice every alternate character starting from index 1.\n",
    "\n",
    "Get the last three characters using negative slicing:\n",
    "4. Given the string word = \"Understanding\", slice the last three characters using negative indices.\n",
    "\n",
    "Combine slicing with indexing:\n",
    "5. Given the string word = \"DataScienceIsFun\", combine indexing and slicing to extract the substring \"Science\" from it."
   ]
  },
  {
   "cell_type": "code",
   "execution_count": 26,
   "id": "147789fb-6442-45d1-b6bb-1827564b5639",
   "metadata": {},
   "outputs": [
    {
     "data": {
      "text/plain": [
       "'ficialIntellige'"
      ]
     },
     "execution_count": 26,
     "metadata": {},
     "output_type": "execute_result"
    }
   ],
   "source": [
    "# ans 1\n",
    "\n",
    "word = \"ArtificialIntelligence\"\n",
    "word[4:19]\n",
    "\n"
   ]
  },
  {
   "cell_type": "code",
   "execution_count": 31,
   "id": "0b5073b6-900d-4895-a99a-b4e579dc4f38",
   "metadata": {},
   "outputs": [
    {
     "data": {
      "text/plain": [
       "'eMesreveR'"
      ]
     },
     "execution_count": 31,
     "metadata": {},
     "output_type": "execute_result"
    }
   ],
   "source": [
    "# ans 2\n",
    "\n",
    "word = \"ReverseMe\"\n",
    "word[::-1]"
   ]
  },
  {
   "cell_type": "code",
   "execution_count": 37,
   "id": "eecd4d62-a892-4f89-a268-38bbfd931bf8",
   "metadata": {},
   "outputs": [
    {
     "data": {
      "text/plain": [
       "'cecEprmn'"
      ]
     },
     "execution_count": 37,
     "metadata": {},
     "output_type": "execute_result"
    }
   ],
   "source": [
    "# ans 3\n",
    "word = \"ScienceExperiment\"\n",
    "word[1::2]"
   ]
  },
  {
   "cell_type": "code",
   "execution_count": 33,
   "id": "789e77d4-c989-464a-a2f5-9e0a4f6cf037",
   "metadata": {},
   "outputs": [
    {
     "data": {
      "text/plain": [
       "'ing'"
      ]
     },
     "execution_count": 33,
     "metadata": {},
     "output_type": "execute_result"
    }
   ],
   "source": [
    "# ans 4\n",
    "word = \"Understanding\"\n",
    "word[-3:]"
   ]
  },
  {
   "cell_type": "code",
   "execution_count": 34,
   "id": "f65f4eca-cbcd-4803-81bf-0b09e7148182",
   "metadata": {},
   "outputs": [
    {
     "data": {
      "text/plain": [
       "'Science'"
      ]
     },
     "execution_count": 34,
     "metadata": {},
     "output_type": "execute_result"
    }
   ],
   "source": [
    "# ans 5\n",
    "\n",
    "word = \"DataScienceIsFun\"\n",
    "word[4:11]"
   ]
  },
  {
   "cell_type": "code",
   "execution_count": null,
   "id": "6c74fbf0-ef02-41ed-bbe7-0f959c7bc29b",
   "metadata": {},
   "outputs": [],
   "source": []
  },
  {
   "cell_type": "code",
   "execution_count": null,
   "id": "6315f335-a4b7-4b95-bafb-05aa366b4ec0",
   "metadata": {},
   "outputs": [],
   "source": []
  },
  {
   "cell_type": "code",
   "execution_count": null,
   "id": "2436b240-441e-42a0-9cb1-1545cbd6cc37",
   "metadata": {},
   "outputs": [],
   "source": []
  }
 ],
 "metadata": {
  "kernelspec": {
   "display_name": "Python 3 (ipykernel)",
   "language": "python",
   "name": "python3"
  },
  "language_info": {
   "codemirror_mode": {
    "name": "ipython",
    "version": 3
   },
   "file_extension": ".py",
   "mimetype": "text/x-python",
   "name": "python",
   "nbconvert_exporter": "python",
   "pygments_lexer": "ipython3",
   "version": "3.10.11"
  }
 },
 "nbformat": 4,
 "nbformat_minor": 5
}
