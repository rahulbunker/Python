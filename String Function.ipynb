{
 "cells": [
  {
   "cell_type": "markdown",
   "id": "d0e268f0-58a2-4926-be2c-b27a0383a571",
   "metadata": {},
   "source": [
    "# String Function"
   ]
  },
  {
   "cell_type": "markdown",
   "id": "fe5eb448-01d6-43cc-878a-ca651e0ae09d",
   "metadata": {},
   "source": [
    "str=\"I am a coder.\"\n",
    "\n",
    "str.endswith(\"er.\")   ==> return true if string ends with substr\n",
    "\n",
    "str.capitalize()      ==> capitalizes 1st char\n",
    "\n",
    "str.replace(old,new)  ==> Replaces all occurences of old with new\n",
    "\n",
    "str.find(word)        ==> returns 1st index of 1st occurrence\n",
    "\n",
    "str.count(\"am\")       ==> counts the occurrence of substr in string"
   ]
  },
  {
   "cell_type": "code",
   "execution_count": 1,
   "id": "edefa131-7ba3-4e85-be10-169395904bc1",
   "metadata": {},
   "outputs": [
    {
     "name": "stdout",
     "output_type": "stream",
     "text": [
      "True\n"
     ]
    }
   ],
   "source": [
    "str=\"i am stuying python from regex\"\n",
    "print(str.endswith(\"ex\"))"
   ]
  },
  {
   "cell_type": "code",
   "execution_count": 5,
   "id": "5c5df5fc-d419-4049-96b3-2fb41e308936",
   "metadata": {},
   "outputs": [
    {
     "name": "stdout",
     "output_type": "stream",
     "text": [
      "False\n"
     ]
    }
   ],
   "source": [
    "str=\"i am stuying python from regex\"\n",
    "print(str.endswith(\"python\"))"
   ]
  },
  {
   "cell_type": "code",
   "execution_count": 9,
   "id": "4fb02003-8261-4234-a127-4c2be5495f2b",
   "metadata": {},
   "outputs": [
    {
     "name": "stdout",
     "output_type": "stream",
     "text": [
      "I am stuying python from regex\n",
      "i am stuying python from regex\n"
     ]
    }
   ],
   "source": [
    "str=\"i am stuying python from regex\"\n",
    "print(str.capitalize())  # string ke first latter ko capital kar deta h\n",
    "print(str)  # in old string not change"
   ]
  },
  {
   "cell_type": "code",
   "execution_count": 10,
   "id": "3f0dcda9-5b57-4844-8535-707cec44cc55",
   "metadata": {},
   "outputs": [
    {
     "name": "stdout",
     "output_type": "stream",
     "text": [
      "i am stuying java from regex\n"
     ]
    }
   ],
   "source": [
    "str=\"i am stuying python from regex\"\n",
    "print(str.replace(\"python\",\"java\"))"
   ]
  },
  {
   "cell_type": "code",
   "execution_count": 11,
   "id": "d797eed7-2352-473d-a924-800bba5c81e5",
   "metadata": {},
   "outputs": [
    {
     "name": "stdout",
     "output_type": "stream",
     "text": [
      "i am stuying pyth25n fr25m regex\n"
     ]
    }
   ],
   "source": [
    "str=\"i am stuying python from regex\"\n",
    "print(str.replace(\"o\",\"25\"))"
   ]
  },
  {
   "cell_type": "code",
   "execution_count": 14,
   "id": "6b018c9c-d4c2-45e9-8bc8-07e1a31cd2cc",
   "metadata": {},
   "outputs": [
    {
     "name": "stdout",
     "output_type": "stream",
     "text": [
      "17\n"
     ]
    }
   ],
   "source": [
    "str=\"i am stuying python from regex\"\n",
    "print(str.find(\"o\")) # give index"
   ]
  },
  {
   "cell_type": "code",
   "execution_count": 15,
   "id": "d3dfe2fc-ea32-4d87-a34f-8a90beab468d",
   "metadata": {},
   "outputs": [
    {
     "name": "stdout",
     "output_type": "stream",
     "text": [
      "-1\n"
     ]
    }
   ],
   "source": [
    "str=\"i am stuying python from regex\"\n",
    "print(str.find(\"q\")) # give index"
   ]
  },
  {
   "cell_type": "code",
   "execution_count": 20,
   "id": "b51a6011-34d0-42c6-b23e-c582d8b572df",
   "metadata": {},
   "outputs": [
    {
     "name": "stdout",
     "output_type": "stream",
     "text": [
      "2\n"
     ]
    }
   ],
   "source": [
    "str=\"i am stuying python from regex\"\n",
    "print(str.count(\"o\")) "
   ]
  },
  {
   "cell_type": "code",
   "execution_count": 25,
   "id": "b10a4cc1-c3d8-4b9c-acfe-1cf69790f1d0",
   "metadata": {},
   "outputs": [
    {
     "name": "stdin",
     "output_type": "stream",
     "text": [
      "enter your name :  rahul verma\n"
     ]
    },
    {
     "name": "stdout",
     "output_type": "stream",
     "text": [
      "length of your name :  11\n"
     ]
    }
   ],
   "source": [
    "name=input(\"enter your name : \")\n",
    "x=len(name)\n",
    "print(\"length of your name : \" ,x)"
   ]
  },
  {
   "cell_type": "code",
   "execution_count": 31,
   "id": "11861f3f-3b58-4ade-ada9-7615b59a8811",
   "metadata": {},
   "outputs": [
    {
     "name": "stdout",
     "output_type": "stream",
     "text": [
      "3\n"
     ]
    }
   ],
   "source": [
    "string=\"hey i am $ b d fv 3 $ $ jhd\"\n",
    "print(string.count(\"$\"))"
   ]
  },
  {
   "cell_type": "code",
   "execution_count": 32,
   "id": "ebd65eb5-818d-4b7c-aa77-459badc44b31",
   "metadata": {},
   "outputs": [
    {
     "name": "stdout",
     "output_type": "stream",
     "text": [
      "helllo mr.rahul\n",
      "where are you\n"
     ]
    }
   ],
   "source": [
    "str=\"helllo mr.rahul\\nwhere are you\"\n",
    "print(str)                          # \\n=new line"
   ]
  },
  {
   "cell_type": "code",
   "execution_count": 33,
   "id": "885c2480-f946-4bf5-959b-c235c15c5205",
   "metadata": {},
   "outputs": [
    {
     "name": "stdout",
     "output_type": "stream",
     "text": [
      "helllo mr.rahul\twhere are you\n"
     ]
    }
   ],
   "source": [
    "str=\"helllo mr.rahul\\twhere are you\"    # \\t=tab/space\n",
    "print(str)"
   ]
  },
  {
   "cell_type": "code",
   "execution_count": 35,
   "id": "8ffd7c77-c3ef-4e02-96cf-4940c48a0a20",
   "metadata": {},
   "outputs": [
    {
     "name": "stdout",
     "output_type": "stream",
     "text": [
      "hellorahul\n"
     ]
    }
   ],
   "source": [
    "# concatention\n",
    "\n",
    "x=\"hello\"\n",
    "y=\"rahul\"\n",
    "print(x+y)"
   ]
  },
  {
   "cell_type": "markdown",
   "id": "4e66097c-2e32-4ea5-bb1e-f5df5ee787a1",
   "metadata": {},
   "source": [
    "## other functions for more important"
   ]
  },
  {
   "cell_type": "markdown",
   "id": "09d6718b-578f-4570-97f4-50c6e44df642",
   "metadata": {},
   "source": [
    "* str.split()\n",
    "\n",
    "* str.join()\n",
    "\n",
    "* str.startswith()\n",
    "\n",
    "* str.isdigit()\n",
    "\n",
    "* str.isalpha()"
   ]
  },
  {
   "cell_type": "code",
   "execution_count": 37,
   "id": "a120c0c6-d8ae-407a-beb6-b1217b0e760b",
   "metadata": {},
   "outputs": [
    {
     "name": "stdout",
     "output_type": "stream",
     "text": [
      "HELLO\n"
     ]
    }
   ],
   "source": [
    "x=\"hello\"\n",
    "print(x.upper())"
   ]
  },
  {
   "cell_type": "code",
   "execution_count": 38,
   "id": "520f53db-a7e9-46bb-821e-bdf2bcdbc70c",
   "metadata": {},
   "outputs": [
    {
     "name": "stdout",
     "output_type": "stream",
     "text": [
      "rahul\n"
     ]
    }
   ],
   "source": [
    "y=\"RAHUL\"\n",
    "print(y.lower())"
   ]
  },
  {
   "cell_type": "code",
   "execution_count": 41,
   "id": "7262e5e5-f71c-47d2-b3f2-8e37bfe325e4",
   "metadata": {},
   "outputs": [
    {
     "name": "stdout",
     "output_type": "stream",
     "text": [
      "hello    rahul    go\n"
     ]
    }
   ],
   "source": [
    "text=\"         hello    rahul    go  \"\n",
    "print(text.strip())  # Removes leading and trailing whitespace characters from a string."
   ]
  },
  {
   "cell_type": "code",
   "execution_count": 42,
   "id": "0d897ba8-87a7-4e60-bd5c-1b16d104a11c",
   "metadata": {},
   "outputs": [
    {
     "name": "stdout",
     "output_type": "stream",
     "text": [
      "4\n"
     ]
    }
   ],
   "source": [
    " text=\"rahul \"\n",
    "print(text.index(\"l\"))"
   ]
  },
  {
   "cell_type": "code",
   "execution_count": 47,
   "id": "5729935a-650a-4f4d-be0a-2fc0ca735770",
   "metadata": {},
   "outputs": [
    {
     "name": "stdout",
     "output_type": "stream",
     "text": [
      "True\n"
     ]
    }
   ],
   "source": [
    "text = \"hgujk\"\n",
    "print(text.isalpha())  # Output: True\n",
    "\n",
    "# if all characters in the string are alphabetic."
   ]
  },
  {
   "cell_type": "code",
   "execution_count": 51,
   "id": "6b86f618-b5bc-4c5c-bcbb-b291b21b9fca",
   "metadata": {},
   "outputs": [
    {
     "name": "stdout",
     "output_type": "stream",
     "text": [
      "True\n"
     ]
    }
   ],
   "source": [
    "text = \"1245\"\n",
    "print(text.isdigit())  # Output: True\n",
    "\n",
    "# if all characters in the string are digits."
   ]
  },
  {
   "cell_type": "code",
   "execution_count": 55,
   "id": "402f8544-d4f0-4af4-87c1-410ed197f35c",
   "metadata": {},
   "outputs": [
    {
     "name": "stdout",
     "output_type": "stream",
     "text": [
      "True\n"
     ]
    }
   ],
   "source": [
    "text = \"Hello, World!\"\n",
    "print(text.startswith(\"Hello\"))  # Output: True\n"
   ]
  },
  {
   "cell_type": "code",
   "execution_count": 58,
   "id": "ea5457d5-b882-4e2d-9ece-1c8bc97cac9c",
   "metadata": {},
   "outputs": [
    {
     "name": "stdout",
     "output_type": "stream",
     "text": [
      "Python-is-great\n"
     ]
    }
   ],
   "source": [
    "words = [\"Python\", \"is\", \"great\"]\n",
    "print(\"-\".join(words))  # Output: \"Python is great\"\n"
   ]
  },
  {
   "cell_type": "code",
   "execution_count": 59,
   "id": "87528855-15ff-466c-b3f9-9b8d458382ce",
   "metadata": {},
   "outputs": [
    {
     "name": "stdout",
     "output_type": "stream",
     "text": [
      "['i', 'am', 'rahul']\n"
     ]
    }
   ],
   "source": [
    "# str.split()\n",
    "\n",
    "text=\"i am rahul\"\n",
    "print(text.split())"
   ]
  },
  {
   "cell_type": "code",
   "execution_count": 61,
   "id": "46fe47d1-c9b9-404e-9fa7-e3ef02580db8",
   "metadata": {},
   "outputs": [
    {
     "name": "stdout",
     "output_type": "stream",
     "text": [
      "['apple', 'orange', 'banana']\n"
     ]
    }
   ],
   "source": [
    "text = \"apple,orange,banana\"\n",
    "print(text.split(\",\"))  # Output: ['apple', 'orange', 'banana']\n"
   ]
  },
  {
   "cell_type": "markdown",
   "id": "060d267e-2288-497d-8e4e-4bcf110a8159",
   "metadata": {},
   "source": [
    "# str.swapcase()  i=>I and B=>b"
   ]
  },
  {
   "cell_type": "code",
   "execution_count": 63,
   "id": "2193f008-dcf7-4c2d-ba73-b9359d18ecec",
   "metadata": {},
   "outputs": [
    {
     "name": "stdout",
     "output_type": "stream",
     "text": [
      "i AM rAHUL\n"
     ]
    }
   ],
   "source": [
    "text=\"I am Rahul\"\n",
    "print(text.swapcase())"
   ]
  },
  {
   "cell_type": "code",
   "execution_count": null,
   "id": "38b1d568-d1e5-4ff1-9c27-c0b1b71a4f89",
   "metadata": {},
   "outputs": [],
   "source": []
  }
 ],
 "metadata": {
  "kernelspec": {
   "display_name": "Python 3 (ipykernel)",
   "language": "python",
   "name": "python3"
  },
  "language_info": {
   "codemirror_mode": {
    "name": "ipython",
    "version": 3
   },
   "file_extension": ".py",
   "mimetype": "text/x-python",
   "name": "python",
   "nbconvert_exporter": "python",
   "pygments_lexer": "ipython3",
   "version": "3.10.11"
  }
 },
 "nbformat": 4,
 "nbformat_minor": 5
}
