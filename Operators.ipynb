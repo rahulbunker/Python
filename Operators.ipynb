{
 "cells": [
  {
   "cell_type": "markdown",
   "id": "1f725e38-e685-4112-9c1a-914d01917e87",
   "metadata": {},
   "source": [
    "# Types of Operators"
   ]
  },
  {
   "cell_type": "markdown",
   "id": "ae7ded38-f067-4bcb-8ff3-68baa580c82f",
   "metadata": {},
   "source": [
    "### An operator is a symbol that performs a certain operation between Operands ."
   ]
  },
  {
   "cell_type": "raw",
   "id": "d8644652-7910-4fd6-b350-c379d5a89a9c",
   "metadata": {},
   "source": [
    "* Arithmetic Operators (+,-,*,/,%,**)\n",
    "\n",
    "* Relational / Comparison Operators (==,!=,>,<,>=,<=)\n",
    "\n",
    "* Assignment Operators (=,+=,-=,*=,/=,%=,**=)\n",
    "\n",
    "* Logical Operators (not , and , or ) \n",
    "\n",
    "* Membership Operators \n",
    "\n",
    "* Bitwise Operators\n",
    "\n",
    "* Identity Operators"
   ]
  },
  {
   "cell_type": "markdown",
   "id": "4e52d93d-5af0-484c-998a-f40b443ffb1c",
   "metadata": {},
   "source": [
    "### * Arithmetic Operators (+,-,*,/,%,**)\n",
    "\n",
    "### * Relational / Comparison Operators (==,!=,>,<,>=,<=)\n",
    "\n",
    "### * Assignment Operators (=,+=,-=,*=,/=,%=,**=)\n",
    "\n",
    "### * Logical Operators (not , and , or ) \n",
    "\n",
    "### * Membership Operators \n",
    "\n",
    "### * Bitwise Operators\n",
    "\n",
    "### * Identity Operators"
   ]
  },
  {
   "cell_type": "markdown",
   "id": "4429a249-f907-4e1f-ba1e-dbf42646da2e",
   "metadata": {},
   "source": [
    "## Ralational operators "
   ]
  },
  {
   "cell_type": "code",
   "execution_count": 3,
   "id": "437cc15a-3a78-46a7-bfb2-f5a7b04add38",
   "metadata": {},
   "outputs": [
    {
     "name": "stdout",
     "output_type": "stream",
     "text": [
      "False\n",
      "True\n",
      "True\n",
      "False\n",
      "True\n"
     ]
    }
   ],
   "source": [
    "a=50\n",
    "b=10\n",
    "print(a==b)\n",
    "print(a>b)\n",
    "print(a!=b)\n",
    "print(a<=b)\n",
    "print(a>b)"
   ]
  },
  {
   "cell_type": "markdown",
   "id": "d1f1f488-3445-48b5-b303-d38f0f62baf8",
   "metadata": {},
   "source": [
    "## Assignment operators"
   ]
  },
  {
   "cell_type": "code",
   "execution_count": 6,
   "id": "5239acf5-eb09-4b4e-90ab-ba1a573cb527",
   "metadata": {},
   "outputs": [
    {
     "name": "stdout",
     "output_type": "stream",
     "text": [
      "num: 20\n"
     ]
    }
   ],
   "source": [
    "num=10\n",
    "# num=num+10\n",
    "num +=10\n",
    "print(\"num:\",num)"
   ]
  },
  {
   "cell_type": "code",
   "execution_count": 7,
   "id": "0b93e566-c0ca-43df-b6db-e69c294a5536",
   "metadata": {},
   "outputs": [
    {
     "name": "stdout",
     "output_type": "stream",
     "text": [
      "num: 50\n"
     ]
    }
   ],
   "source": [
    "num=10\n",
    "# num=num+10\n",
    "num *=5\n",
    "print(\"num:\",num)"
   ]
  },
  {
   "cell_type": "code",
   "execution_count": 8,
   "id": "383cb909-d465-4051-a483-8e1ebefeaa3d",
   "metadata": {},
   "outputs": [
    {
     "name": "stdout",
     "output_type": "stream",
     "text": [
      "num: 5.0\n"
     ]
    }
   ],
   "source": [
    "num=10\n",
    "# num=num+10\n",
    "num /=2\n",
    "print(\"num:\",num)"
   ]
  },
  {
   "cell_type": "code",
   "execution_count": 9,
   "id": "e39728b4-cff5-40fd-8447-a59c5798c6be",
   "metadata": {},
   "outputs": [
    {
     "name": "stdout",
     "output_type": "stream",
     "text": [
      "num: 2\n"
     ]
    }
   ],
   "source": [
    "num=10\n",
    "# num=num+10\n",
    "num %=4\n",
    "print(\"num:\",num)"
   ]
  },
  {
   "cell_type": "code",
   "execution_count": 11,
   "id": "e86b7c26-d340-4adb-a814-19114af84063",
   "metadata": {},
   "outputs": [
    {
     "name": "stdout",
     "output_type": "stream",
     "text": [
      "num: 100\n"
     ]
    }
   ],
   "source": [
    "num=10\n",
    "# num=num+10\n",
    "num **=2\n",
    "print(\"num:\",num)"
   ]
  },
  {
   "cell_type": "markdown",
   "id": "f67680f4-0c07-4bdb-8253-5602804b51f4",
   "metadata": {},
   "source": [
    "##  Logical Operators  "
   ]
  },
  {
   "cell_type": "code",
   "execution_count": 12,
   "id": "b63c1a81-0ebe-45a8-9d5c-dd8539260640",
   "metadata": {},
   "outputs": [
    {
     "name": "stdout",
     "output_type": "stream",
     "text": [
      "True\n",
      "False\n"
     ]
    }
   ],
   "source": [
    "print(not False)\n",
    "print(not True)"
   ]
  },
  {
   "cell_type": "code",
   "execution_count": 14,
   "id": "9f2300a0-0a2b-4f02-80c3-c7ef04edf32a",
   "metadata": {},
   "outputs": [
    {
     "name": "stdout",
     "output_type": "stream",
     "text": [
      "False\n",
      "True\n"
     ]
    }
   ],
   "source": [
    "a=20\n",
    "b=30\n",
    "print(a>b)\n",
    "print(not (a>b))"
   ]
  },
  {
   "cell_type": "code",
   "execution_count": 17,
   "id": "c3b99043-9b0a-45a9-b0e9-57f87d9dcdb3",
   "metadata": {},
   "outputs": [
    {
     "name": "stdout",
     "output_type": "stream",
     "text": [
      "and operator:  True\n"
     ]
    }
   ],
   "source": [
    "value1=True\n",
    "value2=True\n",
    "print(\"and operator: \",value1 and value2)\n",
    "\n",
    "# ans True tabhi aayga jab hamri dono condition same  / true hogi"
   ]
  },
  {
   "cell_type": "code",
   "execution_count": 18,
   "id": "1d60c5d7-ddb3-4534-8b9b-69c3d83e27ee",
   "metadata": {},
   "outputs": [
    {
     "name": "stdout",
     "output_type": "stream",
     "text": [
      "and operator:  False\n"
     ]
    }
   ],
   "source": [
    "value1=True\n",
    "value2=False\n",
    "print(\"and operator: \",value1 and value2)"
   ]
  },
  {
   "cell_type": "code",
   "execution_count": 22,
   "id": "5ae1c8b6-d09d-4037-86e7-06ae16f33c4a",
   "metadata": {},
   "outputs": [
    {
     "name": "stdout",
     "output_type": "stream",
     "text": [
      "OR operator:  True\n",
      "and operator:  False\n"
     ]
    }
   ],
   "source": [
    "value1=True\n",
    "value2=False\n",
    "print(\"OR operator: \",value1 or value2)\n",
    "print(\"and operator: \",value1 and value2)\n",
    "\n"
   ]
  },
  {
   "cell_type": "code",
   "execution_count": 25,
   "id": "bc640585-32ed-4258-9834-ee1b064fa8f6",
   "metadata": {},
   "outputs": [
    {
     "name": "stdout",
     "output_type": "stream",
     "text": [
      "OR operator:  Ram\n",
      "and operator:  Ram\n"
     ]
    }
   ],
   "source": [
    "value1=\"Ram\"\n",
    "value2=\"Ram\"\n",
    "print(\"OR operator: \",value1 or value2)\n",
    "print(\"and operator: \",value1 and value2)\n",
    "\n"
   ]
  },
  {
   "cell_type": "code",
   "execution_count": 27,
   "id": "68e682ef-b3f6-4c67-acd8-f89a1200f09d",
   "metadata": {},
   "outputs": [
    {
     "name": "stdout",
     "output_type": "stream",
     "text": [
      "True\n",
      "False\n"
     ]
    }
   ],
   "source": [
    "x=10\n",
    "y=20\n",
    "print(x==y or y>x)\n",
    "print(y>x and x==y)"
   ]
  },
  {
   "cell_type": "markdown",
   "id": "6ffaa1be-3760-4d20-9c7f-5b38b6b0d76d",
   "metadata": {},
   "source": [
    "## Membership Operator"
   ]
  },
  {
   "cell_type": "code",
   "execution_count": 12,
   "id": "edd5abcb-d4c2-4c0a-880e-0f5de57a1a17",
   "metadata": {},
   "outputs": [
    {
     "data": {
      "text/plain": [
       "True"
      ]
     },
     "execution_count": 12,
     "metadata": {},
     "output_type": "execute_result"
    }
   ],
   "source": [
    "# in\n",
    "\"J\" in \"Jaipur\""
   ]
  },
  {
   "cell_type": "code",
   "execution_count": 14,
   "id": "af9bd9f3-c769-4d78-b1e1-95e6de106583",
   "metadata": {},
   "outputs": [
    {
     "data": {
      "text/plain": [
       "True"
      ]
     },
     "execution_count": 14,
     "metadata": {},
     "output_type": "execute_result"
    }
   ],
   "source": [
    "\"j\" not in \"Jaipur\""
   ]
  },
  {
   "cell_type": "code",
   "execution_count": 15,
   "id": "cc04ead3-f541-470d-9268-a2889dfc5b03",
   "metadata": {},
   "outputs": [
    {
     "data": {
      "text/plain": [
       "False"
      ]
     },
     "execution_count": 15,
     "metadata": {},
     "output_type": "execute_result"
    }
   ],
   "source": [
    "\"j\"  in \"Jaipur\""
   ]
  },
  {
   "cell_type": "code",
   "execution_count": 16,
   "id": "e4b6b9e9-93b0-4ab3-919d-447f9da67b2d",
   "metadata": {},
   "outputs": [
    {
     "data": {
      "text/plain": [
       "True"
      ]
     },
     "execution_count": 16,
     "metadata": {},
     "output_type": "execute_result"
    }
   ],
   "source": [
    "\"PUR\" in \"JAIPUR\""
   ]
  },
  {
   "cell_type": "markdown",
   "id": "5443027c-b22b-4573-83cb-e1e84667eceb",
   "metadata": {},
   "source": [
    "## Identity Operator"
   ]
  },
  {
   "cell_type": "raw",
   "id": "7abc4b56-fe47-440f-a02a-37f108c8fdd5",
   "metadata": {},
   "source": [
    "beling too a certain class / datatype"
   ]
  },
  {
   "cell_type": "code",
   "execution_count": 17,
   "id": "b74e1cab-1061-419f-8da8-9286f2004470",
   "metadata": {},
   "outputs": [
    {
     "data": {
      "text/plain": [
       "True"
      ]
     },
     "execution_count": 17,
     "metadata": {},
     "output_type": "execute_result"
    }
   ],
   "source": [
    "x=10\n",
    "type(x) is int"
   ]
  },
  {
   "cell_type": "code",
   "execution_count": 18,
   "id": "2840d74d-5fe9-4b20-a12f-9a022b35400a",
   "metadata": {},
   "outputs": [
    {
     "data": {
      "text/plain": [
       "True"
      ]
     },
     "execution_count": 18,
     "metadata": {},
     "output_type": "execute_result"
    }
   ],
   "source": [
    "type(x) is not str"
   ]
  },
  {
   "cell_type": "markdown",
   "id": "59d39649-d36d-4343-afb3-044dfc5e866f",
   "metadata": {},
   "source": [
    "## Bitwise Operator"
   ]
  },
  {
   "cell_type": "code",
   "execution_count": 20,
   "id": "e9d55496-11b3-4230-a3ef-41658c0e4fd5",
   "metadata": {},
   "outputs": [
    {
     "data": {
      "text/plain": [
       "15"
      ]
     },
     "execution_count": 20,
     "metadata": {},
     "output_type": "execute_result"
    }
   ],
   "source": [
    "14|13"
   ]
  },
  {
   "cell_type": "markdown",
   "id": "922def43-d9ed-488e-a19b-523ffa0930d8",
   "metadata": {},
   "source": [
    "### bitwise sift operator "
   ]
  },
  {
   "cell_type": "code",
   "execution_count": 22,
   "id": "1f083572-b658-4bcf-b83f-fbf7633108eb",
   "metadata": {},
   "outputs": [
    {
     "data": {
      "text/plain": [
       "5"
      ]
     },
     "execution_count": 22,
     "metadata": {},
     "output_type": "execute_result"
    }
   ],
   "source": [
    "# right sift\n",
    "\n",
    "23>>2"
   ]
  },
  {
   "cell_type": "code",
   "execution_count": 25,
   "id": "e858d658-74a5-4bd9-87e2-1833194f0845",
   "metadata": {},
   "outputs": [
    {
     "data": {
      "text/plain": [
       "56"
      ]
     },
     "execution_count": 25,
     "metadata": {},
     "output_type": "execute_result"
    }
   ],
   "source": [
    "# left shift \n",
    "\n",
    "1<2"
   ]
  },
  {
   "cell_type": "markdown",
   "id": "c68f5cb6-d6d3-423b-8daa-69cb28569407",
   "metadata": {},
   "source": [
    "# Type Conversion"
   ]
  },
  {
   "cell_type": "markdown",
   "id": "9a4ebb98-ab6e-4eb4-9f0f-75cea4ca5319",
   "metadata": {},
   "source": [
    "1. conversion (apne aap data type badal leta h)\n",
    "2. casting conversion "
   ]
  },
  {
   "cell_type": "code",
   "execution_count": 29,
   "id": "f90e4a45-e058-4527-be6e-e580e08d2ff3",
   "metadata": {},
   "outputs": [
    {
     "name": "stdout",
     "output_type": "stream",
     "text": [
      "12.5\n"
     ]
    }
   ],
   "source": [
    "a=10\n",
    "b=2.5\n",
    "print(a+b)   # 10.0+2.5 a ko apneaap hi float le liya"
   ]
  },
  {
   "cell_type": "code",
   "execution_count": 31,
   "id": "3cbd8928-cd15-4f2e-b4a7-c36de34893f6",
   "metadata": {},
   "outputs": [
    {
     "name": "stdout",
     "output_type": "stream",
     "text": [
      "35\n"
     ]
    }
   ],
   "source": [
    "a=int(\"25\")\n",
    "b=10\n",
    "print(a+b)  a"
   ]
  },
  {
   "cell_type": "code",
   "execution_count": 2,
   "id": "7c65b231-7889-4926-a18b-db93feda95a0",
   "metadata": {},
   "outputs": [
    {
     "name": "stdin",
     "output_type": "stream",
     "text": [
      "enter your name :  rahul verma\n"
     ]
    },
    {
     "name": "stdout",
     "output_type": "stream",
     "text": [
      "welcom  rahul verma\n"
     ]
    }
   ],
   "source": [
    "name=input(\"enter your name : \")\n",
    "print(\"welcom \",name)"
   ]
  },
  {
   "cell_type": "code",
   "execution_count": 5,
   "id": "db8ff2f7-2482-4704-89a2-34190ad61ac5",
   "metadata": {},
   "outputs": [
    {
     "name": "stdin",
     "output_type": "stream",
     "text": [
      "enter the value : 2\n",
      "enter the value : 5\n"
     ]
    },
    {
     "name": "stdout",
     "output_type": "stream",
     "text": [
      "7.0\n"
     ]
    }
   ],
   "source": [
    "x=float(input(\"enter the value :\"))\n",
    "y=float(input(\"enter the value :\"))\n",
    "print(x+y)"
   ]
  },
  {
   "cell_type": "code",
   "execution_count": 6,
   "id": "6f976c0a-d28f-40d6-b889-eda9edebdcfd",
   "metadata": {},
   "outputs": [
    {
     "name": "stdin",
     "output_type": "stream",
     "text": [
      "enter the value : 2\n",
      "enter the value : 56\n"
     ]
    },
    {
     "name": "stdout",
     "output_type": "stream",
     "text": [
      "58\n"
     ]
    }
   ],
   "source": [
    "x=int(input(\"enter the value :\"))\n",
    "y=int(input(\"enter the value :\"))\n",
    "print(x+y)"
   ]
  },
  {
   "cell_type": "code",
   "execution_count": null,
   "id": "a965bb59-21fb-4c0b-8d85-c35db91ac0e1",
   "metadata": {},
   "outputs": [],
   "source": []
  }
 ],
 "metadata": {
  "kernelspec": {
   "display_name": "Python 3 (ipykernel)",
   "language": "python",
   "name": "python3"
  },
  "language_info": {
   "codemirror_mode": {
    "name": "ipython",
    "version": 3
   },
   "file_extension": ".py",
   "mimetype": "text/x-python",
   "name": "python",
   "nbconvert_exporter": "python",
   "pygments_lexer": "ipython3",
   "version": "3.10.11"
  }
 },
 "nbformat": 4,
 "nbformat_minor": 5
}
