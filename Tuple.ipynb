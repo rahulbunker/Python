{
 "cells": [
  {
   "cell_type": "markdown",
   "id": "2f42e49b-0f2e-47e4-8589-2a375a32e7cf",
   "metadata": {},
   "source": [
    "# Tuple"
   ]
  },
  {
   "cell_type": "markdown",
   "id": "b8f2b66f-cea2-4307-9952-8f71d31d7b7b",
   "metadata": {},
   "source": [
    "### It is similar List\n",
    "\n",
    "### tuple contain index positions\n",
    "\n",
    "### Immutable"
   ]
  },
  {
   "cell_type": "markdown",
   "id": "f192455e-c369-449c-ad6c-f573bd25488f",
   "metadata": {},
   "source": [
    "### A built in data type that lets us create immutable sequence of values ."
   ]
  },
  {
   "cell_type": "code",
   "execution_count": 4,
   "id": "839570a0-e34d-4236-a02a-67d455f94949",
   "metadata": {},
   "outputs": [
    {
     "data": {
      "text/plain": [
       "int"
      ]
     },
     "execution_count": 4,
     "metadata": {},
     "output_type": "execute_result"
    }
   ],
   "source": [
    "tuple=10\n",
    "type(tuple)"
   ]
  },
  {
   "cell_type": "code",
   "execution_count": 12,
   "id": "a4cc41b9-92c0-4167-b58a-5051a71d7777",
   "metadata": {},
   "outputs": [
    {
     "name": "stdout",
     "output_type": "stream",
     "text": [
      "<class 'tuple'>\n"
     ]
    }
   ],
   "source": [
    "mytuple=10,20,\"rahul\"\n",
    "print(type(mytuple))"
   ]
  },
  {
   "cell_type": "code",
   "execution_count": 14,
   "id": "ae5643a7-2fd0-4de5-8d33-800139a72fd4",
   "metadata": {},
   "outputs": [
    {
     "data": {
      "text/plain": [
       "(10, 20, 'rahul')"
      ]
     },
     "execution_count": 14,
     "metadata": {},
     "output_type": "execute_result"
    }
   ],
   "source": [
    "mytuple"
   ]
  },
  {
   "cell_type": "code",
   "execution_count": 16,
   "id": "45e1ba33-76bf-44c2-8518-7988df06642a",
   "metadata": {},
   "outputs": [
    {
     "data": {
      "text/plain": [
       "(20, 300, 'hey')"
      ]
     },
     "execution_count": 16,
     "metadata": {},
     "output_type": "execute_result"
    }
   ],
   "source": [
    "tup=(20,300,\"hey\")\n",
    "tup"
   ]
  },
  {
   "cell_type": "code",
   "execution_count": 18,
   "id": "e8f65d49-cda4-4a13-93db-092bf9392bef",
   "metadata": {},
   "outputs": [
    {
     "data": {
      "text/plain": [
       "300"
      ]
     },
     "execution_count": 18,
     "metadata": {},
     "output_type": "execute_result"
    }
   ],
   "source": [
    "tup[1]"
   ]
  },
  {
   "cell_type": "code",
   "execution_count": 28,
   "id": "35fd7f52-aacc-4965-8d44-6304f1dc654e",
   "metadata": {},
   "outputs": [
    {
     "data": {
      "text/plain": [
       "2"
      ]
     },
     "execution_count": 28,
     "metadata": {},
     "output_type": "execute_result"
    }
   ],
   "source": [
    "tup.index(\"hey\")"
   ]
  },
  {
   "cell_type": "code",
   "execution_count": 30,
   "id": "4a2d1f0e-5c3a-4278-8048-cdfabaa644ae",
   "metadata": {},
   "outputs": [
    {
     "data": {
      "text/plain": [
       "1"
      ]
     },
     "execution_count": 30,
     "metadata": {},
     "output_type": "execute_result"
    }
   ],
   "source": [
    "tup.index(300)"
   ]
  },
  {
   "cell_type": "code",
   "execution_count": 34,
   "id": "282ebf7f-bd54-4486-89e3-8eb6cfdbf483",
   "metadata": {},
   "outputs": [],
   "source": [
    "tup1=()\n",
    "# empty tuple\""
   ]
  },
  {
   "cell_type": "code",
   "execution_count": 36,
   "id": "fb920e9c-d902-4042-a332-4e60138ee2ec",
   "metadata": {},
   "outputs": [],
   "source": [
    "tup2=(1,)"
   ]
  },
  {
   "cell_type": "code",
   "execution_count": 38,
   "id": "940b0482-fb8e-443c-a83f-14aa524227ca",
   "metadata": {},
   "outputs": [
    {
     "data": {
      "text/plain": [
       "(1,)"
      ]
     },
     "execution_count": 38,
     "metadata": {},
     "output_type": "execute_result"
    }
   ],
   "source": [
    "tup2"
   ]
  },
  {
   "cell_type": "markdown",
   "id": "896f1e4e-4db4-4fa8-87c0-855805a6c828",
   "metadata": {},
   "source": [
    "Tuple Slicing"
   ]
  },
  {
   "cell_type": "code",
   "execution_count": 41,
   "id": "4731d876-4546-43e2-9dc3-4155401038ae",
   "metadata": {},
   "outputs": [
    {
     "name": "stdout",
     "output_type": "stream",
     "text": [
      "(10, 20, 'rahul')\n",
      "(10, 20)\n"
     ]
    }
   ],
   "source": [
    "print(mytuple)\n",
    "print(mytuple[0:2])"
   ]
  },
  {
   "cell_type": "markdown",
   "id": "abe1cfac-7f5a-4556-9ff5-e4b7b5e31515",
   "metadata": {},
   "source": [
    "### Tuple Methods"
   ]
  },
  {
   "cell_type": "markdown",
   "id": "0a0b5e12-fb53-4821-93c0-403e0b32ae0d",
   "metadata": {},
   "source": [
    "tuple.count(elemnt)----> count total number of this elemnt"
   ]
  },
  {
   "cell_type": "code",
   "execution_count": 50,
   "id": "6ea13165-8a05-4907-809b-a8d0502f9e95",
   "metadata": {},
   "outputs": [
    {
     "data": {
      "text/plain": [
       "3"
      ]
     },
     "execution_count": 50,
     "metadata": {},
     "output_type": "execute_result"
    }
   ],
   "source": [
    "tuple=(2,1,3,1,1)\n",
    "tuple.count(1)"
   ]
  },
  {
   "cell_type": "markdown",
   "id": "735ddb5e-08ed-4846-8364-204c47d4ce96",
   "metadata": {},
   "source": [
    "### Q.1 Wap to ask the user to enter name of their 3 favorite movies & store them in a list"
   ]
  },
  {
   "cell_type": "code",
   "execution_count": 61,
   "id": "afa3d4cd-8c8a-463d-909f-72e0e99af2e5",
   "metadata": {},
   "outputs": [
    {
     "name": "stdin",
     "output_type": "stream",
     "text": [
      " reddy\n",
      " race\n",
      " rrr\n"
     ]
    },
    {
     "name": "stdout",
     "output_type": "stream",
     "text": [
      "['reddy', 'race', 'rrr']\n"
     ]
    }
   ],
   "source": [
    "a=input()\n",
    "b=input()\n",
    "c=input()\n",
    "list=[]\n",
    "list.append(a)\n",
    "list.append(b)\n",
    "list.append(c)\n",
    "print(list)\n"
   ]
  },
  {
   "cell_type": "code",
   "execution_count": 63,
   "id": "f64ca8e9-98e4-4317-9682-678e438bc223",
   "metadata": {},
   "outputs": [
    {
     "name": "stdin",
     "output_type": "stream",
     "text": [
      " pushpa\n",
      " animal\n",
      " raid\n"
     ]
    },
    {
     "name": "stdout",
     "output_type": "stream",
     "text": [
      "['pushpa', 'animal', 'raid']\n"
     ]
    }
   ],
   "source": [
    "list1=[]\n",
    "list1.append(input())\n",
    "list1.append(input())\n",
    "list1.append(input())\n",
    "\n",
    "\n",
    "print(list1)\n"
   ]
  },
  {
   "cell_type": "markdown",
   "id": "140c02fa-35cb-4633-803b-ba1060a3a502",
   "metadata": {},
   "source": [
    "### Q2. list contain a palindrome of elements . (hint: use copy() method)"
   ]
  },
  {
   "cell_type": "code",
   "execution_count": 74,
   "id": "0451c7a1-c0cf-43a0-a34e-e58b5aa47c6a",
   "metadata": {},
   "outputs": [
    {
     "name": "stdout",
     "output_type": "stream",
     "text": [
      "list 1 pallindrom\n",
      "list 2 not\n"
     ]
    }
   ],
   "source": [
    "list1=[1,2,3,2,1]\n",
    "list2=[5,3,8,6]\n",
    "\n",
    "copy_list1=list1.copy()\n",
    "copy_list1.reverse()\n",
    "if(copy_list1==list1):\n",
    "    print(\"list 1 pallindrom\")\n",
    "\n",
    "else:\n",
    "    print(\"list 1 not\")\n",
    "\n",
    "copy_list2=list2.copy()\n",
    "copy_list2.reverse()\n",
    "if(copy_list2==list2):\n",
    "    print(\"list 2 pallindrom\")\n",
    "\n",
    "else:\n",
    "    print(\"list 2 not\")\n",
    "\n"
   ]
  },
  {
   "cell_type": "markdown",
   "id": "45d90b17-49c0-4646-a0e4-84f6b4c9f61f",
   "metadata": {},
   "source": [
    "### Q3. count the number of students with \"A\" grade in the following tuple ."
   ]
  },
  {
   "cell_type": "code",
   "execution_count": 86,
   "id": "9ff3b721-4d47-467c-8d4b-ffc43a6e555e",
   "metadata": {},
   "outputs": [
    {
     "data": {
      "text/plain": [
       "tuple"
      ]
     },
     "execution_count": 86,
     "metadata": {},
     "output_type": "execute_result"
    }
   ],
   "source": [
    "tuple=(\"C\",\"D\",\"A\",\"A\",\"B\",\"B\",\"A\")\n",
    "type(tuple)\n",
    "\n"
   ]
  },
  {
   "cell_type": "code",
   "execution_count": 88,
   "id": "2ec42b75-3a92-421d-84ec-c566a1d86263",
   "metadata": {},
   "outputs": [
    {
     "data": {
      "text/plain": [
       "3"
      ]
     },
     "execution_count": 88,
     "metadata": {},
     "output_type": "execute_result"
    }
   ],
   "source": [
    "tuple.count(\"A\")"
   ]
  },
  {
   "cell_type": "markdown",
   "id": "41ea2540-c343-4223-8155-8a29fe986015",
   "metadata": {},
   "source": [
    "### Q4. store the above in a list & sort from \"A\" to \"D\" ."
   ]
  },
  {
   "cell_type": "code",
   "execution_count": 95,
   "id": "c3c93b46-2a1b-4b4a-99a4-7d730cc621da",
   "metadata": {},
   "outputs": [
    {
     "name": "stdout",
     "output_type": "stream",
     "text": [
      "['A', 'A', 'A', 'B', 'B', 'C', 'D']\n"
     ]
    }
   ],
   "source": [
    "grade=[\"C\",\"D\",\"A\",\"A\",\"B\",\"B\",\"A\"]\n",
    "grade.sort()\n",
    "print(grade)"
   ]
  },
  {
   "cell_type": "code",
   "execution_count": null,
   "id": "de61a44e-2c27-42bf-a836-fbecd217c99f",
   "metadata": {},
   "outputs": [],
   "source": []
  }
 ],
 "metadata": {
  "kernelspec": {
   "display_name": "Python 3 (ipykernel)",
   "language": "python",
   "name": "python3"
  },
  "language_info": {
   "codemirror_mode": {
    "name": "ipython",
    "version": 3
   },
   "file_extension": ".py",
   "mimetype": "text/x-python",
   "name": "python",
   "nbconvert_exporter": "python",
   "pygments_lexer": "ipython3",
   "version": "3.12.4"
  }
 },
 "nbformat": 4,
 "nbformat_minor": 5
}
