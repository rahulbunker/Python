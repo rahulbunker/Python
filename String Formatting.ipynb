{
 "cells": [
  {
   "cell_type": "markdown",
   "id": "e52cf108-1c2e-42d1-8876-4f52a38f36e0",
   "metadata": {},
   "source": [
    "## Basics "
   ]
  },
  {
   "cell_type": "code",
   "execution_count": 1,
   "id": "66613ede-b62b-496f-bc05-2ec69c3dedb8",
   "metadata": {},
   "outputs": [
    {
     "name": "stdout",
     "output_type": "stream",
     "text": [
      "hello world\n"
     ]
    }
   ],
   "source": [
    "print(\"hello world\")"
   ]
  },
  {
   "cell_type": "code",
   "execution_count": 2,
   "id": "88163a78-0180-45dd-8ffc-bfb48eb1ace5",
   "metadata": {},
   "outputs": [
    {
     "name": "stdout",
     "output_type": "stream",
     "text": [
      "hello\n",
      "mr.\n"
     ]
    }
   ],
   "source": [
    "print(\"hello\")\n",
    "print(\"mr.\")"
   ]
  },
  {
   "cell_type": "code",
   "execution_count": 3,
   "id": "535aa450-5cf4-426f-8c82-aab08c18cb0d",
   "metadata": {},
   "outputs": [
    {
     "name": "stdout",
     "output_type": "stream",
     "text": [
      "hello \n",
      " mr.\n"
     ]
    }
   ],
   "source": [
    "print(\"hello \\n mr.\")"
   ]
  },
  {
   "cell_type": "code",
   "execution_count": 10,
   "id": "4004bc27-a6ab-4375-a0c5-3e57f56aa617",
   "metadata": {},
   "outputs": [
    {
     "name": "stdout",
     "output_type": "stream",
     "text": [
      "hello&rahul\n"
     ]
    }
   ],
   "source": [
    "print(\"hello\",end=\"&\")\n",
    "print(\"rahul\")"
   ]
  },
  {
   "cell_type": "code",
   "execution_count": 13,
   "id": "89cae831-c268-469a-b98d-5678be2ba40b",
   "metadata": {},
   "outputs": [
    {
     "name": "stdout",
     "output_type": "stream",
     "text": [
      "hello--hey--mohan\n"
     ]
    }
   ],
   "source": [
    "print(\"hello\",\"hey\",\"mohan\",sep=\"--\")"
   ]
  },
  {
   "cell_type": "code",
   "execution_count": 15,
   "id": "354d0105-98ca-4257-9322-c4523670a5e6",
   "metadata": {},
   "outputs": [
    {
     "data": {
      "text/plain": [
       "float"
      ]
     },
     "execution_count": 15,
     "metadata": {},
     "output_type": "execute_result"
    }
   ],
   "source": [
    "x=10.1\n",
    "type(x)"
   ]
  },
  {
   "cell_type": "code",
   "execution_count": 16,
   "id": "fd6949f6-1d5f-4e07-940d-adffa361e719",
   "metadata": {},
   "outputs": [
    {
     "data": {
      "text/plain": [
       "str"
      ]
     },
     "execution_count": 16,
     "metadata": {},
     "output_type": "execute_result"
    }
   ],
   "source": [
    "x=\"jaipur\"\n",
    "type(x)"
   ]
  },
  {
   "cell_type": "code",
   "execution_count": 19,
   "id": "54fb2c40-ced2-42de-8bee-afe95f0cfe0d",
   "metadata": {},
   "outputs": [
    {
     "name": "stdout",
     "output_type": "stream",
     "text": [
      "hello hey i am rahul \n",
      "and you\n",
      "where are you\n"
     ]
    }
   ],
   "source": [
    "y=\"\"\"hello hey i am rahul \n",
    "and you\n",
    "where are you\"\"\"\n",
    "print(y)"
   ]
  },
  {
   "cell_type": "code",
   "execution_count": 20,
   "id": "8cc95886-bbe0-4be0-8797-bb8999958674",
   "metadata": {},
   "outputs": [
    {
     "name": "stdout",
     "output_type": "stream",
     "text": [
      "hello hey i am rahul \n",
      "and you\n",
      "where are you\n"
     ]
    }
   ],
   "source": [
    "y='''hello hey i am rahul \n",
    "and you\n",
    "where are you'''\n",
    "print(y)"
   ]
  },
  {
   "cell_type": "code",
   "execution_count": 22,
   "id": "dd7c0a51-b091-4d2d-a115-b7600118bc38",
   "metadata": {},
   "outputs": [
    {
     "name": "stdout",
     "output_type": "stream",
     "text": [
      "hello hey i am rahul \n",
      "and you       \n",
      "where are you\n"
     ]
    },
    {
     "data": {
      "text/plain": [
       "'jyh hjbt'"
      ]
     },
     "execution_count": 22,
     "metadata": {},
     "output_type": "execute_result"
    }
   ],
   "source": [
    "y=\"\"\"hello hey i am rahul \n",
    "and you       \n",
    "where are you\"\"\"\n",
    "print(y)   # comets \n",
    "\n"
   ]
  },
  {
   "cell_type": "code",
   "execution_count": null,
   "id": "7a1723b7-15ad-4ee7-b462-b87f1a65a26e",
   "metadata": {},
   "outputs": [],
   "source": []
  },
  {
   "cell_type": "markdown",
   "id": "60dab14a-6134-445c-bd89-c55fa6308554",
   "metadata": {},
   "source": [
    "# String Formatting"
   ]
  },
  {
   "cell_type": "code",
   "execution_count": 23,
   "id": "c1fd0c91-db4f-4a35-a49f-02a5e5bc65bc",
   "metadata": {},
   "outputs": [],
   "source": [
    "company=\"Regex\"\n",
    "year=2024\n"
   ]
  },
  {
   "cell_type": "code",
   "execution_count": 24,
   "id": "4141eb18-eecd-48e1-b83f-8ad263e5da5e",
   "metadata": {},
   "outputs": [
    {
     "name": "stdout",
     "output_type": "stream",
     "text": [
      "company name is  Regex\n"
     ]
    }
   ],
   "source": [
    "print(\"company name is \",company)"
   ]
  },
  {
   "cell_type": "code",
   "execution_count": 25,
   "id": "d3bc3581-a597-4544-9f99-0ae3590123c5",
   "metadata": {},
   "outputs": [
    {
     "name": "stdout",
     "output_type": "stream",
     "text": [
      "company name is  Regex year is  2024\n"
     ]
    }
   ],
   "source": [
    "print(\"company name is \",company,\"year is \",year)"
   ]
  },
  {
   "cell_type": "code",
   "execution_count": 27,
   "id": "7469629d-cd36-4a6b-891e-fa91cec177ae",
   "metadata": {},
   "outputs": [
    {
     "name": "stdout",
     "output_type": "stream",
     "text": [
      "company name is Regex  year is 2024\n"
     ]
    }
   ],
   "source": [
    "print(f\"company name is {company}  year is {year}\")"
   ]
  },
  {
   "cell_type": "markdown",
   "id": "a1f4be08-b6f5-4b8d-9ada-c2d8bbfdea1a",
   "metadata": {},
   "source": [
    "##### format method"
   ]
  },
  {
   "cell_type": "code",
   "execution_count": 32,
   "id": "92a57c83-c520-421b-b301-99714c23e638",
   "metadata": {},
   "outputs": [
    {
     "name": "stdout",
     "output_type": "stream",
     "text": [
      "company name is regex year is 2024 \n"
     ]
    }
   ],
   "source": [
    "print(\"company name is {} year is {} \".format(\"regex\",2024))"
   ]
  },
  {
   "cell_type": "code",
   "execution_count": 36,
   "id": "d0be54fa-7188-4f37-b39f-4069610a8e61",
   "metadata": {},
   "outputs": [
    {
     "name": "stdout",
     "output_type": "stream",
     "text": [
      "company name is Regex year is 2024\n"
     ]
    }
   ],
   "source": [
    "print(\"company name is {0} year is {1}\".format(\"Regex\",2024))\n"
   ]
  },
  {
   "cell_type": "code",
   "execution_count": null,
   "id": "a9f98263-0538-4649-9a11-317131bc3a0f",
   "metadata": {},
   "outputs": [],
   "source": []
  }
 ],
 "metadata": {
  "kernelspec": {
   "display_name": "Python 3 (ipykernel)",
   "language": "python",
   "name": "python3"
  },
  "language_info": {
   "codemirror_mode": {
    "name": "ipython",
    "version": 3
   },
   "file_extension": ".py",
   "mimetype": "text/x-python",
   "name": "python",
   "nbconvert_exporter": "python",
   "pygments_lexer": "ipython3",
   "version": "3.10.11"
  }
 },
 "nbformat": 4,
 "nbformat_minor": 5
}
