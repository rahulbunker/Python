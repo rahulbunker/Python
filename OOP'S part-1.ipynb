{
 "cells": [
  {
   "cell_type": "markdown",
   "id": "097af383-4ecb-4aa4-841a-8ec2086f0fd1",
   "metadata": {},
   "source": [
    "# OOP in Python"
   ]
  },
  {
   "cell_type": "markdown",
   "id": "c0d2c3d4-3d8a-4d35-82c8-45014ac11e69",
   "metadata": {},
   "source": [
    "* To map with real world scenarios,we started using onjects in code.\n",
    "\n",
    "* This is called Obeject Oriented Programming"
   ]
  },
  {
   "cell_type": "markdown",
   "id": "c4eca1c3-aa21-4f1b-b4b1-88901b11b04d",
   "metadata": {},
   "source": [
    "# Class & Object in Python"
   ]
  },
  {
   "cell_type": "markdown",
   "id": "cc8a2d62-f444-485e-ac36-1ef7b096a64c",
   "metadata": {},
   "source": [
    "* Class is a blueprint for creating objects."
   ]
  },
  {
   "cell_type": "markdown",
   "id": "b1e0acd7-6179-4d84-8aff-50c5715cd6e7",
   "metadata": {},
   "source": [
    "* Class is a collection of objects and it does not take any space on memory,class is also called as blueprint logical entity"
   ]
  },
  {
   "cell_type": "markdown",
   "id": "aa6c9971-d1cd-44ae-be25-08e5defc83f9",
   "metadata": {},
   "source": [
    "### Object ==> real time entity\n",
    "1. characticstics==>color,company,size\n",
    "2. Behavihar/Functionality (ex.laptop use kis liye , game ,study,ram,rom...etc)"
   ]
  },
  {
   "cell_type": "markdown",
   "id": "cc506e67-12bd-44b2-af4b-02d362e86ac0",
   "metadata": {},
   "source": [
    "# OOP=Object Oriented Programming"
   ]
  },
  {
   "cell_type": "markdown",
   "id": "065e29dd-b653-49aa-84d1-32937a7f7977",
   "metadata": {},
   "source": [
    "It is a programming approach based on classes & objects . In simple language oop is the method to represent the \"real world entity\" in programming ."
   ]
  },
  {
   "cell_type": "markdown",
   "id": "eb5e20bf-6ac8-42b4-873d-14c0a82d8a5c",
   "metadata": {},
   "source": [
    "# object=Instance"
   ]
  },
  {
   "cell_type": "code",
   "execution_count": 14,
   "id": "e0fd5d8c-1370-4c4a-a99e-957005a4b3dd",
   "metadata": {},
   "outputs": [
    {
     "name": "stdout",
     "output_type": "stream",
     "text": [
      "rahul\n",
      "rahul\n"
     ]
    }
   ],
   "source": [
    "class Student:\n",
    "    name=\"rahul\"\n",
    "\n",
    "s1=Student()  # object\n",
    "print(s1.name)\n",
    "\n",
    "s2=Student()\n",
    "print(s2.name)"
   ]
  },
  {
   "cell_type": "code",
   "execution_count": 24,
   "id": "f8d48d90-4164-4186-9599-e87762ba89c7",
   "metadata": {},
   "outputs": [
    {
     "name": "stdout",
     "output_type": "stream",
     "text": [
      "blue\n",
      "kia\n"
     ]
    }
   ],
   "source": [
    "class car:\n",
    "    color=\"blue\"\n",
    "    brand=\"kia\"\n",
    "\n",
    "car1=car()\n",
    "print(car1.color)\n",
    "print(car1.brand)\n",
    "    "
   ]
  },
  {
   "cell_type": "markdown",
   "id": "6ddb72b0-99ea-41a1-a408-b633a6fff706",
   "metadata": {},
   "source": [
    "## Constructor"
   ]
  },
  {
   "cell_type": "markdown",
   "id": "ddee2532-5922-478d-9c64-7bef3750886e",
   "metadata": {},
   "source": [
    "All classes have a function called __init__(), which is always executed when the object is being\n",
    "initiated."
   ]
  },
  {
   "cell_type": "code",
   "execution_count": 9,
   "id": "870e41ac-df7d-4012-b9c3-46555b1ec92c",
   "metadata": {},
   "outputs": [],
   "source": [
    "# __init__ function\n"
   ]
  },
  {
   "cell_type": "code",
   "execution_count": 12,
   "id": "c72e6beb-2e0b-407e-812a-b12e900e1e28",
   "metadata": {},
   "outputs": [],
   "source": [
    "# creating class\n",
    "\n",
    "class Student:\n",
    "    def __init__(self,fullname):\n",
    "        self.name=fullname"
   ]
  },
  {
   "cell_type": "code",
   "execution_count": 14,
   "id": "ec5fb9ea-e426-4753-ae02-8154b8f789d6",
   "metadata": {},
   "outputs": [
    {
     "name": "stdout",
     "output_type": "stream",
     "text": [
      "karan\n"
     ]
    }
   ],
   "source": [
    "# creating object\n",
    "\n",
    "s1=Student(\"karan\")\n",
    "print(s1.name)"
   ]
  },
  {
   "cell_type": "markdown",
   "id": "e6beed43-4a9b-4d1e-8f18-0aff7600e1c4",
   "metadata": {},
   "source": [
    "* The self parameter is a reference to the current\n",
    "instance of the class, and is used to access variables\n",
    "that belongs to the class."
   ]
  },
  {
   "cell_type": "code",
   "execution_count": 19,
   "id": "6d129d15-8443-48cc-90b9-5ad680e47425",
   "metadata": {},
   "outputs": [
    {
     "name": "stdout",
     "output_type": "stream",
     "text": [
      "<__main__.Student object at 0x000001A8C778BCE0>\n",
      "adding new student in Database..\n",
      "<__main__.Student object at 0x000001A8C778BCE0>\n"
     ]
    }
   ],
   "source": [
    "class Student:\n",
    "    name=\"rahul\"\n",
    "    def __init__(self):\n",
    "        print(self)\n",
    "        print(\"adding new student in Database..\")\n",
    "\n",
    "s1=Student()\n",
    "print(s1)"
   ]
  },
  {
   "cell_type": "code",
   "execution_count": 29,
   "id": "54854c79-d8c5-4d99-b6e5-9d6f93280dcf",
   "metadata": {},
   "outputs": [
    {
     "name": "stdout",
     "output_type": "stream",
     "text": [
      "adding new student in Database..\n",
      "jatin\n",
      "adding new student in Database..\n",
      "sumit\n"
     ]
    }
   ],
   "source": [
    "class Student:\n",
    "    \n",
    "    def __init__(self,fullname):\n",
    "        self.name=fullname\n",
    "        print(\"adding new student in Database..\")\n",
    "\n",
    "s1=Student(\"jatin\")\n",
    "print(s1.name)\n",
    "\n",
    "s2=Student(\"sumit\")\n",
    "print(s2.name)"
   ]
  },
  {
   "cell_type": "code",
   "execution_count": 31,
   "id": "68152a12-face-4e43-97be-d86f025738e5",
   "metadata": {},
   "outputs": [],
   "source": [
    "# attributes==> data,variables"
   ]
  },
  {
   "cell_type": "code",
   "execution_count": 39,
   "id": "e0708406-3f40-4ab4-89dc-fc0d11b79882",
   "metadata": {},
   "outputs": [
    {
     "name": "stdout",
     "output_type": "stream",
     "text": [
      "adding new student in Database..\n",
      "jatin 85\n",
      "adding new student in Database..\n",
      "sumit 56\n"
     ]
    }
   ],
   "source": [
    "class Student:\n",
    "    \n",
    "    def __init__(self,name,marks):\n",
    "        self.name=name\n",
    "        self.marks=marks\n",
    "        print(\"adding new student in Database..\")\n",
    "\n",
    "s1=Student(\"jatin\",85)\n",
    "print(s1.name,s1.marks)\n",
    "\n",
    "s2=Student(\"sumit\",56)\n",
    "print(s2.name,s2.marks)"
   ]
  },
  {
   "cell_type": "code",
   "execution_count": null,
   "id": "29790ee4-b00a-49a8-8177-c474affdbce7",
   "metadata": {},
   "outputs": [],
   "source": [
    "class Student:\n",
    "\n",
    "    # default constructors\n",
    "    def __init__(self):\n",
    "        pass\n",
    "\n",
    "    # parameterized contsructors\n",
    "    \n",
    "    def __init__(self,name,marks):\n",
    "        self.name=name\n",
    "        self.marks=marks\n",
    "        print(\"adding new student in Database..\")\n",
    "\n",
    "s3=Student()   # dafault\n",
    "\n",
    "s1=Student(\"jatin\",85)\n",
    "print(s1.name,s1.marks)\n",
    "\n",
    "s2=Student(\"sumit\",56)\n",
    "print(s2.name,s2.marks)\n",
    "\n"
   ]
  },
  {
   "cell_type": "markdown",
   "id": "5fb9a124-4666-47b2-82dc-0e82be7ad976",
   "metadata": {},
   "source": [
    "# class & Instance Attributes"
   ]
  },
  {
   "cell_type": "code",
   "execution_count": 49,
   "id": "9bc3dcc1-07ba-48b9-9e34-a3382b538e01",
   "metadata": {},
   "outputs": [],
   "source": [
    "# Instance Attributes (eski value har class ke liye alag hoti hai )\n",
    "\n",
    "# exaple: self.name  , self.marks"
   ]
  },
  {
   "cell_type": "code",
   "execution_count": 51,
   "id": "5811f0f4-49b8-43b0-b3f6-ca171307d367",
   "metadata": {},
   "outputs": [],
   "source": [
    "# class Attributes (yah sab ke liye ek hota hai )\n",
    "\n",
    "# jese ki class me sab students ka name alag hota hai but collage name same hota hai"
   ]
  },
  {
   "cell_type": "code",
   "execution_count": 57,
   "id": "e6507a37-4de9-45bf-81d7-eb2a7620367e",
   "metadata": {},
   "outputs": [
    {
     "name": "stdout",
     "output_type": "stream",
     "text": [
      "kota univercity\n"
     ]
    }
   ],
   "source": [
    "class Student:\n",
    "    \n",
    "    collage_name=\"kota univercity\"   #class attributes\n",
    "    def __init__(self,name,marks):\n",
    "        self.name=name   # instance attribute\n",
    "        self.marks=marks\n",
    "        \n",
    "\n",
    "s1=Student(\"rahul\",85)\n",
    "print(s1.collage_name)\n",
    "\n"
   ]
  },
  {
   "cell_type": "code",
   "execution_count": 59,
   "id": "7a1cf49a-b5f0-47d1-b4d6-d778b7cf8f38",
   "metadata": {},
   "outputs": [],
   "source": [
    "# class.attr_name\n",
    "# obj.attr_name"
   ]
  },
  {
   "cell_type": "code",
   "execution_count": 61,
   "id": "70d5dd1a-aff0-4c2e-8f6a-7fa1430ddcec",
   "metadata": {},
   "outputs": [
    {
     "name": "stdout",
     "output_type": "stream",
     "text": [
      "kota univercity\n"
     ]
    }
   ],
   "source": [
    "class Student:\n",
    "    \n",
    "    collage_name=\"kota univercity\"   #class attributes\n",
    "    def __init__(self,name,marks):\n",
    "        self.name=name   # instance attribute\n",
    "        self.marks=marks\n",
    "        \n",
    "\n",
    "s1=Student(\"rahul\",85)\n",
    "print(Student.collage_name)\n",
    "\n"
   ]
  },
  {
   "cell_type": "code",
   "execution_count": 69,
   "id": "66dc6825-299c-46dc-8a9c-30ff29130283",
   "metadata": {},
   "outputs": [
    {
     "name": "stdout",
     "output_type": "stream",
     "text": [
      "rahul\n",
      "mohan\n"
     ]
    }
   ],
   "source": [
    "class Student:\n",
    "    \n",
    "    collage_name=\"kota univercity\"   \n",
    "    name=\"mohan\"    # class attr\n",
    "    def __init__(self,name,marks):\n",
    "        self.name=name   # obj attr > class attr\n",
    "        self.marks=marks\n",
    "        \n",
    "\n",
    "s1=Student(\"rahul\",85)\n",
    "print(s1.name)\n",
    "print(Student.name)\n",
    "\n"
   ]
  },
  {
   "cell_type": "markdown",
   "id": "1a08ff57-b246-4d6e-9cc9-a21bef1198f6",
   "metadata": {},
   "source": [
    "# Methods"
   ]
  },
  {
   "cell_type": "markdown",
   "id": "919cbebc-9015-4408-9769-a5a3a641c57f",
   "metadata": {},
   "source": [
    "Methods are functions that belong to object."
   ]
  },
  {
   "cell_type": "code",
   "execution_count": 81,
   "id": "23addf43-a1a1-4c0c-83e1-dbfa2fa07608",
   "metadata": {},
   "outputs": [
    {
     "name": "stdout",
     "output_type": "stream",
     "text": [
      "welcome student : rahul\n",
      "85\n"
     ]
    }
   ],
   "source": [
    "class Student:\n",
    "    \n",
    "    collage_name=\"kota univercity\"   \n",
    "    name=\"mohan\"    \n",
    "    def __init__(self,name,marks):\n",
    "        self.name=name  \n",
    "        self.marks=marks\n",
    "\n",
    "    def welcome(self):\n",
    "        print(\"welcome student :\",self.name)\n",
    "\n",
    "    def get_marks(self):\n",
    "        return self.marks\n",
    "        \n",
    "        \n",
    "\n",
    "s1=Student(\"rahul\",85)\n",
    "s1.welcome()\n",
    "print(s1.get_marks())\n",
    "\n"
   ]
  },
  {
   "cell_type": "markdown",
   "id": "3f6c0a89-35c5-4643-8b2b-26d474b6bae5",
   "metadata": {},
   "source": [
    "Q. Create student class that takes name & marks of 3 subjects as arguments in constructor.\n",
    "Then create a method to print the average."
   ]
  },
  {
   "cell_type": "code",
   "execution_count": 94,
   "id": "cc83410e-049c-4cc7-b6b5-50578a055c77",
   "metadata": {},
   "outputs": [
    {
     "name": "stdout",
     "output_type": "stream",
     "text": [
      "hi ajay your avg score is :  60.0\n",
      "hi rakesh your avg score is :  60.0\n"
     ]
    }
   ],
   "source": [
    "class Student:\n",
    "\n",
    "    def __init__(self,name,marks):\n",
    "        self.name=name\n",
    "        self.marks=marks\n",
    "\n",
    "    def get_avg(self):\n",
    "        sum=0\n",
    "        for i in self.marks:\n",
    "            sum=sum+i\n",
    "\n",
    "        print(\"hi\" ,self.name,\"your avg score is : \",sum/3)\n",
    "\n",
    "s1=Student(\"ajay\",[30,50,100])\n",
    "s1.get_avg()\n",
    "\n",
    "s1.name=\"rakesh\"\n",
    "s1.get_avg()"
   ]
  },
  {
   "cell_type": "markdown",
   "id": "740d1529-b87c-480f-9944-bfb85b278897",
   "metadata": {},
   "source": [
    "# Static Method"
   ]
  },
  {
   "cell_type": "markdown",
   "id": "038cef44-d7b3-4d85-80d3-940dd80501de",
   "metadata": {},
   "source": [
    "Methods that don't use the self parameter (work at class level)"
   ]
  },
  {
   "cell_type": "code",
   "execution_count": 100,
   "id": "bf67b9f6-032c-4c8f-821c-b74c6902a430",
   "metadata": {},
   "outputs": [
    {
     "name": "stdout",
     "output_type": "stream",
     "text": [
      "welcome student : rahul\n",
      "85\n",
      "jaipur\n"
     ]
    }
   ],
   "source": [
    "class Student:\n",
    "    \n",
    "    collage_name=\"kota univercity\"   \n",
    "    name=\"mohan\"  \n",
    "\n",
    "    @staticmethod                   # decorator\n",
    "    def state():\n",
    "        print(\"jaipur\")\n",
    "    def __init__(self,name,marks):\n",
    "        self.name=name  \n",
    "        self.marks=marks\n",
    "\n",
    "    def welcome(self):\n",
    "        print(\"welcome student :\",self.name)\n",
    "\n",
    "    def get_marks(self):\n",
    "        return self.marks\n",
    "        \n",
    "        \n",
    "\n",
    "s1=Student(\"rahul\",85)\n",
    "s1.welcome()\n",
    "print(s1.get_marks())\n",
    "s1.state() \n",
    "# yah mmethod bina self likhe chlta hai\n",
    "\n"
   ]
  },
  {
   "cell_type": "markdown",
   "id": "3b2aefc8-2dd8-486f-a1f5-af4c7d1e3472",
   "metadata": {},
   "source": [
    "*Decorators allow us to wrap another function in order to\n",
    "extend the behaviour of the wrapped function, without\n",
    "permanently modifying it"
   ]
  },
  {
   "cell_type": "markdown",
   "id": "3177751f-931a-44c9-b865-a9bf8ac7b9f7",
   "metadata": {},
   "source": [
    "## Important"
   ]
  },
  {
   "cell_type": "markdown",
   "id": "637279ed-6efc-4407-bc5d-c35c5e003d5f",
   "metadata": {},
   "source": [
    "## Abstraction : Hiding the implementation details of a class and only showing the essential features to the user . "
   ]
  },
  {
   "cell_type": "markdown",
   "id": "5daf54ef-a4ea-4f98-81e0-b9166c441dc0",
   "metadata": {},
   "source": [
    "## Encapsulation : Wrapping data and functions into a single unit(object)."
   ]
  },
  {
   "cell_type": "markdown",
   "id": "47a055e3-c2aa-4593-ab76-a4160e0bb4e8",
   "metadata": {},
   "source": [
    "## Inheritance"
   ]
  },
  {
   "cell_type": "markdown",
   "id": "ef984438-8361-402b-a883-ec9ac232b323",
   "metadata": {},
   "source": [
    "## Polymorphism"
   ]
  },
  {
   "cell_type": "code",
   "execution_count": 110,
   "id": "82d526b8-63cf-42ab-bdae-c10745ed1c41",
   "metadata": {},
   "outputs": [],
   "source": [
    "# thats are 4 piller of oop."
   ]
  },
  {
   "cell_type": "code",
   "execution_count": 116,
   "id": "5288bebd-7c96-4500-8a78-a8d311e9a37a",
   "metadata": {},
   "outputs": [
    {
     "name": "stdout",
     "output_type": "stream",
     "text": [
      "car started...\n"
     ]
    }
   ],
   "source": [
    "class Car:\n",
    "    def __init__(self):\n",
    "        self.acc=False\n",
    "        self.brk=False\n",
    "        self.clutch=False\n",
    "\n",
    "    def start(self):\n",
    "        self.clutch=True  # abstractions\n",
    "        self.acc=True\n",
    "        print(\"car started...\")\n",
    "\n",
    "car1=Car()\n",
    "car1.start()\n",
    "\n"
   ]
  },
  {
   "cell_type": "code",
   "execution_count": 118,
   "id": "9ed7978a-f56b-4eb3-85ce-5fa3a5420e3b",
   "metadata": {},
   "outputs": [],
   "source": [
    "# Encapsulation==> data + functions"
   ]
  },
  {
   "cell_type": "markdown",
   "id": "49ef3253-711a-48de-940e-b330b1e9516e",
   "metadata": {},
   "source": [
    "Q. Create Account class with 2 attributes - balance & account no.\n",
    "Create methods for debit, credit & printing the balance."
   ]
  },
  {
   "cell_type": "code",
   "execution_count": 135,
   "id": "e4362c9a-7af4-4012-bd0d-d13810b4b973",
   "metadata": {},
   "outputs": [
    {
     "name": "stdout",
     "output_type": "stream",
     "text": [
      "50000\n",
      "1001\n",
      "Rs. 10000 was debeted\n",
      "total balance: 40000\n",
      "Rs. 5000 was credited\n",
      "total balance: 45000\n",
      "Rs. 30000 was credited\n",
      "total balance: 75000\n",
      "Rs. 50000 was debeted\n",
      "total balance: 25000\n"
     ]
    }
   ],
   "source": [
    "class Account:\n",
    "    def __init__(self,bal,acc):\n",
    "        self.balance=bal\n",
    "        self.account_no=acc\n",
    "\n",
    "    # debit method\n",
    "    def debit(self,amount):\n",
    "        self.balance=self.balance-amount\n",
    "        print(\"Rs.\",amount,\"was debeted\")\n",
    "        print(\"total balance:\",self.get_balance())\n",
    "\n",
    "        # credit method\n",
    "    def credit(self,amount):\n",
    "        self.balance=self.balance+amount\n",
    "        print(\"Rs.\",amount,\"was credited\")\n",
    "        print(\"total balance:\",self.get_balance())\n",
    "\n",
    "    def get_balance(self):\n",
    "        return self.balance\n",
    "\n",
    "\n",
    "customer1=Account(50000,1001)\n",
    "print(customer1.balance)\n",
    "print(customer1.account_no)\n",
    "\n",
    "customer1.debit(10000)\n",
    "customer1.credit(5000)\n",
    "customer1.credit(30000)\n",
    "customer1.debit(50000)\n",
    "\n"
   ]
  },
  {
   "cell_type": "code",
   "execution_count": null,
   "id": "ddddb2bc-d6b9-44e7-92a8-8c9128937c75",
   "metadata": {},
   "outputs": [],
   "source": []
  }
 ],
 "metadata": {
  "kernelspec": {
   "display_name": "Python 3 (ipykernel)",
   "language": "python",
   "name": "python3"
  },
  "language_info": {
   "codemirror_mode": {
    "name": "ipython",
    "version": 3
   },
   "file_extension": ".py",
   "mimetype": "text/x-python",
   "name": "python",
   "nbconvert_exporter": "python",
   "pygments_lexer": "ipython3",
   "version": "3.12.4"
  }
 },
 "nbformat": 4,
 "nbformat_minor": 5
}
