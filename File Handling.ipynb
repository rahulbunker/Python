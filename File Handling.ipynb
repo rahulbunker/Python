{
 "cells": [
  {
   "cell_type": "markdown",
   "id": "68192f6d-6061-42a9-b43a-e3dc92be4a1e",
   "metadata": {},
   "source": [
    "# File Input/Output in Python"
   ]
  },
  {
   "cell_type": "markdown",
   "id": "14b47c12-41be-4d3e-9c04-c54dd2205190",
   "metadata": {},
   "source": [
    "FILE: file is used to store data permanetly in memory . "
   ]
  },
  {
   "cell_type": "markdown",
   "id": "a3fb5f9f-142f-475f-a75a-64a2bdc6430c",
   "metadata": {},
   "source": [
    "pyhon can be used to perform operations on a file.(read & write data)"
   ]
  },
  {
   "cell_type": "code",
   "execution_count": 1,
   "id": "768195fd-8d55-4728-ad0a-e9caf6e45633",
   "metadata": {},
   "outputs": [],
   "source": [
    "# types of all files\n",
    "# 1. Text Files: .txt , .docx , .log etc..\n",
    "# 2. Binary Files : .mp4 , .mov , .png , jpeq etc ...."
   ]
  },
  {
   "cell_type": "code",
   "execution_count": 2,
   "id": "a34d436d-7e45-4e4c-b179-c6ce8633682b",
   "metadata": {},
   "outputs": [],
   "source": [
    "# operations on file:-\n",
    "# 1. open a file\n",
    "# 2. read/write\n",
    "# 3. close the file"
   ]
  },
  {
   "cell_type": "code",
   "execution_count": 3,
   "id": "dc341c50-c227-4b04-acbc-c1b5569f3c84",
   "metadata": {},
   "outputs": [],
   "source": [
    "# we have to open a file before reading or writting .\n",
    "\n",
    "# f=open(\"file_name\",\"mode\") {file_name = sample.txt/demo.docx , mode=r/w}\n",
    "# data=f.read()\n",
    "# f.close()"
   ]
  },
  {
   "cell_type": "code",
   "execution_count": 4,
   "id": "632c4f46-426e-481a-bc5c-f9d92fccf466",
   "metadata": {},
   "outputs": [
    {
     "name": "stdout",
     "output_type": "stream",
     "text": [
      "Hello Hey\n",
      "I am Rahul\n",
      "and how are you ?\n",
      "<class 'str'>\n"
     ]
    }
   ],
   "source": [
    "f=open(\"File_handling.txt\",\"r\")\n",
    "data=f.read()\n",
    "print(data)\n",
    "print(type(data))\n",
    "f.close()"
   ]
  },
  {
   "cell_type": "code",
   "execution_count": 5,
   "id": "027bee02-218b-431a-b7da-254803a520ef",
   "metadata": {},
   "outputs": [
    {
     "name": "stdout",
     "output_type": "stream",
     "text": [
      "Hello Hey\n",
      "I am Rahul\n",
      "and how are you ?\n",
      "<class 'str'>\n"
     ]
    }
   ],
   "source": [
    "f=open(\"File_handling.txt\",\"rt\")  # T=text=byedfault hota\n",
    "data=f.read()\n",
    "print(data)\n",
    "print(type(data))\n",
    "f.close()"
   ]
  },
  {
   "cell_type": "code",
   "execution_count": 11,
   "id": "e93aec28-20ff-4d3b-ae4a-f6d784a35eb0",
   "metadata": {},
   "outputs": [
    {
     "name": "stdout",
     "output_type": "stream",
     "text": [
      "Hello H\n"
     ]
    }
   ],
   "source": [
    "f=open(\"File_handling.txt\",\"r\")\n",
    "data=f.read(7)  # only starting ke 7 character hi read krega\n",
    "print(data)\n",
    "\n",
    "f.close()"
   ]
  },
  {
   "cell_type": "code",
   "execution_count": 16,
   "id": "f3a9202b-f2b0-4405-9c4b-7d6e2097f8c9",
   "metadata": {},
   "outputs": [
    {
     "name": "stdout",
     "output_type": "stream",
     "text": [
      "Hello Hey\n",
      "\n",
      "I am Rahul\n",
      "\n"
     ]
    }
   ],
   "source": [
    "f=open(\"File_handling.txt\",\"r\")\n",
    "line1=f.readline()  # reads one line at a time\n",
    "print(line1)\n",
    "line2=f.readline()\n",
    "print(line2)\n",
    "f.close()"
   ]
  },
  {
   "cell_type": "code",
   "execution_count": 18,
   "id": "e20ba4f1-d0a5-4d2c-858e-2d3bb9ba6a48",
   "metadata": {},
   "outputs": [
    {
     "name": "stdout",
     "output_type": "stream",
     "text": [
      "\n",
      "\n"
     ]
    }
   ],
   "source": [
    "f=open(\"File_handling.txt\",\"r\")\n",
    "f.read()\n",
    "line1=f.readline()  # none beacause read krke karser last me pahuch gya hai\n",
    "print(line1)\n",
    "line2=f.readline()\n",
    "print(line2)\n",
    "f.close()"
   ]
  },
  {
   "cell_type": "markdown",
   "id": "ca1bb2c7-1dc6-4225-8022-fa909a0accdb",
   "metadata": {},
   "source": [
    "## Writing to a file"
   ]
  },
  {
   "cell_type": "code",
   "execution_count": 20,
   "id": "e7515638-8a70-42ae-ba02-72b68799d919",
   "metadata": {},
   "outputs": [],
   "source": [
    "# f=open(\"demo.txt\",\"w\")\n",
    "# f.write(\"this is a new line\")  { overwrites the entire file}\n",
    "\n",
    "\n",
    "# f=open(\"demo.txt\",\"a\")  a=at add the end\n",
    "# f.write(\"this is a new line\")  { adds to the file}"
   ]
  },
  {
   "cell_type": "code",
   "execution_count": 23,
   "id": "23c7d907-4d6f-4e7d-882c-868c74aac883",
   "metadata": {},
   "outputs": [],
   "source": [
    "f=open(\"File_handling.txt\",\"w\")\n",
    "f.write(\"I want to learn data science\") # file ka sara data change hoker uski jagah yh aajayga\n",
    "f.close()"
   ]
  },
  {
   "cell_type": "code",
   "execution_count": 24,
   "id": "db3e641c-e4ab-4fce-9b3f-6e907dfe918b",
   "metadata": {},
   "outputs": [],
   "source": [
    "f=open(\"File_handling.txt\",\"a\")\n",
    "f.write(\"\\nI want to learn from IIIT Luchnow\") # esme last me add ho jayga\n",
    "f.close()"
   ]
  },
  {
   "cell_type": "markdown",
   "id": "36b0bff9-51cf-4868-876e-fbfb13181e4b",
   "metadata": {},
   "source": [
    "## agar file a or w mode me file open krte hai yadi wah exist nhi karti to yh new file bna dete hai"
   ]
  },
  {
   "cell_type": "code",
   "execution_count": 33,
   "id": "c7414725-b8b1-49a0-b4e5-b46573336d1e",
   "metadata": {},
   "outputs": [],
   "source": [
    "f=open(\"sample.txt\",\"a\")\n",
    "data=f.write(\"Hello Hey\") \n",
    "\n",
    "f.close()"
   ]
  },
  {
   "cell_type": "code",
   "execution_count": 31,
   "id": "69374a9e-58d4-4bbb-9366-f2d40e2662dc",
   "metadata": {},
   "outputs": [],
   "source": [
    "f=open(\"sample.txt\",\"r+\")\n",
    "f.write(\"mr.\")# r+=yh staring se overrite krta hai\n",
    "\n",
    "\n",
    "f.close()\n",
    "\n",
    "# hello hey==>mr.lo hey"
   ]
  },
  {
   "cell_type": "code",
   "execution_count": 34,
   "id": "d50c2cf4-b7c4-4a35-b06e-c56687307408",
   "metadata": {},
   "outputs": [
    {
     "name": "stdout",
     "output_type": "stream",
     "text": [
      "lo hey\n"
     ]
    }
   ],
   "source": [
    "f=open(\"sample.txt\",\"r+\")\n",
    "f.write(\"mr.\")\n",
    "print(f.read())\n",
    "# reading wahi se hogi jha curser ruka h write krke\n",
    "f.close()\n",
    "\n",
    "# hello hey==>mr.lo hey"
   ]
  },
  {
   "cell_type": "markdown",
   "id": "1f480757-8788-4bda-b985-6c164a8d50c3",
   "metadata": {},
   "source": [
    "## with Syntax"
   ]
  },
  {
   "cell_type": "code",
   "execution_count": null,
   "id": "da03a046-ebc1-4f88-a9ef-8cd8a4f83f97",
   "metadata": {},
   "outputs": [],
   "source": [
    "with open(\"demo.txt\",\"a\") as f:\n",
    "    data=f.read()\n",
    "\n",
    "# with automatic close our file not neeed to close file"
   ]
  },
  {
   "cell_type": "code",
   "execution_count": 35,
   "id": "ee3e9f80-f983-4479-9baf-49194d3dd895",
   "metadata": {},
   "outputs": [
    {
     "name": "stdout",
     "output_type": "stream",
     "text": [
      "I want to learn data science\n",
      "I want to learn from IIIT Luchnow\n"
     ]
    }
   ],
   "source": [
    "with open(\"File_handling.txt\",\"r\") as f:\n",
    "    data=f.read()\n",
    "    print(data)"
   ]
  },
  {
   "cell_type": "code",
   "execution_count": 38,
   "id": "e7c75da4-7c89-4b4c-aeaa-586439a21dd8",
   "metadata": {},
   "outputs": [
    {
     "name": "stdout",
     "output_type": "stream",
     "text": [
      "new data\n"
     ]
    }
   ],
   "source": [
    "with open(\"File_handling.txt\",\"r\") as f:\n",
    "    data=f.read()\n",
    "    print(data)\n",
    "with open(\"File_handling.txt\",\"w\") as f:\n",
    "    f.write(\"new data\")\n"
   ]
  },
  {
   "cell_type": "markdown",
   "id": "25829c7a-9a25-4c8c-a9d3-d0999e4ff05e",
   "metadata": {},
   "source": [
    "## Deleting a File"
   ]
  },
  {
   "cell_type": "markdown",
   "id": "d25967ad-5e72-4965-ab02-3bcff02a284a",
   "metadata": {},
   "source": [
    "using the os module\n",
    "\n",
    "Module(like a codemlibrary) is a file written by another programmer that generally has a functions we can use ."
   ]
  },
  {
   "cell_type": "markdown",
   "id": "7427a34e-d380-4f65-9b6e-c3b24d5bbc47",
   "metadata": {},
   "source": [
    "import os \n",
    "os.remove(\"filename\")"
   ]
  },
  {
   "cell_type": "code",
   "execution_count": 40,
   "id": "79f80e94-3d9a-4573-b904-03ab56815abb",
   "metadata": {},
   "outputs": [],
   "source": [
    "import os\n",
    "os.remove(\"sample.txt\")"
   ]
  },
  {
   "cell_type": "markdown",
   "id": "54196608-1857-4f90-9050-dbf7a0b1ab38",
   "metadata": {},
   "source": [
    "## Let's Practice"
   ]
  },
  {
   "cell_type": "markdown",
   "id": "3bec951f-cc80-4216-ad27-d681249ffc14",
   "metadata": {},
   "source": [
    "# Q1. Create a new file “practice.txt” using python. Add the following data in it:\n",
    "     "
   ]
  },
  {
   "cell_type": "code",
   "execution_count": 41,
   "id": "7dfece58-cd75-4283-aa71-65dc8b555736",
   "metadata": {},
   "outputs": [],
   "source": [
    "# Hi everyone\n",
    "# we are learning File I/O\n",
    "# using Java.\n",
    "# I like programming in Java"
   ]
  },
  {
   "cell_type": "code",
   "execution_count": 42,
   "id": "f289b6a5-4f4a-4ae3-9ca4-2d26bfe8c593",
   "metadata": {},
   "outputs": [],
   "source": [
    "# ANS.\n",
    "\n",
    "with open(\"q1.txt\",\"w\") as f:\n",
    "    f.write(\"Hi everyone\\nwe are learning File I/O\\n\")\n",
    "    f.write(\"using Java.\\nI like programming in Java\")"
   ]
  },
  {
   "cell_type": "markdown",
   "id": "b64807c2-ea97-44f6-b444-f8f16bc6e5aa",
   "metadata": {},
   "source": [
    "# Q2. WAF that replace all occurrences of “java” with “python” in above file.\n"
   ]
  },
  {
   "cell_type": "code",
   "execution_count": 48,
   "id": "0c044610-ba50-4302-ae67-656649539b78",
   "metadata": {},
   "outputs": [
    {
     "name": "stdout",
     "output_type": "stream",
     "text": [
      "Hi everyone\n",
      "we are learning File I/O\n",
      "using python.\n",
      "I like programming in python\n"
     ]
    }
   ],
   "source": [
    "with open(\"q1.txt\",\"r\") as f:\n",
    "    data=f.read()\n",
    "\n",
    "new_data=data.replace(\"Java\",\"python\")\n",
    "print(new_data)\n",
    "\n",
    "with open(\"q1.txt\",\"w\") as f:\n",
    "    f.write(new_data)"
   ]
  },
  {
   "cell_type": "markdown",
   "id": "b8cece43-d853-42d2-bb01-15f861ad23d3",
   "metadata": {},
   "source": [
    "### Search if the word “learning” exists in the file or not."
   ]
  },
  {
   "cell_type": "code",
   "execution_count": 49,
   "id": "9707e115-0b4c-407e-a6fe-e9b4bfe1f268",
   "metadata": {},
   "outputs": [
    {
     "name": "stdout",
     "output_type": "stream",
     "text": [
      "Found\n"
     ]
    }
   ],
   "source": [
    "word=\"learning\"\n",
    "with open(\"q1.txt\",\"r\") as f:\n",
    "    data=f.read()\n",
    "    if(data.find(word)!=-1):\n",
    "        print(\"Found\")\n",
    "\n",
    "    else:\n",
    "        print(\"not found\")"
   ]
  },
  {
   "cell_type": "code",
   "execution_count": 50,
   "id": "3693893b-9fdc-4b24-a21d-f6ae9ac0ae2f",
   "metadata": {},
   "outputs": [
    {
     "name": "stdout",
     "output_type": "stream",
     "text": [
      "Found\n"
     ]
    }
   ],
   "source": [
    "word=\"learning\"\n",
    "with open(\"q1.txt\",\"r\") as f:\n",
    "    data=f.read()\n",
    "    if(word in data):\n",
    "        print(\"Found\")\n",
    "\n",
    "    else:\n",
    "        print(\"not found\")"
   ]
  },
  {
   "cell_type": "markdown",
   "id": "11907980-8d5b-42f5-b6b7-eb2414328adc",
   "metadata": {},
   "source": [
    "# Q3.WAF to find in which line of the file does the word “learning”occur first. Print -1 if word not found."
   ]
  },
  {
   "cell_type": "code",
   "execution_count": 59,
   "id": "735350f4-939a-487f-b287-efa81f4d85a4",
   "metadata": {},
   "outputs": [
    {
     "name": "stdout",
     "output_type": "stream",
     "text": [
      "2\n"
     ]
    }
   ],
   "source": [
    "def check_for_line():\n",
    "    word=\"learning\"\n",
    "    data=True\n",
    "    line_no=1\n",
    "    with open(\"q1.txt\",\"r\") as f:\n",
    "        while data:\n",
    "            data=f.readline()\n",
    "            if(word in data):\n",
    "                print(line_no)\n",
    "                return\n",
    "            line_no+=1\n",
    "\n",
    "    return -1\n",
    "\n",
    "check_for_line()"
   ]
  },
  {
   "cell_type": "markdown",
   "id": "694d31d8-7e35-46f9-9c9b-4490879f8cee",
   "metadata": {},
   "source": [
    "## Q.4 From a file containing numbers separated by comma, print the count of even numbers."
   ]
  },
  {
   "cell_type": "code",
   "execution_count": 61,
   "id": "3251ce12-e355-4e54-8f5c-7f2ddf7b2188",
   "metadata": {},
   "outputs": [
    {
     "name": "stdout",
     "output_type": "stream",
     "text": [
      "5,2,8,98,25,2,36,45,100\n",
      "<class 'str'>\n"
     ]
    }
   ],
   "source": [
    "with open(\"q4.txt\",\"r\") as f:\n",
    "    data=f.read()\n",
    "    print(data)\n",
    "    print(type(data))"
   ]
  },
  {
   "cell_type": "code",
   "execution_count": 67,
   "id": "5e4d55e9-6a57-45fd-9ef0-e602a5fa6b17",
   "metadata": {},
   "outputs": [
    {
     "name": "stdout",
     "output_type": "stream",
     "text": [
      "5,2,8,98,25,2,36,45,100\n",
      "5\n",
      "2\n",
      "8\n",
      "98\n",
      "25\n",
      "2\n",
      "36\n",
      "45\n"
     ]
    }
   ],
   "source": [
    "with open(\"q4.txt\",\"r\") as f:\n",
    "    data=f.read()\n",
    "    print(data)\n",
    "    num=\"\"\n",
    "    for i in range(len(data)):\n",
    "        if(data[i]==\",\"):\n",
    "            print(int(num))\n",
    "            num=\"\"\n",
    "\n",
    "        else:\n",
    "            num+=data[i]"
   ]
  },
  {
   "cell_type": "code",
   "execution_count": 68,
   "id": "2ce5ed29-92eb-47b7-91eb-53f0ac440686",
   "metadata": {},
   "outputs": [
    {
     "name": "stdout",
     "output_type": "stream",
     "text": [
      "6\n"
     ]
    }
   ],
   "source": [
    "count=0\n",
    "with open(\"q4.txt\",\"r\") as f:\n",
    "    data=f.read()\n",
    "    nums=data.split(\",\")\n",
    "    for val in nums:\n",
    "        if(int(val)%2==0):\n",
    "            count+=1\n",
    "\n",
    "print(count)"
   ]
  },
  {
   "cell_type": "code",
   "execution_count": null,
   "id": "9115bda7-4a43-42f3-b54f-9a89f56433ad",
   "metadata": {},
   "outputs": [],
   "source": []
  }
 ],
 "metadata": {
  "kernelspec": {
   "display_name": "Python 3 (ipykernel)",
   "language": "python",
   "name": "python3"
  },
  "language_info": {
   "codemirror_mode": {
    "name": "ipython",
    "version": 3
   },
   "file_extension": ".py",
   "mimetype": "text/x-python",
   "name": "python",
   "nbconvert_exporter": "python",
   "pygments_lexer": "ipython3",
   "version": "3.10.11"
  }
 },
 "nbformat": 4,
 "nbformat_minor": 5
}
