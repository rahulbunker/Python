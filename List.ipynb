{
 "cells": [
  {
   "cell_type": "markdown",
   "id": "7b0955e0-1c98-46b1-94d8-11e390eb915f",
   "metadata": {},
   "source": [
    "# Lists In Python"
   ]
  },
  {
   "cell_type": "markdown",
   "id": "0aaf7fa8-fe2c-45db-9b32-165f77c529d9",
   "metadata": {},
   "source": [
    "##### list : data structure => that we use for storing data"
   ]
  },
  {
   "cell_type": "markdown",
   "id": "5406b72e-b53d-4d17-aafb-dcdf9685559f",
   "metadata": {},
   "source": [
    "### collection of element having index position , sequence collection of element"
   ]
  },
  {
   "cell_type": "markdown",
   "id": "c00b8108-3ad1-447d-806e-f363a153a588",
   "metadata": {},
   "source": [
    "* A built in data type that stores set of values\n",
    "\n",
    "* It can store elements of different types (integer , float , string ..etc) "
   ]
  },
  {
   "cell_type": "code",
   "execution_count": 1,
   "id": "0c20edc3-78c1-45f7-a3f7-ff69ec46773f",
   "metadata": {},
   "outputs": [
    {
     "data": {
      "text/plain": [
       "55"
      ]
     },
     "execution_count": 1,
     "metadata": {},
     "output_type": "execute_result"
    }
   ],
   "source": [
    "marks=[55,25,94]\n",
    "marks[0]"
   ]
  },
  {
   "cell_type": "code",
   "execution_count": 5,
   "id": "f3576b91-f26f-41f9-9bb7-566226e89188",
   "metadata": {},
   "outputs": [
    {
     "data": {
      "text/plain": [
       "'mohan'"
      ]
     },
     "execution_count": 5,
     "metadata": {},
     "output_type": "execute_result"
    }
   ],
   "source": [
    "student=[\"mohan\",58,\"karan\"]\n",
    "student[0]"
   ]
  },
  {
   "cell_type": "code",
   "execution_count": 7,
   "id": "205065b0-ea80-4a29-9537-f7263de6c798",
   "metadata": {},
   "outputs": [
    {
     "data": {
      "text/plain": [
       "['mohan', 58, 'karan']"
      ]
     },
     "execution_count": 7,
     "metadata": {},
     "output_type": "execute_result"
    }
   ],
   "source": [
    "student"
   ]
  },
  {
   "cell_type": "code",
   "execution_count": 9,
   "id": "54e16fc1-e44e-44f5-af57-7fcec3e5ca80",
   "metadata": {},
   "outputs": [],
   "source": [
    "student[0]=\"tushar\""
   ]
  },
  {
   "cell_type": "markdown",
   "id": "e2cce0ec-a5ff-406c-9f93-738b00948cd5",
   "metadata": {},
   "source": [
    "### list is mutable but string is imutable"
   ]
  },
  {
   "cell_type": "code",
   "execution_count": 12,
   "id": "f414e785-fa06-4f1d-bb71-2c942b3d52a4",
   "metadata": {},
   "outputs": [
    {
     "data": {
      "text/plain": [
       "['tushar', 58, 'karan']"
      ]
     },
     "execution_count": 12,
     "metadata": {},
     "output_type": "execute_result"
    }
   ],
   "source": [
    "student"
   ]
  },
  {
   "cell_type": "code",
   "execution_count": 14,
   "id": "4a529795-98b7-49c5-a50c-98c63bacfc65",
   "metadata": {},
   "outputs": [
    {
     "data": {
      "text/plain": [
       "3"
      ]
     },
     "execution_count": 14,
     "metadata": {},
     "output_type": "execute_result"
    }
   ],
   "source": [
    "len(student)"
   ]
  },
  {
   "cell_type": "markdown",
   "id": "04973b61-5662-4d8c-8a4e-62ea99d31392",
   "metadata": {},
   "source": [
    "## List Slicing"
   ]
  },
  {
   "cell_type": "markdown",
   "id": "43eddd38-e6ed-4599-be62-bf9904277fea",
   "metadata": {},
   "source": [
    "###  list_name[start:end_index] "
   ]
  },
  {
   "cell_type": "code",
   "execution_count": 18,
   "id": "f8e461f0-44c9-4f2e-8534-84fa4e01cbea",
   "metadata": {},
   "outputs": [],
   "source": [
    "# ending index is not include"
   ]
  },
  {
   "cell_type": "code",
   "execution_count": 26,
   "id": "10adaf4d-5912-4e9e-935c-0c493fc34eaf",
   "metadata": {},
   "outputs": [
    {
     "data": {
      "text/plain": [
       "[1, 5, 9]"
      ]
     },
     "execution_count": 26,
     "metadata": {},
     "output_type": "execute_result"
    }
   ],
   "source": [
    "marks=[1,2,3,4,5,6,7,8,9,10]\n",
    "marks[::4]"
   ]
  },
  {
   "cell_type": "code",
   "execution_count": 28,
   "id": "3ff10529-40de-4577-a74f-43b849c54fe8",
   "metadata": {},
   "outputs": [],
   "source": [
    "# marks[start:end:step]"
   ]
  },
  {
   "cell_type": "markdown",
   "id": "cdb6a10d-f950-48fa-b923-63df0c3222c8",
   "metadata": {},
   "source": [
    "# list Methods"
   ]
  },
  {
   "cell_type": "code",
   "execution_count": 48,
   "id": "4d745830-4d0a-41a0-902e-ad8c7ce904f8",
   "metadata": {},
   "outputs": [],
   "source": [
    "list=[2,5,36,25,356]"
   ]
  },
  {
   "cell_type": "markdown",
   "id": "14eb8003-eceb-43cb-8e5c-a5fb7bd953c4",
   "metadata": {},
   "source": [
    "* list.append(new_add)__________# adds one element at the end \n",
    "\n",
    "* list.sort()___________________# sorts in ascending order\n",
    "\n",
    "* list.sort(reverse=True)_______# sorts in descending order \n",
    "\n",
    "* list.reverse()________________# reverses list \n",
    "\n",
    "* list.insert(index,new_element)____# insert new element at index  "
   ]
  },
  {
   "cell_type": "markdown",
   "id": "24fb6c81-e0bb-4ab0-bf8b-a92231cd6f69",
   "metadata": {},
   "source": []
  },
  {
   "cell_type": "raw",
   "id": "a8cc6f37-e42d-4b66-aa7c-4f97430cf1a9",
   "metadata": {},
   "source": [
    "list.append(500000)"
   ]
  },
  {
   "cell_type": "code",
   "execution_count": 36,
   "id": "88e93ef2-dc10-41a6-9bca-a0c1e85b29db",
   "metadata": {},
   "outputs": [
    {
     "data": {
      "text/plain": [
       "[2, 5, 36, 25, 356, 500000]"
      ]
     },
     "execution_count": 36,
     "metadata": {},
     "output_type": "execute_result"
    }
   ],
   "source": [
    "list"
   ]
  },
  {
   "cell_type": "code",
   "execution_count": 40,
   "id": "0a1eb367-25c3-4327-aa3d-80ba4277bdf7",
   "metadata": {},
   "outputs": [
    {
     "data": {
      "text/plain": [
       "[2, 5, 25, 36, 356, 500000]"
      ]
     },
     "execution_count": 40,
     "metadata": {},
     "output_type": "execute_result"
    }
   ],
   "source": [
    "list.sort()\n",
    "list"
   ]
  },
  {
   "cell_type": "code",
   "execution_count": 44,
   "id": "7b13f1d7-2fad-4676-aa77-843154c484c7",
   "metadata": {},
   "outputs": [
    {
     "data": {
      "text/plain": [
       "[500000, 356, 36, 25, 5, 2]"
      ]
     },
     "execution_count": 44,
     "metadata": {},
     "output_type": "execute_result"
    }
   ],
   "source": [
    "list.sort(reverse=True)\n",
    "list"
   ]
  },
  {
   "cell_type": "code",
   "execution_count": 50,
   "id": "8d47afc8-eb64-4cae-8d59-ac625a6abe0b",
   "metadata": {},
   "outputs": [
    {
     "data": {
      "text/plain": [
       "[356, 25, 36, 5, 2]"
      ]
     },
     "execution_count": 50,
     "metadata": {},
     "output_type": "execute_result"
    }
   ],
   "source": [
    "list.reverse()\n",
    "list"
   ]
  },
  {
   "cell_type": "code",
   "execution_count": 56,
   "id": "9cae9fec-af14-422a-8f3b-a72e1e6efa61",
   "metadata": {},
   "outputs": [
    {
     "name": "stdout",
     "output_type": "stream",
     "text": [
      "None\n",
      "None\n",
      "None\n"
     ]
    }
   ],
   "source": [
    "print(list.append(40000))\n",
    "print(list.sort())\n",
    "print(list.sort(reverse=True))"
   ]
  },
  {
   "cell_type": "code",
   "execution_count": 58,
   "id": "b7b72f71-a4fb-4763-8774-07325d6bab7e",
   "metadata": {},
   "outputs": [
    {
     "data": {
      "text/plain": [
       "[40000, 40000, 40000, 356, 36, 25, 5, 2]"
      ]
     },
     "execution_count": 58,
     "metadata": {},
     "output_type": "execute_result"
    }
   ],
   "source": [
    "list"
   ]
  },
  {
   "cell_type": "code",
   "execution_count": 60,
   "id": "df14cf26-8fba-4d9e-b4ef-bec94a90d0f8",
   "metadata": {},
   "outputs": [],
   "source": [
    "list.insert(1,999999)"
   ]
  },
  {
   "cell_type": "code",
   "execution_count": 62,
   "id": "8975d24f-b1b8-45ce-8c1a-b6b2c7db70f1",
   "metadata": {},
   "outputs": [
    {
     "data": {
      "text/plain": [
       "[40000, 999999, 40000, 40000, 356, 36, 25, 5, 2]"
      ]
     },
     "execution_count": 62,
     "metadata": {},
     "output_type": "execute_result"
    }
   ],
   "source": [
    "list"
   ]
  },
  {
   "cell_type": "markdown",
   "id": "cf639efc-0db8-4f98-8bbe-955dd8b152aa",
   "metadata": {},
   "source": [
    "* list.remove(element)   # removes first occurrence of element\n",
    "\n",
    "* list.pop(index)        # removes element at index\n"
   ]
  },
  {
   "cell_type": "markdown",
   "id": "1289504d-de0a-49e2-a3de-9718465de8f6",
   "metadata": {},
   "source": [
    "list"
   ]
  },
  {
   "cell_type": "code",
   "execution_count": 70,
   "id": "9b02268e-7e71-4329-8936-8dd0b015bd50",
   "metadata": {},
   "outputs": [
    {
     "data": {
      "text/plain": [
       "[40000, 999999, 40000, 40000, 356, 36, 25, 5, 2]"
      ]
     },
     "execution_count": 70,
     "metadata": {},
     "output_type": "execute_result"
    }
   ],
   "source": [
    "list"
   ]
  },
  {
   "cell_type": "code",
   "execution_count": 74,
   "id": "f67bec78-fc16-4716-a6a8-eb93149ca460",
   "metadata": {},
   "outputs": [],
   "source": [
    "list.remove(999999)"
   ]
  },
  {
   "cell_type": "code",
   "execution_count": 78,
   "id": "498156be-bf29-4087-a1d5-967d8bef0e53",
   "metadata": {},
   "outputs": [],
   "source": [
    "list.remove(40000)"
   ]
  },
  {
   "cell_type": "code",
   "execution_count": 80,
   "id": "c6dcbf3e-f7d1-4c65-8cdf-a5d31352ae10",
   "metadata": {},
   "outputs": [
    {
     "data": {
      "text/plain": [
       "[40000, 40000, 356, 36, 25, 5, 2]"
      ]
     },
     "execution_count": 80,
     "metadata": {},
     "output_type": "execute_result"
    }
   ],
   "source": [
    "list"
   ]
  },
  {
   "cell_type": "code",
   "execution_count": 82,
   "id": "0566bb64-9e9d-4a0b-b61f-0522513c9eb0",
   "metadata": {},
   "outputs": [
    {
     "data": {
      "text/plain": [
       "356"
      ]
     },
     "execution_count": 82,
     "metadata": {},
     "output_type": "execute_result"
    }
   ],
   "source": [
    "list.pop(2)"
   ]
  },
  {
   "cell_type": "code",
   "execution_count": 84,
   "id": "42843734-bd63-4c3b-b22e-f58e38ca1228",
   "metadata": {},
   "outputs": [
    {
     "data": {
      "text/plain": [
       "[40000, 40000, 36, 25, 5, 2]"
      ]
     },
     "execution_count": 84,
     "metadata": {},
     "output_type": "execute_result"
    }
   ],
   "source": [
    "list"
   ]
  },
  {
   "cell_type": "code",
   "execution_count": null,
   "id": "e3ea16e7-f500-437a-b22c-9827f39bbbb2",
   "metadata": {},
   "outputs": [],
   "source": []
  },
  {
   "cell_type": "code",
   "execution_count": 90,
   "id": "7b09f675-6993-4a4f-9587-2b958d3d5bce",
   "metadata": {},
   "outputs": [
    {
     "name": "stdout",
     "output_type": "stream",
     "text": [
      "<class 'list'>\n"
     ]
    }
   ],
   "source": [
    "mylist=[10,20,\"hello\"]\n",
    "print(type(mylist))"
   ]
  },
  {
   "cell_type": "code",
   "execution_count": 92,
   "id": "dd288406-6367-43bb-b30a-d970201972ca",
   "metadata": {},
   "outputs": [
    {
     "data": {
      "text/plain": [
       "'hello'"
      ]
     },
     "execution_count": 92,
     "metadata": {},
     "output_type": "execute_result"
    }
   ],
   "source": [
    "mylist[-1]"
   ]
  },
  {
   "cell_type": "code",
   "execution_count": 100,
   "id": "f9d134bb-3700-41ef-bbed-dcd92f465158",
   "metadata": {},
   "outputs": [
    {
     "data": {
      "text/plain": [
       "[10, 20, 'hello']"
      ]
     },
     "execution_count": 100,
     "metadata": {},
     "output_type": "execute_result"
    }
   ],
   "source": [
    "mylist[0:3]"
   ]
  },
  {
   "cell_type": "code",
   "execution_count": 102,
   "id": "6f6022f4-34f4-4e89-a51d-f19fc1d9a3b9",
   "metadata": {},
   "outputs": [
    {
     "name": "stdout",
     "output_type": "stream",
     "text": [
      "['rahul', 20, 'hello']\n"
     ]
    }
   ],
   "source": [
    "mylist[0]=\"rahul\"\n",
    "print(mylist)"
   ]
  },
  {
   "cell_type": "code",
   "execution_count": 104,
   "id": "2b55e993-9cda-4255-a57e-db0451fc37b7",
   "metadata": {},
   "outputs": [],
   "source": [
    "# insert"
   ]
  },
  {
   "cell_type": "code",
   "execution_count": 106,
   "id": "53bf894b-8bde-4b72-b6ae-68c26fe93e26",
   "metadata": {},
   "outputs": [
    {
     "name": "stdout",
     "output_type": "stream",
     "text": [
      "['rahul', 20, 'hello', 100]\n"
     ]
    }
   ],
   "source": [
    "mylist.append(100)\n",
    "print(mylist)"
   ]
  },
  {
   "cell_type": "code",
   "execution_count": 110,
   "id": "5c7fddaa-8a75-43cf-9562-217771030e66",
   "metadata": {},
   "outputs": [
    {
     "ename": "TypeError",
     "evalue": "list.append() takes exactly one argument (2 given)",
     "output_type": "error",
     "traceback": [
      "\u001b[1;31m---------------------------------------------------------------------------\u001b[0m",
      "\u001b[1;31mTypeError\u001b[0m                                 Traceback (most recent call last)",
      "Cell \u001b[1;32mIn[110], line 1\u001b[0m\n\u001b[1;32m----> 1\u001b[0m mylist\u001b[38;5;241m.\u001b[39mappend(\u001b[38;5;241m500\u001b[39m,\u001b[38;5;241m1000\u001b[39m)\n",
      "\u001b[1;31mTypeError\u001b[0m: list.append() takes exactly one argument (2 given)"
     ]
    }
   ],
   "source": [
    "mylist.append(500,1000)\n",
    "\n",
    "# this take only one element"
   ]
  },
  {
   "cell_type": "code",
   "execution_count": 112,
   "id": "85a61c3e-d1b2-4f75-b0eb-556be4676b7e",
   "metadata": {},
   "outputs": [
    {
     "name": "stdout",
     "output_type": "stream",
     "text": [
      "['rahul', 20, 'hello', 100, 'h', 'e', 'y']\n"
     ]
    }
   ],
   "source": [
    "mylist.extend(\"hey\")\n",
    "print(mylist)"
   ]
  },
  {
   "cell_type": "code",
   "execution_count": 126,
   "id": "99d21d99-fa88-4bf0-a440-b7d3d09cf740",
   "metadata": {},
   "outputs": [
    {
     "data": {
      "text/plain": [
       "['rahul', 20, 'hello', 100, 'h', 'e', 'y', 'jatin']"
      ]
     },
     "execution_count": 126,
     "metadata": {},
     "output_type": "execute_result"
    }
   ],
   "source": [
    "mylist.extend([\"jatin\"])\n",
    "mylist"
   ]
  },
  {
   "cell_type": "code",
   "execution_count": 142,
   "id": "977bd9cf-15aa-4ecb-80ea-3ad06efa9dae",
   "metadata": {},
   "outputs": [
    {
     "data": {
      "text/plain": [
       "['rahul', 20, 'hello', 100, 'h', 'e', 'y', 'rakesh', 'ajay', 'rakesh']"
      ]
     },
     "execution_count": 142,
     "metadata": {},
     "output_type": "execute_result"
    }
   ],
   "source": [
    "mylist.extend([\"ajay\",\"rakesh\"])  # esme ek se jyada bhhi add kr skte hai\n",
    "mylist"
   ]
  },
  {
   "cell_type": "code",
   "execution_count": 145,
   "id": "40ac7faf-e5ef-467e-9647-ee875663bb39",
   "metadata": {},
   "outputs": [
    {
     "data": {
      "text/plain": [
       "['rahul',\n",
       " 20,\n",
       " 'hello',\n",
       " 100,\n",
       " 'h',\n",
       " 'e',\n",
       " 'y',\n",
       " 'rakesh',\n",
       " 'ajay',\n",
       " 'rakesh',\n",
       " 'golu',\n",
       " 25315]"
      ]
     },
     "execution_count": 145,
     "metadata": {},
     "output_type": "execute_result"
    }
   ],
   "source": [
    "mylist.extend([\"golu\",25315])\n",
    "mylist"
   ]
  },
  {
   "cell_type": "markdown",
   "id": "7f4e215f-4f09-4fb0-9ebb-3fd7bd70b22c",
   "metadata": {},
   "source": [
    "### del mylist[index]   --------->  emente delete ho jayga"
   ]
  },
  {
   "cell_type": "code",
   "execution_count": 147,
   "id": "65822492-e54a-4c41-a010-fbdece22a331",
   "metadata": {},
   "outputs": [
    {
     "data": {
      "text/plain": [
       "['rahul', 20, 'hello', 100, 'h', 'e', 'y', 'rakesh', 'ajay', 'rakesh', 'golu']"
      ]
     },
     "execution_count": 147,
     "metadata": {},
     "output_type": "execute_result"
    }
   ],
   "source": [
    "del mylist[-1]\n",
    "mylist"
   ]
  },
  {
   "cell_type": "code",
   "execution_count": 150,
   "id": "c2ac51cb-1c88-43c5-86ed-6958f695e754",
   "metadata": {},
   "outputs": [
    {
     "data": {
      "text/plain": [
       "['rahul', 20, 'hello', 100, 'h', 'e', 'y', 'rakesh', 'ajay', 'rakesh', 'golu']"
      ]
     },
     "execution_count": 150,
     "metadata": {},
     "output_type": "execute_result"
    }
   ],
   "source": [
    "mylist"
   ]
  },
  {
   "cell_type": "code",
   "execution_count": 152,
   "id": "89015e18-3a02-4549-8ab4-c3be956b4251",
   "metadata": {},
   "outputs": [
    {
     "name": "stdout",
     "output_type": "stream",
     "text": [
      "rahul\n",
      "20\n",
      "hello\n",
      "100\n",
      "h\n",
      "e\n",
      "y\n",
      "rakesh\n",
      "ajay\n",
      "rakesh\n",
      "golu\n"
     ]
    }
   ],
   "source": [
    "for i in mylist:\n",
    "    print(i)"
   ]
  },
  {
   "cell_type": "code",
   "execution_count": 156,
   "id": "16b15eb5-c062-45e7-b480-4b2d15694848",
   "metadata": {},
   "outputs": [
    {
     "name": "stdout",
     "output_type": "stream",
     "text": [
      "20\n",
      "100\n"
     ]
    }
   ],
   "source": [
    "for i in mylist:\n",
    "    if(type(i) is int):\n",
    "        print(i)"
   ]
  },
  {
   "cell_type": "code",
   "execution_count": 158,
   "id": "d82b914f-2893-4f42-941c-cc2efb764b48",
   "metadata": {},
   "outputs": [
    {
     "name": "stdout",
     "output_type": "stream",
     "text": [
      "rahul\n",
      "hello\n",
      "h\n",
      "e\n",
      "y\n",
      "rakesh\n",
      "ajay\n",
      "rakesh\n",
      "golu\n"
     ]
    }
   ],
   "source": [
    "for i in mylist:\n",
    "    if(type(i) is str):\n",
    "        print(i)"
   ]
  },
  {
   "cell_type": "code",
   "execution_count": 160,
   "id": "d69adbb7-8728-4017-a55b-c48aefd62706",
   "metadata": {},
   "outputs": [
    {
     "data": {
      "text/plain": [
       "[400, 10000]"
      ]
     },
     "execution_count": 160,
     "metadata": {},
     "output_type": "execute_result"
    }
   ],
   "source": [
    "newlist=[]\n",
    "for i in mylist:\n",
    "    if(type(i) is int):\n",
    "        newlist.append(i**2)\n",
    "\n",
    "\n",
    "newlist"
   ]
  },
  {
   "cell_type": "code",
   "execution_count": 166,
   "id": "c0e4b69d-4489-440c-9d10-18d9fde13370",
   "metadata": {},
   "outputs": [
    {
     "name": "stdout",
     "output_type": "stream",
     "text": [
      "hey hy\n",
      "hello ho\n",
      "rahul rl\n"
     ]
    }
   ],
   "source": [
    "x=[\"hey\",\"hello\",\"rahul\"]\n",
    "for i in x:\n",
    "    if(type(i) is str):\n",
    "        print(i,i[0]+i[-1])\n",
    "\n",
    "# name and first & last letter"
   ]
  },
  {
   "cell_type": "code",
   "execution_count": null,
   "id": "9ee2b549-31ad-4600-a82c-9c1c4d204b04",
   "metadata": {},
   "outputs": [],
   "source": []
  }
 ],
 "metadata": {
  "kernelspec": {
   "display_name": "Python 3 (ipykernel)",
   "language": "python",
   "name": "python3"
  },
  "language_info": {
   "codemirror_mode": {
    "name": "ipython",
    "version": 3
   },
   "file_extension": ".py",
   "mimetype": "text/x-python",
   "name": "python",
   "nbconvert_exporter": "python",
   "pygments_lexer": "ipython3",
   "version": "3.12.4"
  }
 },
 "nbformat": 4,
 "nbformat_minor": 5
}
