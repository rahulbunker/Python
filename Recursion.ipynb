{
 "cells": [
  {
   "cell_type": "markdown",
   "id": "fc97d361-8848-4430-838a-09ad54df56f9",
   "metadata": {},
   "source": [
    "# Recursion"
   ]
  },
  {
   "cell_type": "markdown",
   "id": "e876e56f-a36c-4afa-9b64-2c6bcb31a8ef",
   "metadata": {},
   "source": [
    "When a function calls itself repeatedly."
   ]
  },
  {
   "cell_type": "code",
   "execution_count": 3,
   "id": "253e4d7b-a7fe-4e55-a2f5-cfe45441f464",
   "metadata": {},
   "outputs": [
    {
     "name": "stdout",
     "output_type": "stream",
     "text": [
      "5\n",
      "4\n",
      "3\n",
      "2\n",
      "1\n"
     ]
    }
   ],
   "source": [
    "# Recursive Function\n",
    "def show(n):\n",
    "    if(n==0):   # base case  & it is like stop case\n",
    "        return\n",
    "\n",
    "    print(n)   # if want print 5,4,3,2,1\n",
    "    show(n-1)  # n=5,n-1=4,n-2=3,n-4=2,1\n",
    "\n",
    "show(5)"
   ]
  },
  {
   "cell_type": "markdown",
   "id": "770f429c-8bb5-4fc9-93b1-b3381dd12a81",
   "metadata": {},
   "source": [
    "recursion like loops"
   ]
  },
  {
   "cell_type": "code",
   "execution_count": 12,
   "id": "0d7c5666-8242-4532-89a1-02feada8a4c8",
   "metadata": {},
   "outputs": [
    {
     "name": "stdout",
     "output_type": "stream",
     "text": [
      "5\n",
      "4\n",
      "3\n",
      "2\n",
      "1\n",
      "end\n",
      "end\n",
      "end\n",
      "end\n",
      "end\n"
     ]
    }
   ],
   "source": [
    "# Recursive Function\n",
    "def show(n):\n",
    "    if(n==0):   # base case  & it is like stop case\n",
    "        return\n",
    "\n",
    "    print(n)   # if want print 5,4,3,2,1\n",
    "    show(n-1)  # n=5,n-1=4,n-2=3,n-4=2,1\n",
    "    print(\"end\")\n",
    "show(5)"
   ]
  },
  {
   "cell_type": "markdown",
   "id": "0ebc8ca5-4d61-4bd4-b469-006d0fc504e1",
   "metadata": {},
   "source": [
    "## Factorial"
   ]
  },
  {
   "cell_type": "code",
   "execution_count": 20,
   "id": "c38ec2e0-115b-4a62-8b02-e81e97d8abdf",
   "metadata": {},
   "outputs": [
    {
     "name": "stdout",
     "output_type": "stream",
     "text": [
      "720\n"
     ]
    }
   ],
   "source": [
    "def fact(n):\n",
    "    if(n==1 or n==0):\n",
    "        return 1\n",
    "    return fact(n-1)*n\n",
    "    \n",
    "\n",
    "print(fact(6))"
   ]
  },
  {
   "cell_type": "code",
   "execution_count": 24,
   "id": "4b92a87d-eb4c-4bb0-830e-be4f86ec2836",
   "metadata": {},
   "outputs": [
    {
     "name": "stdout",
     "output_type": "stream",
     "text": [
      "2\n",
      "6\n",
      "24\n",
      "120\n",
      "720\n",
      "720\n"
     ]
    }
   ],
   "source": [
    "def fact(n):\n",
    "    if(n==1 or n==0):\n",
    "        return 1\n",
    "    x=fact(n-1)*n\n",
    "    print(x)\n",
    "    return x\n",
    "    \n",
    "\n",
    "print(fact(6))"
   ]
  },
  {
   "cell_type": "markdown",
   "id": "062b2e64-0eec-4f44-a59d-8fbd03a5a2b6",
   "metadata": {},
   "source": [
    "## Q.Write a recursive function to calculate the sum of first n natural numbers. "
   ]
  },
  {
   "cell_type": "code",
   "execution_count": 29,
   "id": "f0ffed55-936e-4d30-afc1-3fcd8a6dcee8",
   "metadata": {},
   "outputs": [
    {
     "name": "stdout",
     "output_type": "stream",
     "text": [
      "55\n"
     ]
    }
   ],
   "source": [
    "def cal_sum(n):\n",
    "    if(n==0):\n",
    "        return 0\n",
    "    return cal_sum(n-1)+n\n",
    "\n",
    "sum=cal_sum(10)\n",
    "print(sum)"
   ]
  },
  {
   "cell_type": "markdown",
   "id": "49429c26-f3c3-4617-a465-1eb83e9c0369",
   "metadata": {},
   "source": [
    "### Q. Write a recursive function to print all elements in a list.Hint : use list & index as parameters."
   ]
  },
  {
   "cell_type": "code",
   "execution_count": 32,
   "id": "e889dbce-8e98-4fd2-b254-c2d09b6e87db",
   "metadata": {},
   "outputs": [
    {
     "name": "stdout",
     "output_type": "stream",
     "text": [
      "mango\n",
      "apple\n",
      "litchi\n",
      "banana\n"
     ]
    }
   ],
   "source": [
    "def print_list(list,idx=0):\n",
    "    if(idx==len(list)):\n",
    "        return\n",
    "    print(list[idx])\n",
    "    print_list(list,idx+1)\n",
    "fruits=[\"mango\",\"apple\",\"litchi\",\"banana\"]\n",
    "print_list(fruits)"
   ]
  },
  {
   "cell_type": "code",
   "execution_count": null,
   "id": "51480403-b430-4c1c-ba1c-2ddb7517a8f2",
   "metadata": {},
   "outputs": [],
   "source": []
  }
 ],
 "metadata": {
  "kernelspec": {
   "display_name": "Python 3 (ipykernel)",
   "language": "python",
   "name": "python3"
  },
  "language_info": {
   "codemirror_mode": {
    "name": "ipython",
    "version": 3
   },
   "file_extension": ".py",
   "mimetype": "text/x-python",
   "name": "python",
   "nbconvert_exporter": "python",
   "pygments_lexer": "ipython3",
   "version": "3.12.4"
  }
 },
 "nbformat": 4,
 "nbformat_minor": 5
}
